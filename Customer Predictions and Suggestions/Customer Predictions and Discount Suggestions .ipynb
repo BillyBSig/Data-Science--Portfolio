{
 "cells": [
  {
   "cell_type": "markdown",
   "id": "bdcb2b3a-de4c-4aa8-88e3-3ac8f8a203ac",
   "metadata": {},
   "source": [
    "# <center> Customer Predictions and Discount Suggestions <center>   "
   ]
  },
  {
   "cell_type": "markdown",
   "id": "c59c7593-d123-4937-93e4-9105d770a549",
   "metadata": {},
   "source": [
    "---\n",
    "---"
   ]
  },
  {
   "cell_type": "markdown",
   "id": "f9d8fae6-66a4-41d2-b228-00b7e2d6e3a5",
   "metadata": {},
   "source": [
    "## Project Goal\n",
    "---\n",
    "   Hasil uji test covid dapat menjadi gambaran seberapa besar kebutuhan test covid dulakuan oleh masyarakat. Semakin besar angka positif covid 19 dalam suatu wilayah akan menjadi perhatian bagi masyarakan dan pemerintah terhadap wilayah tersebut. Lebih lanjut kebutuhan test covid 19 akan menjadi semakin meningkat. Uji test covid bukan lagi menjadi syarat administrasi dalam kegiatan masyarakat, tetapi dapat menjadi suatu kewajiban mengingat hasil positif covid sangat signifikan.\n",
    "   \n",
    "Project ini akan mencari model klasifikasi dari data ClinicAcov untuk memprediksi hasil uji test Covid 19. Model klasifikasi yang didapat selanjutnya akan dilakukan prediksi dengan kombinasi karakteristik setiap cabang/Wilayah. Hasil prediksi tiap cabang akan menjadi gambaran untuk mengetahui potensi customer yang akan memiliki hasil positive test Covid 19. \n",
    "\n",
    "Dengan mengetahui potensi dan prediksi hasil test covid 19, ClinicAcov dapat mengetahui Package mana yang sebaiknya ditawarkan, hari apa saja yang menjadi potensi, dan tanggal berapa saja customer dengan hasil test covid positive dapat melakukan test dalam tiap cabang. Salah satu penerapan atas hasil prediksi ini adalah ClinicAcov dapat memberikan diskon yang tepat sasaran kepada customer dengan syarat dan ketentuan berdasarkan kombinasi karakteristik tiap cabang.\n",
    "\n",
    "---"
   ]
  },
  {
   "cell_type": "code",
   "execution_count": 1,
   "id": "e7f8a450-2838-473f-89aa-995d9cf63f62",
   "metadata": {},
   "outputs": [],
   "source": [
    "import pandas as pd\n",
    "import numpy as np\n",
    "import matplotlib.pyplot as plt\n",
    "import seaborn as sns\n",
    "import warnings\n",
    "warnings.filterwarnings('ignore')"
   ]
  },
  {
   "cell_type": "code",
   "execution_count": 2,
   "id": "42653351-f037-4bf8-b036-fc8a3c89f08a",
   "metadata": {},
   "outputs": [],
   "source": [
    "df = pd.read_excel('ClinicACov.xlsx')"
   ]
  },
  {
   "cell_type": "code",
   "execution_count": 3,
   "id": "2f4ff13a-5190-4292-845d-f5c991972da6",
   "metadata": {},
   "outputs": [
    {
     "data": {
      "text/html": [
       "<div>\n",
       "<style scoped>\n",
       "    .dataframe tbody tr th:only-of-type {\n",
       "        vertical-align: middle;\n",
       "    }\n",
       "\n",
       "    .dataframe tbody tr th {\n",
       "        vertical-align: top;\n",
       "    }\n",
       "\n",
       "    .dataframe thead th {\n",
       "        text-align: right;\n",
       "    }\n",
       "</style>\n",
       "<table border=\"1\" class=\"dataframe\">\n",
       "  <thead>\n",
       "    <tr style=\"text-align: right;\">\n",
       "      <th></th>\n",
       "      <th>TrxNumber</th>\n",
       "      <th>TrxType</th>\n",
       "      <th>Branch</th>\n",
       "      <th>Package</th>\n",
       "      <th>PatientBirthDate</th>\n",
       "      <th>PatientGender</th>\n",
       "      <th>PromoCode</th>\n",
       "      <th>GrandTotal</th>\n",
       "      <th>TotalDiscount</th>\n",
       "      <th>AdminFee</th>\n",
       "      <th>TotalAmount</th>\n",
       "      <th>OrderCreated</th>\n",
       "      <th>MedicalResult</th>\n",
       "    </tr>\n",
       "  </thead>\n",
       "  <tbody>\n",
       "    <tr>\n",
       "      <th>0</th>\n",
       "      <td>1389414778136428544</td>\n",
       "      <td>on ClinicACov stand</td>\n",
       "      <td>ClinicACov Cikarang Selatan</td>\n",
       "      <td>Swab Antigen on ClinicACov stand (Result in 30...</td>\n",
       "      <td>1997-12-11</td>\n",
       "      <td>f</td>\n",
       "      <td>-</td>\n",
       "      <td>199000</td>\n",
       "      <td>0</td>\n",
       "      <td>3000</td>\n",
       "      <td>202000</td>\n",
       "      <td>2021-05-04 10:01:11</td>\n",
       "      <td>Negative</td>\n",
       "    </tr>\n",
       "    <tr>\n",
       "      <th>1</th>\n",
       "      <td>1389414778136428544</td>\n",
       "      <td>on ClinicACov stand</td>\n",
       "      <td>ClinicACov Cikarang Selatan</td>\n",
       "      <td>Swab Antigen on ClinicACov stand (Result in 30...</td>\n",
       "      <td>1997-12-11</td>\n",
       "      <td>f</td>\n",
       "      <td>-</td>\n",
       "      <td>199000</td>\n",
       "      <td>0</td>\n",
       "      <td>3000</td>\n",
       "      <td>202000</td>\n",
       "      <td>2021-05-04 10:01:11</td>\n",
       "      <td>Negative</td>\n",
       "    </tr>\n",
       "    <tr>\n",
       "      <th>2</th>\n",
       "      <td>1389442470126813184</td>\n",
       "      <td>on ClinicACov stand</td>\n",
       "      <td>ClinicACov Cikarang Selatan</td>\n",
       "      <td>Swab Antigen on ClinicACov stand (Result in 30...</td>\n",
       "      <td>1998-08-17</td>\n",
       "      <td>m</td>\n",
       "      <td>-</td>\n",
       "      <td>199000</td>\n",
       "      <td>0</td>\n",
       "      <td>3000</td>\n",
       "      <td>202000</td>\n",
       "      <td>2021-05-04 11:51:14</td>\n",
       "      <td>Negative</td>\n",
       "    </tr>\n",
       "    <tr>\n",
       "      <th>3</th>\n",
       "      <td>1389442470126813184</td>\n",
       "      <td>on ClinicACov stand</td>\n",
       "      <td>ClinicACov Cikarang Selatan</td>\n",
       "      <td>Swab Antigen on ClinicACov stand (Result in 30...</td>\n",
       "      <td>1998-08-17</td>\n",
       "      <td>m</td>\n",
       "      <td>-</td>\n",
       "      <td>199000</td>\n",
       "      <td>0</td>\n",
       "      <td>3000</td>\n",
       "      <td>202000</td>\n",
       "      <td>2021-05-04 11:51:14</td>\n",
       "      <td>Positive</td>\n",
       "    </tr>\n",
       "    <tr>\n",
       "      <th>4</th>\n",
       "      <td>1389589423187820544</td>\n",
       "      <td>on ClinicACov stand</td>\n",
       "      <td>ClinicACov Cikarang Selatan</td>\n",
       "      <td>Swab Antigen on ClinicACov stand (Result in 30...</td>\n",
       "      <td>1987-03-06</td>\n",
       "      <td>f</td>\n",
       "      <td>-</td>\n",
       "      <td>199000</td>\n",
       "      <td>0</td>\n",
       "      <td>2850</td>\n",
       "      <td>201850</td>\n",
       "      <td>2021-05-04 21:35:10</td>\n",
       "      <td>Negative</td>\n",
       "    </tr>\n",
       "  </tbody>\n",
       "</table>\n",
       "</div>"
      ],
      "text/plain": [
       "             TrxNumber              TrxType                       Branch  \\\n",
       "0  1389414778136428544  on ClinicACov stand  ClinicACov Cikarang Selatan   \n",
       "1  1389414778136428544  on ClinicACov stand  ClinicACov Cikarang Selatan   \n",
       "2  1389442470126813184  on ClinicACov stand  ClinicACov Cikarang Selatan   \n",
       "3  1389442470126813184  on ClinicACov stand  ClinicACov Cikarang Selatan   \n",
       "4  1389589423187820544  on ClinicACov stand  ClinicACov Cikarang Selatan   \n",
       "\n",
       "                                             Package PatientBirthDate  \\\n",
       "0  Swab Antigen on ClinicACov stand (Result in 30...       1997-12-11   \n",
       "1  Swab Antigen on ClinicACov stand (Result in 30...       1997-12-11   \n",
       "2  Swab Antigen on ClinicACov stand (Result in 30...       1998-08-17   \n",
       "3  Swab Antigen on ClinicACov stand (Result in 30...       1998-08-17   \n",
       "4  Swab Antigen on ClinicACov stand (Result in 30...       1987-03-06   \n",
       "\n",
       "  PatientGender PromoCode  GrandTotal  TotalDiscount  AdminFee  TotalAmount  \\\n",
       "0             f         -      199000              0      3000       202000   \n",
       "1             f         -      199000              0      3000       202000   \n",
       "2             m         -      199000              0      3000       202000   \n",
       "3             m         -      199000              0      3000       202000   \n",
       "4             f         -      199000              0      2850       201850   \n",
       "\n",
       "         OrderCreated MedicalResult  \n",
       "0 2021-05-04 10:01:11      Negative  \n",
       "1 2021-05-04 10:01:11      Negative  \n",
       "2 2021-05-04 11:51:14      Negative  \n",
       "3 2021-05-04 11:51:14      Positive  \n",
       "4 2021-05-04 21:35:10      Negative  "
      ]
     },
     "execution_count": 3,
     "metadata": {},
     "output_type": "execute_result"
    }
   ],
   "source": [
    "df.head()"
   ]
  },
  {
   "cell_type": "code",
   "execution_count": 4,
   "id": "5fb6442e-46e7-409b-9ac1-13c493d30713",
   "metadata": {},
   "outputs": [
    {
     "name": "stdout",
     "output_type": "stream",
     "text": [
      "<class 'pandas.core.frame.DataFrame'>\n",
      "RangeIndex: 1000 entries, 0 to 999\n",
      "Data columns (total 13 columns):\n",
      " #   Column            Non-Null Count  Dtype         \n",
      "---  ------            --------------  -----         \n",
      " 0   TrxNumber         1000 non-null   int64         \n",
      " 1   TrxType           1000 non-null   object        \n",
      " 2   Branch            1000 non-null   object        \n",
      " 3   Package           1000 non-null   object        \n",
      " 4   PatientBirthDate  1000 non-null   datetime64[ns]\n",
      " 5   PatientGender     1000 non-null   object        \n",
      " 6   PromoCode         1000 non-null   object        \n",
      " 7   GrandTotal        1000 non-null   int64         \n",
      " 8   TotalDiscount     1000 non-null   int64         \n",
      " 9   AdminFee          1000 non-null   int64         \n",
      " 10  TotalAmount       1000 non-null   int64         \n",
      " 11  OrderCreated      1000 non-null   datetime64[ns]\n",
      " 12  MedicalResult     1000 non-null   object        \n",
      "dtypes: datetime64[ns](2), int64(5), object(6)\n",
      "memory usage: 101.7+ KB\n"
     ]
    }
   ],
   "source": [
    "df.info()"
   ]
  },
  {
   "cell_type": "code",
   "execution_count": 5,
   "id": "344f9771-66b3-425a-8a28-1acbb3fef014",
   "metadata": {},
   "outputs": [
    {
     "data": {
      "text/html": [
       "<div>\n",
       "<style scoped>\n",
       "    .dataframe tbody tr th:only-of-type {\n",
       "        vertical-align: middle;\n",
       "    }\n",
       "\n",
       "    .dataframe tbody tr th {\n",
       "        vertical-align: top;\n",
       "    }\n",
       "\n",
       "    .dataframe thead th {\n",
       "        text-align: right;\n",
       "    }\n",
       "</style>\n",
       "<table border=\"1\" class=\"dataframe\">\n",
       "  <thead>\n",
       "    <tr style=\"text-align: right;\">\n",
       "      <th></th>\n",
       "      <th>TrxNumber</th>\n",
       "      <th>GrandTotal</th>\n",
       "      <th>TotalDiscount</th>\n",
       "      <th>AdminFee</th>\n",
       "      <th>TotalAmount</th>\n",
       "    </tr>\n",
       "  </thead>\n",
       "  <tbody>\n",
       "    <tr>\n",
       "      <th>count</th>\n",
       "      <td>1.000000e+03</td>\n",
       "      <td>1.000000e+03</td>\n",
       "      <td>1000.000000</td>\n",
       "      <td>1000.000000</td>\n",
       "      <td>1.000000e+03</td>\n",
       "    </tr>\n",
       "    <tr>\n",
       "      <th>mean</th>\n",
       "      <td>1.400462e+18</td>\n",
       "      <td>7.662540e+05</td>\n",
       "      <td>3718.650000</td>\n",
       "      <td>3632.631000</td>\n",
       "      <td>7.661680e+05</td>\n",
       "    </tr>\n",
       "    <tr>\n",
       "      <th>std</th>\n",
       "      <td>5.940340e+15</td>\n",
       "      <td>7.264953e+05</td>\n",
       "      <td>29026.425513</td>\n",
       "      <td>4236.162801</td>\n",
       "      <td>7.263984e+05</td>\n",
       "    </tr>\n",
       "    <tr>\n",
       "      <th>min</th>\n",
       "      <td>1.388025e+18</td>\n",
       "      <td>1.990000e+05</td>\n",
       "      <td>0.000000</td>\n",
       "      <td>0.000000</td>\n",
       "      <td>1.720000e+05</td>\n",
       "    </tr>\n",
       "    <tr>\n",
       "      <th>25%</th>\n",
       "      <td>1.395276e+18</td>\n",
       "      <td>3.980000e+05</td>\n",
       "      <td>0.000000</td>\n",
       "      <td>2850.000000</td>\n",
       "      <td>4.008500e+05</td>\n",
       "    </tr>\n",
       "    <tr>\n",
       "      <th>50%</th>\n",
       "      <td>1.398494e+18</td>\n",
       "      <td>5.970000e+05</td>\n",
       "      <td>0.000000</td>\n",
       "      <td>2850.000000</td>\n",
       "      <td>5.998500e+05</td>\n",
       "    </tr>\n",
       "    <tr>\n",
       "      <th>75%</th>\n",
       "      <td>1.406808e+18</td>\n",
       "      <td>7.960000e+05</td>\n",
       "      <td>0.000000</td>\n",
       "      <td>2850.000000</td>\n",
       "      <td>8.204770e+05</td>\n",
       "    </tr>\n",
       "    <tr>\n",
       "      <th>max</th>\n",
       "      <td>1.406998e+18</td>\n",
       "      <td>3.596000e+06</td>\n",
       "      <td>300000.000000</td>\n",
       "      <td>26250.000000</td>\n",
       "      <td>3.598850e+06</td>\n",
       "    </tr>\n",
       "  </tbody>\n",
       "</table>\n",
       "</div>"
      ],
      "text/plain": [
       "          TrxNumber    GrandTotal  TotalDiscount      AdminFee   TotalAmount\n",
       "count  1.000000e+03  1.000000e+03    1000.000000   1000.000000  1.000000e+03\n",
       "mean   1.400462e+18  7.662540e+05    3718.650000   3632.631000  7.661680e+05\n",
       "std    5.940340e+15  7.264953e+05   29026.425513   4236.162801  7.263984e+05\n",
       "min    1.388025e+18  1.990000e+05       0.000000      0.000000  1.720000e+05\n",
       "25%    1.395276e+18  3.980000e+05       0.000000   2850.000000  4.008500e+05\n",
       "50%    1.398494e+18  5.970000e+05       0.000000   2850.000000  5.998500e+05\n",
       "75%    1.406808e+18  7.960000e+05       0.000000   2850.000000  8.204770e+05\n",
       "max    1.406998e+18  3.596000e+06  300000.000000  26250.000000  3.598850e+06"
      ]
     },
     "execution_count": 5,
     "metadata": {},
     "output_type": "execute_result"
    }
   ],
   "source": [
    "df.describe()"
   ]
  },
  {
   "cell_type": "code",
   "execution_count": 6,
   "id": "4cef2eaa-df0d-4f25-885c-95ef76b8d88e",
   "metadata": {
    "scrolled": true,
    "tags": []
   },
   "outputs": [
    {
     "name": "stdout",
     "output_type": "stream",
     "text": [
      "TrxType\n",
      "Jumlah unique = 2\n",
      "['on ClinicACov stand' 'client home'] \n",
      "\n",
      "Branch\n",
      "Jumlah unique = 8\n",
      "['ClinicACov Cikarang Selatan' 'ClinicACov Cikarang Pusat'\n",
      " 'ClinicACov Cileungsi' 'ClinicACov Bekasi Timur'\n",
      " 'ClinicACov Bekasi Selatan' 'ClinicACov Margonda' 'ClinicACov Cibubur'\n",
      " 'ClinicACov Cikarang Utara'] \n",
      "\n",
      "Package\n",
      "Jumlah unique = 4\n",
      "['Swab Antigen on ClinicACov stand (Result in 30Minutes)'\n",
      " 'Swab PCR on ClinicACov stand (Result in 1x24Hours)'\n",
      " 'Swab PCR Client Home (Result in D+1)'\n",
      " 'Swab Antigen Client Home (Result in 30Minutes)'] \n",
      "\n",
      "PatientGender\n",
      "Jumlah unique = 2\n",
      "['f' 'm'] \n",
      "\n",
      "PromoCode\n",
      "Jumlah unique = 3\n",
      "['-' 'ANTIGENCLINICACOVHOME3' 'CLINICACOV15'] \n",
      "\n",
      "TotalDiscount\n",
      "Jumlah unique = 4\n",
      "[     0 300000  29850  50000] \n",
      "\n",
      "AdminFee\n",
      "Jumlah unique = 8\n",
      "[ 3000  2850 26250  3850     0 24477  4975  9950] \n",
      "\n",
      "MedicalResult\n",
      "Jumlah unique = 2\n",
      "['Negative' 'Positive'] \n",
      "\n"
     ]
    }
   ],
   "source": [
    "for n in df[['TrxType', 'Branch', 'Package','PatientGender', 'PromoCode', 'TotalDiscount', \n",
    "             'AdminFee', 'MedicalResult']].columns:\n",
    "    print(n)\n",
    "    print(f'Jumlah unique = {df[n].nunique()}')\n",
    "    print(f\"{df[n].unique()} \\n\")"
   ]
  },
  {
   "cell_type": "code",
   "execution_count": 7,
   "id": "1c62063e-d327-4a9f-aa47-bfe9ea164c5c",
   "metadata": {},
   "outputs": [
    {
     "data": {
      "text/plain": [
       "TrxNumber           0\n",
       "TrxType             0\n",
       "Branch              0\n",
       "Package             0\n",
       "PatientBirthDate    0\n",
       "PatientGender       0\n",
       "PromoCode           0\n",
       "GrandTotal          0\n",
       "TotalDiscount       0\n",
       "AdminFee            0\n",
       "TotalAmount         0\n",
       "OrderCreated        0\n",
       "MedicalResult       0\n",
       "dtype: int64"
      ]
     },
     "execution_count": 7,
     "metadata": {},
     "output_type": "execute_result"
    }
   ],
   "source": [
    "df.isnull().sum()"
   ]
  },
  {
   "cell_type": "markdown",
   "id": "c5713408-f7c8-45e2-9578-877a4c4b7594",
   "metadata": {},
   "source": [
    "## Exploring Data Analysis"
   ]
  },
  {
   "cell_type": "markdown",
   "id": "1ea0f6c7-f043-4b71-882b-17578868f850",
   "metadata": {},
   "source": [
    "### Duplicate Check"
   ]
  },
  {
   "cell_type": "code",
   "execution_count": 8,
   "id": "7b99e2c8-3555-4dd0-8cb3-e59d1bfdc15d",
   "metadata": {},
   "outputs": [
    {
     "name": "stdout",
     "output_type": "stream",
     "text": [
      "<class 'pandas.core.frame.DataFrame'>\n",
      "Int64Index: 592 entries, 0 to 998\n",
      "Data columns (total 13 columns):\n",
      " #   Column            Non-Null Count  Dtype         \n",
      "---  ------            --------------  -----         \n",
      " 0   TrxNumber         592 non-null    int64         \n",
      " 1   TrxType           592 non-null    object        \n",
      " 2   Branch            592 non-null    object        \n",
      " 3   Package           592 non-null    object        \n",
      " 4   PatientBirthDate  592 non-null    datetime64[ns]\n",
      " 5   PatientGender     592 non-null    object        \n",
      " 6   PromoCode         592 non-null    object        \n",
      " 7   GrandTotal        592 non-null    int64         \n",
      " 8   TotalDiscount     592 non-null    int64         \n",
      " 9   AdminFee          592 non-null    int64         \n",
      " 10  TotalAmount       592 non-null    int64         \n",
      " 11  OrderCreated      592 non-null    datetime64[ns]\n",
      " 12  MedicalResult     592 non-null    object        \n",
      "dtypes: datetime64[ns](2), int64(5), object(6)\n",
      "memory usage: 64.8+ KB\n"
     ]
    }
   ],
   "source": [
    "df[df.duplicated(keep = 'last')].info()"
   ]
  },
  {
   "cell_type": "code",
   "execution_count": 9,
   "id": "c4155acf-20da-4ab8-950b-0f78d2e3325c",
   "metadata": {},
   "outputs": [
    {
     "data": {
      "text/html": [
       "<div>\n",
       "<style scoped>\n",
       "    .dataframe tbody tr th:only-of-type {\n",
       "        vertical-align: middle;\n",
       "    }\n",
       "\n",
       "    .dataframe tbody tr th {\n",
       "        vertical-align: top;\n",
       "    }\n",
       "\n",
       "    .dataframe thead th {\n",
       "        text-align: right;\n",
       "    }\n",
       "</style>\n",
       "<table border=\"1\" class=\"dataframe\">\n",
       "  <thead>\n",
       "    <tr style=\"text-align: right;\">\n",
       "      <th></th>\n",
       "      <th>TrxNumber</th>\n",
       "      <th>TrxType</th>\n",
       "      <th>Branch</th>\n",
       "      <th>Package</th>\n",
       "      <th>PatientBirthDate</th>\n",
       "      <th>PatientGender</th>\n",
       "      <th>PromoCode</th>\n",
       "      <th>GrandTotal</th>\n",
       "      <th>TotalDiscount</th>\n",
       "      <th>AdminFee</th>\n",
       "      <th>TotalAmount</th>\n",
       "      <th>OrderCreated</th>\n",
       "      <th>MedicalResult</th>\n",
       "    </tr>\n",
       "  </thead>\n",
       "  <tbody>\n",
       "    <tr>\n",
       "      <th>0</th>\n",
       "      <td>1389414778136428544</td>\n",
       "      <td>on ClinicACov stand</td>\n",
       "      <td>ClinicACov Cikarang Selatan</td>\n",
       "      <td>Swab Antigen on ClinicACov stand (Result in 30...</td>\n",
       "      <td>1997-12-11</td>\n",
       "      <td>f</td>\n",
       "      <td>-</td>\n",
       "      <td>199000</td>\n",
       "      <td>0</td>\n",
       "      <td>3000</td>\n",
       "      <td>202000</td>\n",
       "      <td>2021-05-04 10:01:11</td>\n",
       "      <td>Negative</td>\n",
       "    </tr>\n",
       "    <tr>\n",
       "      <th>2</th>\n",
       "      <td>1389442470126813184</td>\n",
       "      <td>on ClinicACov stand</td>\n",
       "      <td>ClinicACov Cikarang Selatan</td>\n",
       "      <td>Swab Antigen on ClinicACov stand (Result in 30...</td>\n",
       "      <td>1998-08-17</td>\n",
       "      <td>m</td>\n",
       "      <td>-</td>\n",
       "      <td>199000</td>\n",
       "      <td>0</td>\n",
       "      <td>3000</td>\n",
       "      <td>202000</td>\n",
       "      <td>2021-05-04 11:51:14</td>\n",
       "      <td>Negative</td>\n",
       "    </tr>\n",
       "    <tr>\n",
       "      <th>3</th>\n",
       "      <td>1389442470126813184</td>\n",
       "      <td>on ClinicACov stand</td>\n",
       "      <td>ClinicACov Cikarang Selatan</td>\n",
       "      <td>Swab Antigen on ClinicACov stand (Result in 30...</td>\n",
       "      <td>1998-08-17</td>\n",
       "      <td>m</td>\n",
       "      <td>-</td>\n",
       "      <td>199000</td>\n",
       "      <td>0</td>\n",
       "      <td>3000</td>\n",
       "      <td>202000</td>\n",
       "      <td>2021-05-04 11:51:14</td>\n",
       "      <td>Positive</td>\n",
       "    </tr>\n",
       "    <tr>\n",
       "      <th>4</th>\n",
       "      <td>1389589423187820544</td>\n",
       "      <td>on ClinicACov stand</td>\n",
       "      <td>ClinicACov Cikarang Selatan</td>\n",
       "      <td>Swab Antigen on ClinicACov stand (Result in 30...</td>\n",
       "      <td>1987-03-06</td>\n",
       "      <td>f</td>\n",
       "      <td>-</td>\n",
       "      <td>199000</td>\n",
       "      <td>0</td>\n",
       "      <td>2850</td>\n",
       "      <td>201850</td>\n",
       "      <td>2021-05-04 21:35:10</td>\n",
       "      <td>Negative</td>\n",
       "    </tr>\n",
       "    <tr>\n",
       "      <th>5</th>\n",
       "      <td>1389494356792049664</td>\n",
       "      <td>on ClinicACov stand</td>\n",
       "      <td>ClinicACov Cikarang Pusat</td>\n",
       "      <td>Swab Antigen on ClinicACov stand (Result in 30...</td>\n",
       "      <td>1977-10-17</td>\n",
       "      <td>m</td>\n",
       "      <td>-</td>\n",
       "      <td>796000</td>\n",
       "      <td>0</td>\n",
       "      <td>2850</td>\n",
       "      <td>798850</td>\n",
       "      <td>2021-05-04 15:17:24</td>\n",
       "      <td>Negative</td>\n",
       "    </tr>\n",
       "  </tbody>\n",
       "</table>\n",
       "</div>"
      ],
      "text/plain": [
       "             TrxNumber              TrxType                       Branch  \\\n",
       "0  1389414778136428544  on ClinicACov stand  ClinicACov Cikarang Selatan   \n",
       "2  1389442470126813184  on ClinicACov stand  ClinicACov Cikarang Selatan   \n",
       "3  1389442470126813184  on ClinicACov stand  ClinicACov Cikarang Selatan   \n",
       "4  1389589423187820544  on ClinicACov stand  ClinicACov Cikarang Selatan   \n",
       "5  1389494356792049664  on ClinicACov stand    ClinicACov Cikarang Pusat   \n",
       "\n",
       "                                             Package PatientBirthDate  \\\n",
       "0  Swab Antigen on ClinicACov stand (Result in 30...       1997-12-11   \n",
       "2  Swab Antigen on ClinicACov stand (Result in 30...       1998-08-17   \n",
       "3  Swab Antigen on ClinicACov stand (Result in 30...       1998-08-17   \n",
       "4  Swab Antigen on ClinicACov stand (Result in 30...       1987-03-06   \n",
       "5  Swab Antigen on ClinicACov stand (Result in 30...       1977-10-17   \n",
       "\n",
       "  PatientGender PromoCode  GrandTotal  TotalDiscount  AdminFee  TotalAmount  \\\n",
       "0             f         -      199000              0      3000       202000   \n",
       "2             m         -      199000              0      3000       202000   \n",
       "3             m         -      199000              0      3000       202000   \n",
       "4             f         -      199000              0      2850       201850   \n",
       "5             m         -      796000              0      2850       798850   \n",
       "\n",
       "         OrderCreated MedicalResult  \n",
       "0 2021-05-04 10:01:11      Negative  \n",
       "2 2021-05-04 11:51:14      Negative  \n",
       "3 2021-05-04 11:51:14      Positive  \n",
       "4 2021-05-04 21:35:10      Negative  \n",
       "5 2021-05-04 15:17:24      Negative  "
      ]
     },
     "execution_count": 9,
     "metadata": {},
     "output_type": "execute_result"
    }
   ],
   "source": [
    "# Drop data duplocate\n",
    "df = df.drop_duplicates()\n",
    "df.head()"
   ]
  },
  {
   "cell_type": "code",
   "execution_count": 10,
   "id": "d1326ea8-8367-4b2d-8d7e-2829daaad9af",
   "metadata": {},
   "outputs": [
    {
     "name": "stdout",
     "output_type": "stream",
     "text": [
      "Negative    371\n",
      "Positive     37\n",
      "Name: MedicalResult, dtype: int64\n"
     ]
    },
    {
     "data": {
      "text/plain": [
       "<AxesSubplot:xlabel='MedicalResult', ylabel='count'>"
      ]
     },
     "execution_count": 10,
     "metadata": {},
     "output_type": "execute_result"
    },
    {
     "data": {
      "image/png": "[encoded data removed]",
      "text/plain": [
       "<Figure size 432x288 with 1 Axes>"
      ]
     },
     "metadata": {
      "needs_background": "light"
     },
     "output_type": "display_data"
    }
   ],
   "source": [
    "print(df['MedicalResult'].value_counts())\n",
    "sns.countplot(data=df, x='MedicalResult', palette='Set2')\n",
    "#plt.savefig('MedicalResult', bbox_inches='tight')"
   ]
  },
  {
   "cell_type": "markdown",
   "id": "a780d60d-5663-4d90-88f9-7ebbe974cd20",
   "metadata": {},
   "source": [
    "-  Label Positive pada variabel MedicalResult hanya 9% dari keseluruhan hasil MedicalResult"
   ]
  },
  {
   "cell_type": "markdown",
   "id": "7f0e71a6-1e8e-4be5-bfe1-ad49777b3842",
   "metadata": {},
   "source": [
    "### Branch"
   ]
  },
  {
   "cell_type": "code",
   "execution_count": 11,
   "id": "7a59b10f-a42a-471d-a53f-5e901de41b44",
   "metadata": {},
   "outputs": [
    {
     "name": "stdout",
     "output_type": "stream",
     "text": [
      "ClinicACov Cikarang Pusat      242\n",
      "ClinicACov Cikarang Selatan     59\n",
      "ClinicACov Bekasi Timur         58\n",
      "ClinicACov Cileungsi            24\n",
      "ClinicACov Margonda             13\n",
      "ClinicACov Bekasi Selatan        6\n",
      "ClinicACov Cibubur               4\n",
      "ClinicACov Cikarang Utara        2\n",
      "Name: Branch, dtype: int64\n"
     ]
    },
    {
     "data": {
      "image/png": "[encoded data removed]",
      "text/plain": [
       "<Figure size 2400x1400 with 1 Axes>"
      ]
     },
     "metadata": {
      "needs_background": "light"
     },
     "output_type": "display_data"
    }
   ],
   "source": [
    "# Branch value counts\n",
    "print(df['Branch'].value_counts())\n",
    "# Countplot branch berdasarkan  Medical result\n",
    "plt.figure(figsize=(12,7), dpi=200)\n",
    "sns.countplot(data=df, x='Branch', hue='MedicalResult', palette='hls')\n",
    "plt.xticks(rotation=90);\n",
    "#plt.savefig('Branch Countplot', bbox_inches='tight')"
   ]
  },
  {
   "cell_type": "markdown",
   "id": "32ac519b-1208-4fd9-aa9e-a8b1a4a768d1",
   "metadata": {},
   "source": [
    "- Branch dengan customer terbanyak adalah Branch ClinicACov Cikarang Pusat, Branch ini juga memiliki angka customer dengan hasil test positif terbanyak\n",
    "- Branch ClinicACov Cibubur dan ClinicACov Cikarang Utara adalah Branch dengan customer paling sedikit dan tidak memiliki hasil test Positive."
   ]
  },
  {
   "cell_type": "markdown",
   "id": "cfa1825a-9d74-4348-bbcc-5daebfcc01db",
   "metadata": {},
   "source": [
    "### Package"
   ]
  },
  {
   "cell_type": "code",
   "execution_count": 12,
   "id": "7f69d277-bfa3-4906-8107-9be272df4772",
   "metadata": {},
   "outputs": [
    {
     "name": "stdout",
     "output_type": "stream",
     "text": [
      "Swab Antigen on ClinicACov stand (Result in 30Minutes)    346\n",
      "Swab PCR on ClinicACov stand (Result in 1x24Hours)         36\n",
      "Swab Antigen Client Home (Result in 30Minutes)             15\n",
      "Swab PCR Client Home (Result in D+1)                       11\n",
      "Name: Package, dtype: int64\n"
     ]
    },
    {
     "data": {
      "image/png": "[encoded data removed]",
      "text/plain": [
       "<Figure size 1800x750 with 1 Axes>"
      ]
     },
     "metadata": {
      "needs_background": "light"
     },
     "output_type": "display_data"
    }
   ],
   "source": [
    "# Package value counts\n",
    "print(df['Package'].value_counts())\n",
    "# Countplot Package berdasarkan  Medical result\n",
    "plt.figure(figsize=(12,5), dpi=150)\n",
    "sns.countplot(data=df, x='Package', hue='MedicalResult', palette='hls')\n",
    "plt.xticks(rotation=90);\n",
    "#plt.savefig('Package Countplot', bbox_inches='tight')"
   ]
  },
  {
   "cell_type": "markdown",
   "id": "9ce7731b-c867-44e7-888b-ea0fa0497528",
   "metadata": {},
   "source": [
    "- Package paling sering diorder adalah Swab Antigen on ClinicACov stand (Result in 30Minutes) dan memberikan hasil test covid paling banyak dibandingkan dengan branch lain."
   ]
  },
  {
   "cell_type": "markdown",
   "id": "ef05efd2-618b-4804-bef7-e12d1b520a28",
   "metadata": {},
   "source": [
    "### Birth Date/Age"
   ]
  },
  {
   "cell_type": "code",
   "execution_count": 13,
   "id": "ac5b38c9-2ed8-4de0-b8d3-576dc81d6989",
   "metadata": {},
   "outputs": [],
   "source": [
    "import datetime\n",
    "from datetime import date"
   ]
  },
  {
   "cell_type": "code",
   "execution_count": 14,
   "id": "7da24584-a548-4caf-a446-bd55be0655f2",
   "metadata": {},
   "outputs": [],
   "source": [
    "# Fungsi usia customer\n",
    "def age(birthdate):\n",
    "    today = datetime.datetime(2021, 12, 18)\n",
    "    one_zero = ((today.month, today.day) < (birthdate.month, birthdate.day))\n",
    "    year_diff = today.year - birthdate.year\n",
    "    age = year_diff - one_zero\n",
    "    \n",
    "    return age\n",
    "#Usia customer berdasarkan tanggal lahir\n",
    "df['Age'] = df['PatientBirthDate'].apply(lambda date: age(date))"
   ]
  },
  {
   "cell_type": "code",
   "execution_count": 15,
   "id": "83e18cbd-983f-44ea-b191-e0189fd1d267",
   "metadata": {},
   "outputs": [
    {
     "data": {
      "text/html": [
       "<div>\n",
       "<style scoped>\n",
       "    .dataframe tbody tr th:only-of-type {\n",
       "        vertical-align: middle;\n",
       "    }\n",
       "\n",
       "    .dataframe tbody tr th {\n",
       "        vertical-align: top;\n",
       "    }\n",
       "\n",
       "    .dataframe thead th {\n",
       "        text-align: right;\n",
       "    }\n",
       "</style>\n",
       "<table border=\"1\" class=\"dataframe\">\n",
       "  <thead>\n",
       "    <tr style=\"text-align: right;\">\n",
       "      <th></th>\n",
       "      <th>TrxNumber</th>\n",
       "      <th>TrxType</th>\n",
       "      <th>Branch</th>\n",
       "      <th>Package</th>\n",
       "      <th>PatientBirthDate</th>\n",
       "      <th>PatientGender</th>\n",
       "      <th>PromoCode</th>\n",
       "      <th>GrandTotal</th>\n",
       "      <th>TotalDiscount</th>\n",
       "      <th>AdminFee</th>\n",
       "      <th>TotalAmount</th>\n",
       "      <th>OrderCreated</th>\n",
       "      <th>MedicalResult</th>\n",
       "      <th>Age</th>\n",
       "    </tr>\n",
       "  </thead>\n",
       "  <tbody>\n",
       "    <tr>\n",
       "      <th>0</th>\n",
       "      <td>1389414778136428544</td>\n",
       "      <td>on ClinicACov stand</td>\n",
       "      <td>ClinicACov Cikarang Selatan</td>\n",
       "      <td>Swab Antigen on ClinicACov stand (Result in 30...</td>\n",
       "      <td>1997-12-11</td>\n",
       "      <td>f</td>\n",
       "      <td>-</td>\n",
       "      <td>199000</td>\n",
       "      <td>0</td>\n",
       "      <td>3000</td>\n",
       "      <td>202000</td>\n",
       "      <td>2021-05-04 10:01:11</td>\n",
       "      <td>Negative</td>\n",
       "      <td>24</td>\n",
       "    </tr>\n",
       "    <tr>\n",
       "      <th>2</th>\n",
       "      <td>1389442470126813184</td>\n",
       "      <td>on ClinicACov stand</td>\n",
       "      <td>ClinicACov Cikarang Selatan</td>\n",
       "      <td>Swab Antigen on ClinicACov stand (Result in 30...</td>\n",
       "      <td>1998-08-17</td>\n",
       "      <td>m</td>\n",
       "      <td>-</td>\n",
       "      <td>199000</td>\n",
       "      <td>0</td>\n",
       "      <td>3000</td>\n",
       "      <td>202000</td>\n",
       "      <td>2021-05-04 11:51:14</td>\n",
       "      <td>Negative</td>\n",
       "      <td>23</td>\n",
       "    </tr>\n",
       "    <tr>\n",
       "      <th>3</th>\n",
       "      <td>1389442470126813184</td>\n",
       "      <td>on ClinicACov stand</td>\n",
       "      <td>ClinicACov Cikarang Selatan</td>\n",
       "      <td>Swab Antigen on ClinicACov stand (Result in 30...</td>\n",
       "      <td>1998-08-17</td>\n",
       "      <td>m</td>\n",
       "      <td>-</td>\n",
       "      <td>199000</td>\n",
       "      <td>0</td>\n",
       "      <td>3000</td>\n",
       "      <td>202000</td>\n",
       "      <td>2021-05-04 11:51:14</td>\n",
       "      <td>Positive</td>\n",
       "      <td>23</td>\n",
       "    </tr>\n",
       "    <tr>\n",
       "      <th>4</th>\n",
       "      <td>1389589423187820544</td>\n",
       "      <td>on ClinicACov stand</td>\n",
       "      <td>ClinicACov Cikarang Selatan</td>\n",
       "      <td>Swab Antigen on ClinicACov stand (Result in 30...</td>\n",
       "      <td>1987-03-06</td>\n",
       "      <td>f</td>\n",
       "      <td>-</td>\n",
       "      <td>199000</td>\n",
       "      <td>0</td>\n",
       "      <td>2850</td>\n",
       "      <td>201850</td>\n",
       "      <td>2021-05-04 21:35:10</td>\n",
       "      <td>Negative</td>\n",
       "      <td>34</td>\n",
       "    </tr>\n",
       "    <tr>\n",
       "      <th>5</th>\n",
       "      <td>1389494356792049664</td>\n",
       "      <td>on ClinicACov stand</td>\n",
       "      <td>ClinicACov Cikarang Pusat</td>\n",
       "      <td>Swab Antigen on ClinicACov stand (Result in 30...</td>\n",
       "      <td>1977-10-17</td>\n",
       "      <td>m</td>\n",
       "      <td>-</td>\n",
       "      <td>796000</td>\n",
       "      <td>0</td>\n",
       "      <td>2850</td>\n",
       "      <td>798850</td>\n",
       "      <td>2021-05-04 15:17:24</td>\n",
       "      <td>Negative</td>\n",
       "      <td>44</td>\n",
       "    </tr>\n",
       "  </tbody>\n",
       "</table>\n",
       "</div>"
      ],
      "text/plain": [
       "             TrxNumber              TrxType                       Branch  \\\n",
       "0  1389414778136428544  on ClinicACov stand  ClinicACov Cikarang Selatan   \n",
       "2  1389442470126813184  on ClinicACov stand  ClinicACov Cikarang Selatan   \n",
       "3  1389442470126813184  on ClinicACov stand  ClinicACov Cikarang Selatan   \n",
       "4  1389589423187820544  on ClinicACov stand  ClinicACov Cikarang Selatan   \n",
       "5  1389494356792049664  on ClinicACov stand    ClinicACov Cikarang Pusat   \n",
       "\n",
       "                                             Package PatientBirthDate  \\\n",
       "0  Swab Antigen on ClinicACov stand (Result in 30...       1997-12-11   \n",
       "2  Swab Antigen on ClinicACov stand (Result in 30...       1998-08-17   \n",
       "3  Swab Antigen on ClinicACov stand (Result in 30...       1998-08-17   \n",
       "4  Swab Antigen on ClinicACov stand (Result in 30...       1987-03-06   \n",
       "5  Swab Antigen on ClinicACov stand (Result in 30...       1977-10-17   \n",
       "\n",
       "  PatientGender PromoCode  GrandTotal  TotalDiscount  AdminFee  TotalAmount  \\\n",
       "0             f         -      199000              0      3000       202000   \n",
       "2             m         -      199000              0      3000       202000   \n",
       "3             m         -      199000              0      3000       202000   \n",
       "4             f         -      199000              0      2850       201850   \n",
       "5             m         -      796000              0      2850       798850   \n",
       "\n",
       "         OrderCreated MedicalResult  Age  \n",
       "0 2021-05-04 10:01:11      Negative   24  \n",
       "2 2021-05-04 11:51:14      Negative   23  \n",
       "3 2021-05-04 11:51:14      Positive   23  \n",
       "4 2021-05-04 21:35:10      Negative   34  \n",
       "5 2021-05-04 15:17:24      Negative   44  "
      ]
     },
     "execution_count": 15,
     "metadata": {},
     "output_type": "execute_result"
    }
   ],
   "source": [
    "df.head()"
   ]
  },
  {
   "cell_type": "code",
   "execution_count": 16,
   "id": "43cc0e28-51d2-4c3a-9d73-3002bd753188",
   "metadata": {},
   "outputs": [
    {
     "name": "stdout",
     "output_type": "stream",
     "text": [
      "21    23\n",
      "35    15\n",
      "34    15\n",
      "41    14\n",
      "38    14\n",
      "Name: Age, dtype: int64\n"
     ]
    },
    {
     "data": {
      "image/png": "[encoded data removed]",
      "text/plain": [
       "<Figure size 1800x750 with 1 Axes>"
      ]
     },
     "metadata": {
      "needs_background": "light"
     },
     "output_type": "display_data"
    }
   ],
   "source": [
    "# Age value counts\n",
    "print(df['Age'].value_counts()[:5])\n",
    "# Countplot Age berdasarkan  Medical result\n",
    "plt.figure(figsize=(12,5), dpi=150)\n",
    "sns.countplot(data=df, x='Age', hue='MedicalResult', palette='Set2')\n",
    "plt.tight_layout()\n",
    "#plt.savefig('Age Countplot', bbox_inches='tight');"
   ]
  },
  {
   "cell_type": "markdown",
   "id": "9586f4b3-55cb-494a-a9ee-2cb73efa1c5e",
   "metadata": {},
   "source": [
    "- Usia paling banyak melakukan test covid adalah usia 21 tahun diikuti usia 35 tahun,34 tahun, 41 tahun, dan 38 tahun.\n",
    "- Usia yang paling banyak melakukan uji test covid ini adalah usia yang masuk dalam kategori usia kerja aktif yaitu usia 18 hingga 60 tahun, dimana syarat minimum usia untuk bekerja adalah 18 dan maksimal 60 tahun (sebelum pensiun)."
   ]
  },
  {
   "cell_type": "markdown",
   "id": "94843585-30ad-4c24-9dc6-3fbf7135f836",
   "metadata": {},
   "source": [
    "### Gender"
   ]
  },
  {
   "cell_type": "code",
   "execution_count": 17,
   "id": "6e2734d3-d646-4233-8c03-7960f4e7fc08",
   "metadata": {},
   "outputs": [
    {
     "name": "stdout",
     "output_type": "stream",
     "text": [
      "m    214\n",
      "f    194\n",
      "Name: PatientGender, dtype: int64\n"
     ]
    },
    {
     "data": {
      "text/plain": [
       "<AxesSubplot:xlabel='PatientGender', ylabel='count'>"
      ]
     },
     "execution_count": 17,
     "metadata": {},
     "output_type": "execute_result"
    },
    {
     "data": {
      "image/png": "[encoded data removed]",
      "text/plain": [
       "<Figure size 800x400 with 1 Axes>"
      ]
     },
     "metadata": {
      "needs_background": "light"
     },
     "output_type": "display_data"
    }
   ],
   "source": [
    "# PatientGender value counts\n",
    "print(df['PatientGender'].value_counts())\n",
    "# Countplot PatientGender berdasarkan  Medical result\n",
    "plt.figure(figsize=(8,4), dpi=100)\n",
    "sns.countplot(data=df, x='PatientGender', hue='MedicalResult', palette='Set2')\n",
    "#plt.savefig('Gender Countplot', bbox_inches='tight');"
   ]
  },
  {
   "cell_type": "markdown",
   "id": "68424f90-3302-4ac9-9a91-f1300a944eb9",
   "metadata": {},
   "source": [
    "- Jumlah customer pria sedikit lebih banyak dalam melakukan test covid, hasil Positif dari uji test covid antara pria dan wanita relatif sama."
   ]
  },
  {
   "cell_type": "markdown",
   "id": "fd20c8ec-69b1-4137-bc62-495de0e3dc16",
   "metadata": {},
   "source": [
    "### Amount"
   ]
  },
  {
   "cell_type": "code",
   "execution_count": 18,
   "id": "57defb15-077e-4c3f-a90d-da3506865cf0",
   "metadata": {},
   "outputs": [
    {
     "data": {
      "text/html": [
       "<div>\n",
       "<style scoped>\n",
       "    .dataframe tbody tr th:only-of-type {\n",
       "        vertical-align: middle;\n",
       "    }\n",
       "\n",
       "    .dataframe tbody tr th {\n",
       "        vertical-align: top;\n",
       "    }\n",
       "\n",
       "    .dataframe thead th {\n",
       "        text-align: right;\n",
       "    }\n",
       "</style>\n",
       "<table border=\"1\" class=\"dataframe\">\n",
       "  <thead>\n",
       "    <tr style=\"text-align: right;\">\n",
       "      <th></th>\n",
       "      <th>Branch</th>\n",
       "      <th>GrandTotal</th>\n",
       "      <th>TotalAmount</th>\n",
       "      <th>TotalDiscount</th>\n",
       "    </tr>\n",
       "  </thead>\n",
       "  <tbody>\n",
       "    <tr>\n",
       "      <th>3</th>\n",
       "      <td>ClinicACov Cikarang Pusat</td>\n",
       "      <td>163191000.0</td>\n",
       "      <td>163652683.0</td>\n",
       "      <td>309700.0</td>\n",
       "    </tr>\n",
       "    <tr>\n",
       "      <th>1</th>\n",
       "      <td>ClinicACov Bekasi Timur</td>\n",
       "      <td>24018000.0</td>\n",
       "      <td>23922400.0</td>\n",
       "      <td>259700.0</td>\n",
       "    </tr>\n",
       "    <tr>\n",
       "      <th>7</th>\n",
       "      <td>ClinicACov Margonda</td>\n",
       "      <td>18850000.0</td>\n",
       "      <td>18057250.0</td>\n",
       "      <td>900000.0</td>\n",
       "    </tr>\n",
       "    <tr>\n",
       "      <th>4</th>\n",
       "      <td>ClinicACov Cikarang Selatan</td>\n",
       "      <td>16422000.0</td>\n",
       "      <td>16562650.0</td>\n",
       "      <td>29850.0</td>\n",
       "    </tr>\n",
       "    <tr>\n",
       "      <th>0</th>\n",
       "      <td>ClinicACov Bekasi Selatan</td>\n",
       "      <td>10500000.0</td>\n",
       "      <td>10517850.0</td>\n",
       "      <td>0.0</td>\n",
       "    </tr>\n",
       "    <tr>\n",
       "      <th>6</th>\n",
       "      <td>ClinicACov Cileungsi</td>\n",
       "      <td>6125000.0</td>\n",
       "      <td>6163550.0</td>\n",
       "      <td>29850.0</td>\n",
       "    </tr>\n",
       "    <tr>\n",
       "      <th>5</th>\n",
       "      <td>ClinicACov Cikarang Utara</td>\n",
       "      <td>4600000.0</td>\n",
       "      <td>4605700.0</td>\n",
       "      <td>0.0</td>\n",
       "    </tr>\n",
       "    <tr>\n",
       "      <th>2</th>\n",
       "      <td>ClinicACov Cibubur</td>\n",
       "      <td>3500000.0</td>\n",
       "      <td>3511400.0</td>\n",
       "      <td>0.0</td>\n",
       "    </tr>\n",
       "  </tbody>\n",
       "</table>\n",
       "</div>"
      ],
      "text/plain": [
       "                        Branch   GrandTotal  TotalAmount  TotalDiscount\n",
       "3    ClinicACov Cikarang Pusat  163191000.0  163652683.0       309700.0\n",
       "1      ClinicACov Bekasi Timur   24018000.0   23922400.0       259700.0\n",
       "7          ClinicACov Margonda   18850000.0   18057250.0       900000.0\n",
       "4  ClinicACov Cikarang Selatan   16422000.0   16562650.0        29850.0\n",
       "0    ClinicACov Bekasi Selatan   10500000.0   10517850.0            0.0\n",
       "6         ClinicACov Cileungsi    6125000.0    6163550.0        29850.0\n",
       "5    ClinicACov Cikarang Utara    4600000.0    4605700.0            0.0\n",
       "2           ClinicACov Cibubur    3500000.0    3511400.0            0.0"
      ]
     },
     "execution_count": 18,
     "metadata": {},
     "output_type": "execute_result"
    }
   ],
   "source": [
    "branch_amount = pd.DataFrame(df.groupby('Branch', as_index=False).sum())[['Branch','GrandTotal', 'TotalAmount', 'TotalDiscount']].sort_values('GrandTotal', ascending=False)\n",
    "branch_amount"
   ]
  },
  {
   "cell_type": "code",
   "execution_count": 19,
   "id": "c6acc149-8f99-418e-9327-69d48fa5adaa",
   "metadata": {},
   "outputs": [
    {
     "data": {
      "text/plain": [
       "(array([0, 1, 2, 3, 4, 5, 6, 7]),\n",
       " [Text(0, 0, 'ClinicACov Cikarang Pusat'),\n",
       "  Text(1, 0, 'ClinicACov Bekasi Timur'),\n",
       "  Text(2, 0, 'ClinicACov Margonda'),\n",
       "  Text(3, 0, 'ClinicACov Cikarang Selatan'),\n",
       "  Text(4, 0, 'ClinicACov Bekasi Selatan'),\n",
       "  Text(5, 0, 'ClinicACov Cileungsi'),\n",
       "  Text(6, 0, 'ClinicACov Cikarang Utara'),\n",
       "  Text(7, 0, 'ClinicACov Cibubur')])"
      ]
     },
     "execution_count": 19,
     "metadata": {},
     "output_type": "execute_result"
    },
    {
     "data": {
      "image/png": "[encoded data removed]",
      "text/plain": [
       "<Figure size 800x400 with 1 Axes>"
      ]
     },
     "metadata": {
      "needs_background": "light"
     },
     "output_type": "display_data"
    }
   ],
   "source": [
    "plt.figure(figsize=(8,4), dpi=100)\n",
    "sns.barplot(data=branch_amount, x='Branch', y='GrandTotal', palette='Set2')\n",
    "plt.xticks(rotation = 90)\n",
    "#plt.savefig('GrandTotal Branch Barplot', bbox_inches='tight');"
   ]
  },
  {
   "cell_type": "code",
   "execution_count": 20,
   "id": "ef8a02a7-0afa-4436-aed5-031a500d93ed",
   "metadata": {},
   "outputs": [
    {
     "name": "stdout",
     "output_type": "stream",
     "text": [
      "ClinicACov Cikarang Pusat      242\n",
      "ClinicACov Cikarang Selatan     59\n",
      "ClinicACov Bekasi Timur         58\n",
      "ClinicACov Cileungsi            24\n",
      "ClinicACov Margonda             13\n",
      "ClinicACov Bekasi Selatan        6\n",
      "ClinicACov Cibubur               4\n",
      "ClinicACov Cikarang Utara        2\n",
      "Name: Branch, dtype: int64\n"
     ]
    }
   ],
   "source": [
    "print(df['Branch'].value_counts())"
   ]
  },
  {
   "cell_type": "markdown",
   "id": "fe17e381-2ac2-4248-9ab6-55a4f860a414",
   "metadata": {},
   "source": [
    "- Cikarang Pusat adalah branch dengan pendapatan paling besar, diikuti oleh Bekasi Timur dan Margonda. Branch Margonda memberikan discount paling besar tetapi tidak menjadi branch dengan pendapatan tertinggi.\n",
    "- Cileungsi memberikan diskon yang sama dengan Cikarang Selatan tetapi tidak memberikan penghasilan yang signifikan, bahkan lebih kecil dari Bekasi Selatan yang tidak diberikan diskon\n",
    "- Customer Bekasi Timur tidak jauh berbeda dari Cikarang Selatan tetapi pendapatan dari Bekasi Timur signifikan lebih besar dibanding Cikarang Selatan."
   ]
  },
  {
   "cell_type": "code",
   "execution_count": 21,
   "id": "aa501cbf-a511-40fe-a4db-5abc7510e859",
   "metadata": {},
   "outputs": [
    {
     "data": {
      "image/png": "[encoded data removed]",
      "text/plain": [
       "<Figure size 800x400 with 1 Axes>"
      ]
     },
     "metadata": {
      "needs_background": "light"
     },
     "output_type": "display_data"
    }
   ],
   "source": [
    "# Boxplot Branch vs GrandTotal\n",
    "plt.figure(figsize=(8,4), dpi=100)\n",
    "sns.boxplot(data=df, x='Branch', y='GrandTotal')\n",
    "plt.xticks(rotation=90);"
   ]
  },
  {
   "cell_type": "code",
   "execution_count": 22,
   "id": "a820b6a2-4717-47f6-96db-21f17673704e",
   "metadata": {},
   "outputs": [
    {
     "data": {
      "image/png": "[encoded data removed]",
      "text/plain": [
       "<Figure size 800x400 with 1 Axes>"
      ]
     },
     "metadata": {
      "needs_background": "light"
     },
     "output_type": "display_data"
    }
   ],
   "source": [
    "# Boxplot Branch vs TotalAmount\n",
    "plt.figure(figsize=(8,4), dpi=100)\n",
    "sns.boxplot(data=df, x='Branch', y='TotalAmount')\n",
    "plt.xticks(rotation=90);"
   ]
  },
  {
   "cell_type": "code",
   "execution_count": 23,
   "id": "b73d031f-ac03-4848-aebe-fe6084f70d4f",
   "metadata": {},
   "outputs": [
    {
     "data": {
      "text/plain": [
       "<AxesSubplot:xlabel='GrandTotal', ylabel='TotalAmount'>"
      ]
     },
     "execution_count": 23,
     "metadata": {},
     "output_type": "execute_result"
    },
    {
     "data": {
      "image/png": "[encoded data removed]",
      "text/plain": [
       "<Figure size 432x288 with 1 Axes>"
      ]
     },
     "metadata": {
      "needs_background": "light"
     },
     "output_type": "display_data"
    }
   ],
   "source": [
    "# Scatterplot GrandTotal vs TotalAmount\n",
    "sns.scatterplot(data=df, x='GrandTotal', y='TotalAmount')"
   ]
  },
  {
   "cell_type": "markdown",
   "id": "1d42339c-0639-42f8-ad8e-318d9ba0b8b2",
   "metadata": {},
   "source": [
    "- Terdapat outlier pada GrandTotal dan TotalAmount"
   ]
  },
  {
   "cell_type": "markdown",
   "id": "58a67a35-2a59-49e7-af6c-8767fbe6c11b",
   "metadata": {},
   "source": [
    "### Outliers on GrandTotal and TotalAmount"
   ]
  },
  {
   "cell_type": "code",
   "execution_count": 24,
   "id": "c1282538-b2bb-46cc-b575-1dd100aed07d",
   "metadata": {},
   "outputs": [
    {
     "data": {
      "text/plain": [
       "<AxesSubplot:xlabel='GrandTotal'>"
      ]
     },
     "execution_count": 24,
     "metadata": {},
     "output_type": "execute_result"
    },
    {
     "data": {
      "image/png": "[encoded data removed]",
      "text/plain": [
       "<Figure size 432x288 with 1 Axes>"
      ]
     },
     "metadata": {
      "needs_background": "light"
     },
     "output_type": "display_data"
    }
   ],
   "source": [
    "#Boxplot variabel Grand Total\n",
    "sns.boxplot(data=df, x='GrandTotal')"
   ]
  },
  {
   "cell_type": "code",
   "execution_count": 25,
   "id": "d847428e-2e3f-410b-a707-12c4f039a047",
   "metadata": {},
   "outputs": [],
   "source": [
    "#perhitungan IQR GrandTotal\n",
    "percentile25 = df['GrandTotal'].quantile(0.25)\n",
    "percentile75 = df['GrandTotal'].quantile(0.75)\n",
    "IQR = percentile75-percentile25\n",
    "\n",
    "lower_limit = percentile25 - 1.5 * IQR\n",
    "upper_limit = percentile75 + 1.5 * IQR\n",
    "# fungsi capping untuk membatasi outlier pada variabel GrandTotal\n",
    "df['GrandTotal'] = np.where( df['GrandTotal'] > upper_limit,\n",
    "                            upper_limit, df['GrandTotal'])"
   ]
  },
  {
   "cell_type": "code",
   "execution_count": 26,
   "id": "f0d46181-c8fc-495a-b98f-1629116ec147",
   "metadata": {
    "tags": []
   },
   "outputs": [
    {
     "data": {
      "text/plain": [
       "<AxesSubplot:xlabel='GrandTotal'>"
      ]
     },
     "execution_count": 26,
     "metadata": {},
     "output_type": "execute_result"
    },
    {
     "data": {
      "image/png": "[encoded data removed]",
      "text/plain": [
       "<Figure size 432x288 with 1 Axes>"
      ]
     },
     "metadata": {
      "needs_background": "light"
     },
     "output_type": "display_data"
    }
   ],
   "source": [
    "# Boxplot setelah capping outliers\n",
    "sns.boxplot(data=df, x='GrandTotal')"
   ]
  },
  {
   "cell_type": "code",
   "execution_count": 27,
   "id": "a97a06d7-64f0-481b-93a6-c77572078f0a",
   "metadata": {},
   "outputs": [
    {
     "data": {
      "text/plain": [
       "<AxesSubplot:xlabel='TotalAmount'>"
      ]
     },
     "execution_count": 27,
     "metadata": {},
     "output_type": "execute_result"
    },
    {
     "data": {
      "image/png": "[encoded data removed]",
      "text/plain": [
       "<Figure size 432x288 with 1 Axes>"
      ]
     },
     "metadata": {
      "needs_background": "light"
     },
     "output_type": "display_data"
    }
   ],
   "source": [
    "sns.boxplot(data=df, x='TotalAmount')\n",
    "#plt.savefig('TotalAmount Boxplot Outliers', bbox_inches='tight');"
   ]
  },
  {
   "cell_type": "code",
   "execution_count": 28,
   "id": "af9f2add-9d21-445e-a6ac-bf28a6e74264",
   "metadata": {},
   "outputs": [],
   "source": [
    "#perhitungan IQR TotalAmount\n",
    "percentile25 = df['TotalAmount'].quantile(0.25)\n",
    "percentile75 = df['TotalAmount'].quantile(0.75)\n",
    "IQR = percentile75-percentile25\n",
    "\n",
    "lower_limit = percentile25 - 1.5 * IQR\n",
    "upper_limit = percentile75 + 1.5 * IQR\n",
    "# fungsi capping untuk membatasi outlier pada variabel GrandTotal\n",
    "df['TotalAmount'] = np.where( df['TotalAmount'] > upper_limit,\n",
    "                            upper_limit, df['TotalAmount'])"
   ]
  },
  {
   "cell_type": "code",
   "execution_count": 29,
   "id": "92006e1c-0fd1-4b65-b994-b4150970a38b",
   "metadata": {},
   "outputs": [
    {
     "data": {
      "text/plain": [
       "1694350.0"
      ]
     },
     "execution_count": 29,
     "metadata": {},
     "output_type": "execute_result"
    }
   ],
   "source": [
    "upper_limit"
   ]
  },
  {
   "cell_type": "code",
   "execution_count": 30,
   "id": "a14f94f4-b15e-4cc0-8dfb-554a982601f4",
   "metadata": {},
   "outputs": [
    {
     "data": {
      "text/plain": [
       "<AxesSubplot:xlabel='TotalAmount'>"
      ]
     },
     "execution_count": 30,
     "metadata": {},
     "output_type": "execute_result"
    },
    {
     "data": {
      "image/png": "[encoded data removed]",
      "text/plain": [
       "<Figure size 432x288 with 1 Axes>"
      ]
     },
     "metadata": {
      "needs_background": "light"
     },
     "output_type": "display_data"
    }
   ],
   "source": [
    "sns.boxplot(data=df, x='TotalAmount')\n",
    "#plt.savefig('TotalAmount Boxplot Capping', bbox_inches='tight');"
   ]
  },
  {
   "cell_type": "markdown",
   "id": "edd8d5b2-5abf-47bd-91bb-7229102e061e",
   "metadata": {},
   "source": [
    "### Day Name Test, Date Number Test, and AgeRange"
   ]
  },
  {
   "cell_type": "code",
   "execution_count": 31,
   "id": "9c552274-8198-479f-a18a-ae01127e4c67",
   "metadata": {},
   "outputs": [],
   "source": [
    "# Kolom DayName untuk nama hari pembuatan order\n",
    "df['DayName'] = df['OrderCreated'].apply(lambda date: pd.to_datetime(date).day_name())"
   ]
  },
  {
   "cell_type": "code",
   "execution_count": 32,
   "id": "98cb8448-af8b-4fce-a9d6-e07648ae9659",
   "metadata": {},
   "outputs": [],
   "source": [
    "# Kolom DayName untuk tanggal pembuatan order\n",
    "df['DateNum'] = df['OrderCreated'].apply(lambda date: pd.to_datetime(date).strftime(\"%d\"))"
   ]
  },
  {
   "cell_type": "markdown",
   "id": "85cf80f0-e57a-4fec-9a08-fb1320cc229b",
   "metadata": {},
   "source": [
    "**klasifikasi usia menurut berdasarkan kelompok umur produktif kerja:**\n",
    "\n",
    "- Usia  Belum Aktif Kerja:  0–17  Tahun\n",
    "- Usia Aktif Kerja:  18–60  Tahun\n",
    "- Usia Pensiun:  >60  Tahun"
   ]
  },
  {
   "cell_type": "code",
   "execution_count": 33,
   "id": "38b77bc5-6388-44a9-9d46-f9ee852f56fc",
   "metadata": {},
   "outputs": [],
   "source": [
    "# fungsi klasifikasi usia customer\n",
    "def age_range(age):\n",
    "    if age < 18: # usia dibawah produktif kerja\n",
    "        return '0-17 Years'\n",
    "    elif age < 61:\n",
    "        return '18-60 Years' # Usia produktif kerja\n",
    "    else:\n",
    "        return 'Over 60 Years' # Usia diatas produktif kerja\n",
    "\n",
    "# Kolom AgeRange untuk klasifikasi usia customer\n",
    "df['AgeRange'] = df['Age'].apply(age_range)"
   ]
  },
  {
   "cell_type": "code",
   "execution_count": 34,
   "id": "5b786d3e-1e79-4501-a01f-678a8cdcd55f",
   "metadata": {},
   "outputs": [
    {
     "data": {
      "text/html": [
       "<div>\n",
       "<style scoped>\n",
       "    .dataframe tbody tr th:only-of-type {\n",
       "        vertical-align: middle;\n",
       "    }\n",
       "\n",
       "    .dataframe tbody tr th {\n",
       "        vertical-align: top;\n",
       "    }\n",
       "\n",
       "    .dataframe thead th {\n",
       "        text-align: right;\n",
       "    }\n",
       "</style>\n",
       "<table border=\"1\" class=\"dataframe\">\n",
       "  <thead>\n",
       "    <tr style=\"text-align: right;\">\n",
       "      <th></th>\n",
       "      <th>TrxNumber</th>\n",
       "      <th>TrxType</th>\n",
       "      <th>Branch</th>\n",
       "      <th>Package</th>\n",
       "      <th>PatientBirthDate</th>\n",
       "      <th>PatientGender</th>\n",
       "      <th>PromoCode</th>\n",
       "      <th>GrandTotal</th>\n",
       "      <th>TotalDiscount</th>\n",
       "      <th>AdminFee</th>\n",
       "      <th>TotalAmount</th>\n",
       "      <th>OrderCreated</th>\n",
       "      <th>MedicalResult</th>\n",
       "      <th>Age</th>\n",
       "      <th>DayName</th>\n",
       "      <th>DateNum</th>\n",
       "      <th>AgeRange</th>\n",
       "    </tr>\n",
       "  </thead>\n",
       "  <tbody>\n",
       "    <tr>\n",
       "      <th>0</th>\n",
       "      <td>1389414778136428544</td>\n",
       "      <td>on ClinicACov stand</td>\n",
       "      <td>ClinicACov Cikarang Selatan</td>\n",
       "      <td>Swab Antigen on ClinicACov stand (Result in 30...</td>\n",
       "      <td>1997-12-11</td>\n",
       "      <td>f</td>\n",
       "      <td>-</td>\n",
       "      <td>199000.0</td>\n",
       "      <td>0</td>\n",
       "      <td>3000</td>\n",
       "      <td>202000.0</td>\n",
       "      <td>2021-05-04 10:01:11</td>\n",
       "      <td>Negative</td>\n",
       "      <td>24</td>\n",
       "      <td>Tuesday</td>\n",
       "      <td>04</td>\n",
       "      <td>18-60 Years</td>\n",
       "    </tr>\n",
       "    <tr>\n",
       "      <th>2</th>\n",
       "      <td>1389442470126813184</td>\n",
       "      <td>on ClinicACov stand</td>\n",
       "      <td>ClinicACov Cikarang Selatan</td>\n",
       "      <td>Swab Antigen on ClinicACov stand (Result in 30...</td>\n",
       "      <td>1998-08-17</td>\n",
       "      <td>m</td>\n",
       "      <td>-</td>\n",
       "      <td>199000.0</td>\n",
       "      <td>0</td>\n",
       "      <td>3000</td>\n",
       "      <td>202000.0</td>\n",
       "      <td>2021-05-04 11:51:14</td>\n",
       "      <td>Negative</td>\n",
       "      <td>23</td>\n",
       "      <td>Tuesday</td>\n",
       "      <td>04</td>\n",
       "      <td>18-60 Years</td>\n",
       "    </tr>\n",
       "    <tr>\n",
       "      <th>3</th>\n",
       "      <td>1389442470126813184</td>\n",
       "      <td>on ClinicACov stand</td>\n",
       "      <td>ClinicACov Cikarang Selatan</td>\n",
       "      <td>Swab Antigen on ClinicACov stand (Result in 30...</td>\n",
       "      <td>1998-08-17</td>\n",
       "      <td>m</td>\n",
       "      <td>-</td>\n",
       "      <td>199000.0</td>\n",
       "      <td>0</td>\n",
       "      <td>3000</td>\n",
       "      <td>202000.0</td>\n",
       "      <td>2021-05-04 11:51:14</td>\n",
       "      <td>Positive</td>\n",
       "      <td>23</td>\n",
       "      <td>Tuesday</td>\n",
       "      <td>04</td>\n",
       "      <td>18-60 Years</td>\n",
       "    </tr>\n",
       "    <tr>\n",
       "      <th>4</th>\n",
       "      <td>1389589423187820544</td>\n",
       "      <td>on ClinicACov stand</td>\n",
       "      <td>ClinicACov Cikarang Selatan</td>\n",
       "      <td>Swab Antigen on ClinicACov stand (Result in 30...</td>\n",
       "      <td>1987-03-06</td>\n",
       "      <td>f</td>\n",
       "      <td>-</td>\n",
       "      <td>199000.0</td>\n",
       "      <td>0</td>\n",
       "      <td>2850</td>\n",
       "      <td>201850.0</td>\n",
       "      <td>2021-05-04 21:35:10</td>\n",
       "      <td>Negative</td>\n",
       "      <td>34</td>\n",
       "      <td>Tuesday</td>\n",
       "      <td>04</td>\n",
       "      <td>18-60 Years</td>\n",
       "    </tr>\n",
       "    <tr>\n",
       "      <th>5</th>\n",
       "      <td>1389494356792049664</td>\n",
       "      <td>on ClinicACov stand</td>\n",
       "      <td>ClinicACov Cikarang Pusat</td>\n",
       "      <td>Swab Antigen on ClinicACov stand (Result in 30...</td>\n",
       "      <td>1977-10-17</td>\n",
       "      <td>m</td>\n",
       "      <td>-</td>\n",
       "      <td>796000.0</td>\n",
       "      <td>0</td>\n",
       "      <td>2850</td>\n",
       "      <td>798850.0</td>\n",
       "      <td>2021-05-04 15:17:24</td>\n",
       "      <td>Negative</td>\n",
       "      <td>44</td>\n",
       "      <td>Tuesday</td>\n",
       "      <td>04</td>\n",
       "      <td>18-60 Years</td>\n",
       "    </tr>\n",
       "  </tbody>\n",
       "</table>\n",
       "</div>"
      ],
      "text/plain": [
       "             TrxNumber              TrxType                       Branch  \\\n",
       "0  1389414778136428544  on ClinicACov stand  ClinicACov Cikarang Selatan   \n",
       "2  1389442470126813184  on ClinicACov stand  ClinicACov Cikarang Selatan   \n",
       "3  1389442470126813184  on ClinicACov stand  ClinicACov Cikarang Selatan   \n",
       "4  1389589423187820544  on ClinicACov stand  ClinicACov Cikarang Selatan   \n",
       "5  1389494356792049664  on ClinicACov stand    ClinicACov Cikarang Pusat   \n",
       "\n",
       "                                             Package PatientBirthDate  \\\n",
       "0  Swab Antigen on ClinicACov stand (Result in 30...       1997-12-11   \n",
       "2  Swab Antigen on ClinicACov stand (Result in 30...       1998-08-17   \n",
       "3  Swab Antigen on ClinicACov stand (Result in 30...       1998-08-17   \n",
       "4  Swab Antigen on ClinicACov stand (Result in 30...       1987-03-06   \n",
       "5  Swab Antigen on ClinicACov stand (Result in 30...       1977-10-17   \n",
       "\n",
       "  PatientGender PromoCode  GrandTotal  TotalDiscount  AdminFee  TotalAmount  \\\n",
       "0             f         -    199000.0              0      3000     202000.0   \n",
       "2             m         -    199000.0              0      3000     202000.0   \n",
       "3             m         -    199000.0              0      3000     202000.0   \n",
       "4             f         -    199000.0              0      2850     201850.0   \n",
       "5             m         -    796000.0              0      2850     798850.0   \n",
       "\n",
       "         OrderCreated MedicalResult  Age  DayName DateNum     AgeRange  \n",
       "0 2021-05-04 10:01:11      Negative   24  Tuesday      04  18-60 Years  \n",
       "2 2021-05-04 11:51:14      Negative   23  Tuesday      04  18-60 Years  \n",
       "3 2021-05-04 11:51:14      Positive   23  Tuesday      04  18-60 Years  \n",
       "4 2021-05-04 21:35:10      Negative   34  Tuesday      04  18-60 Years  \n",
       "5 2021-05-04 15:17:24      Negative   44  Tuesday      04  18-60 Years  "
      ]
     },
     "execution_count": 34,
     "metadata": {},
     "output_type": "execute_result"
    }
   ],
   "source": [
    "df.head()"
   ]
  },
  {
   "cell_type": "code",
   "execution_count": 35,
   "id": "6e9dd801-64ae-4504-ac0c-27968b7bdcc9",
   "metadata": {},
   "outputs": [
    {
     "data": {
      "text/plain": [
       "<Figure size 720x360 with 0 Axes>"
      ]
     },
     "metadata": {},
     "output_type": "display_data"
    },
    {
     "data": {
      "image/png": "[encoded data removed]",
      "text/plain": [
       "<Figure size 1200x1200 with 3 Axes>"
      ]
     },
     "metadata": {
      "needs_background": "light"
     },
     "output_type": "display_data"
    }
   ],
   "source": [
    "plt.figure(figsize=(10,5))\n",
    "fig,axes = plt.subplots(figsize=(8,8), dpi=150,nrows = 3, ncols = 1)\n",
    "sns.countplot(data=df, x='DayName',ax=axes[0], palette='Set2')\n",
    "sns.countplot(data=df, x='DateNum',ax=axes[1], palette='viridis')\n",
    "sns.countplot(data=df, x='AgeRange',ax=axes[2], palette='Dark2')\n",
    "plt.tight_layout()\n",
    "plt.savefig('Dayname Datenum Agerange', bbox_inches='tight');"
   ]
  },
  {
   "cell_type": "markdown",
   "id": "e4b1c4b1-885a-48d0-992e-f2b970e0ad5d",
   "metadata": {},
   "source": [
    "- Test Covid paling banyak dilakukan pada hari Senin, diikuti hari Selasa dan Kamis\n",
    "- Tanggal 21 merupakan tanggal yang paling banyak dilakukan test Covid\n",
    "- Rentang usia paling banyak melakukan test Covid adalah usia produktif kerja"
   ]
  },
  {
   "cell_type": "code",
   "execution_count": 36,
   "id": "ad651791-d3f6-414c-ab54-34ce6261d08d",
   "metadata": {},
   "outputs": [],
   "source": [
    "df['DateNum'] = df['DateNum'].astype(int)"
   ]
  },
  {
   "cell_type": "code",
   "execution_count": 37,
   "id": "11a4f895-8cae-4d85-aaa9-94e144988ee5",
   "metadata": {},
   "outputs": [],
   "source": [
    "# fungsi klasifikasi usia customer\n",
    "def week_range(day):\n",
    "    if day < 8: # usia dibawah produktif kerja\n",
    "        return 'Week I'\n",
    "    elif day < 15:\n",
    "        return 'Week II' # Usia produktif kerja\n",
    "    elif day < 22:\n",
    "        return 'Week III' # Usia produktif kerja\n",
    "    else:\n",
    "        return 'Week IV' # Usia diatas produktif kerja\n",
    "\n",
    "# Kolom AgeRange untuk klasifikasi usia customer\n",
    "df['Week'] = df['DateNum'].apply(week_range)"
   ]
  },
  {
   "cell_type": "code",
   "execution_count": 38,
   "id": "f799f7d6-7fb9-4915-921e-9c7bb5db27b2",
   "metadata": {},
   "outputs": [
    {
     "data": {
      "text/html": [
       "<div>\n",
       "<style scoped>\n",
       "    .dataframe tbody tr th:only-of-type {\n",
       "        vertical-align: middle;\n",
       "    }\n",
       "\n",
       "    .dataframe tbody tr th {\n",
       "        vertical-align: top;\n",
       "    }\n",
       "\n",
       "    .dataframe thead th {\n",
       "        text-align: right;\n",
       "    }\n",
       "</style>\n",
       "<table border=\"1\" class=\"dataframe\">\n",
       "  <thead>\n",
       "    <tr style=\"text-align: right;\">\n",
       "      <th></th>\n",
       "      <th>TrxNumber</th>\n",
       "      <th>TrxType</th>\n",
       "      <th>Branch</th>\n",
       "      <th>Package</th>\n",
       "      <th>PatientBirthDate</th>\n",
       "      <th>PatientGender</th>\n",
       "      <th>PromoCode</th>\n",
       "      <th>GrandTotal</th>\n",
       "      <th>TotalDiscount</th>\n",
       "      <th>AdminFee</th>\n",
       "      <th>TotalAmount</th>\n",
       "      <th>OrderCreated</th>\n",
       "      <th>MedicalResult</th>\n",
       "      <th>Age</th>\n",
       "      <th>DayName</th>\n",
       "      <th>DateNum</th>\n",
       "      <th>AgeRange</th>\n",
       "      <th>Week</th>\n",
       "    </tr>\n",
       "  </thead>\n",
       "  <tbody>\n",
       "    <tr>\n",
       "      <th>0</th>\n",
       "      <td>1389414778136428544</td>\n",
       "      <td>on ClinicACov stand</td>\n",
       "      <td>ClinicACov Cikarang Selatan</td>\n",
       "      <td>Swab Antigen on ClinicACov stand (Result in 30...</td>\n",
       "      <td>1997-12-11</td>\n",
       "      <td>f</td>\n",
       "      <td>-</td>\n",
       "      <td>199000.0</td>\n",
       "      <td>0</td>\n",
       "      <td>3000</td>\n",
       "      <td>202000.0</td>\n",
       "      <td>2021-05-04 10:01:11</td>\n",
       "      <td>Negative</td>\n",
       "      <td>24</td>\n",
       "      <td>Tuesday</td>\n",
       "      <td>4</td>\n",
       "      <td>18-60 Years</td>\n",
       "      <td>Week I</td>\n",
       "    </tr>\n",
       "    <tr>\n",
       "      <th>2</th>\n",
       "      <td>1389442470126813184</td>\n",
       "      <td>on ClinicACov stand</td>\n",
       "      <td>ClinicACov Cikarang Selatan</td>\n",
       "      <td>Swab Antigen on ClinicACov stand (Result in 30...</td>\n",
       "      <td>1998-08-17</td>\n",
       "      <td>m</td>\n",
       "      <td>-</td>\n",
       "      <td>199000.0</td>\n",
       "      <td>0</td>\n",
       "      <td>3000</td>\n",
       "      <td>202000.0</td>\n",
       "      <td>2021-05-04 11:51:14</td>\n",
       "      <td>Negative</td>\n",
       "      <td>23</td>\n",
       "      <td>Tuesday</td>\n",
       "      <td>4</td>\n",
       "      <td>18-60 Years</td>\n",
       "      <td>Week I</td>\n",
       "    </tr>\n",
       "    <tr>\n",
       "      <th>3</th>\n",
       "      <td>1389442470126813184</td>\n",
       "      <td>on ClinicACov stand</td>\n",
       "      <td>ClinicACov Cikarang Selatan</td>\n",
       "      <td>Swab Antigen on ClinicACov stand (Result in 30...</td>\n",
       "      <td>1998-08-17</td>\n",
       "      <td>m</td>\n",
       "      <td>-</td>\n",
       "      <td>199000.0</td>\n",
       "      <td>0</td>\n",
       "      <td>3000</td>\n",
       "      <td>202000.0</td>\n",
       "      <td>2021-05-04 11:51:14</td>\n",
       "      <td>Positive</td>\n",
       "      <td>23</td>\n",
       "      <td>Tuesday</td>\n",
       "      <td>4</td>\n",
       "      <td>18-60 Years</td>\n",
       "      <td>Week I</td>\n",
       "    </tr>\n",
       "    <tr>\n",
       "      <th>4</th>\n",
       "      <td>1389589423187820544</td>\n",
       "      <td>on ClinicACov stand</td>\n",
       "      <td>ClinicACov Cikarang Selatan</td>\n",
       "      <td>Swab Antigen on ClinicACov stand (Result in 30...</td>\n",
       "      <td>1987-03-06</td>\n",
       "      <td>f</td>\n",
       "      <td>-</td>\n",
       "      <td>199000.0</td>\n",
       "      <td>0</td>\n",
       "      <td>2850</td>\n",
       "      <td>201850.0</td>\n",
       "      <td>2021-05-04 21:35:10</td>\n",
       "      <td>Negative</td>\n",
       "      <td>34</td>\n",
       "      <td>Tuesday</td>\n",
       "      <td>4</td>\n",
       "      <td>18-60 Years</td>\n",
       "      <td>Week I</td>\n",
       "    </tr>\n",
       "    <tr>\n",
       "      <th>5</th>\n",
       "      <td>1389494356792049664</td>\n",
       "      <td>on ClinicACov stand</td>\n",
       "      <td>ClinicACov Cikarang Pusat</td>\n",
       "      <td>Swab Antigen on ClinicACov stand (Result in 30...</td>\n",
       "      <td>1977-10-17</td>\n",
       "      <td>m</td>\n",
       "      <td>-</td>\n",
       "      <td>796000.0</td>\n",
       "      <td>0</td>\n",
       "      <td>2850</td>\n",
       "      <td>798850.0</td>\n",
       "      <td>2021-05-04 15:17:24</td>\n",
       "      <td>Negative</td>\n",
       "      <td>44</td>\n",
       "      <td>Tuesday</td>\n",
       "      <td>4</td>\n",
       "      <td>18-60 Years</td>\n",
       "      <td>Week I</td>\n",
       "    </tr>\n",
       "  </tbody>\n",
       "</table>\n",
       "</div>"
      ],
      "text/plain": [
       "             TrxNumber              TrxType                       Branch  \\\n",
       "0  1389414778136428544  on ClinicACov stand  ClinicACov Cikarang Selatan   \n",
       "2  1389442470126813184  on ClinicACov stand  ClinicACov Cikarang Selatan   \n",
       "3  1389442470126813184  on ClinicACov stand  ClinicACov Cikarang Selatan   \n",
       "4  1389589423187820544  on ClinicACov stand  ClinicACov Cikarang Selatan   \n",
       "5  1389494356792049664  on ClinicACov stand    ClinicACov Cikarang Pusat   \n",
       "\n",
       "                                             Package PatientBirthDate  \\\n",
       "0  Swab Antigen on ClinicACov stand (Result in 30...       1997-12-11   \n",
       "2  Swab Antigen on ClinicACov stand (Result in 30...       1998-08-17   \n",
       "3  Swab Antigen on ClinicACov stand (Result in 30...       1998-08-17   \n",
       "4  Swab Antigen on ClinicACov stand (Result in 30...       1987-03-06   \n",
       "5  Swab Antigen on ClinicACov stand (Result in 30...       1977-10-17   \n",
       "\n",
       "  PatientGender PromoCode  GrandTotal  TotalDiscount  AdminFee  TotalAmount  \\\n",
       "0             f         -    199000.0              0      3000     202000.0   \n",
       "2             m         -    199000.0              0      3000     202000.0   \n",
       "3             m         -    199000.0              0      3000     202000.0   \n",
       "4             f         -    199000.0              0      2850     201850.0   \n",
       "5             m         -    796000.0              0      2850     798850.0   \n",
       "\n",
       "         OrderCreated MedicalResult  Age  DayName  DateNum     AgeRange  \\\n",
       "0 2021-05-04 10:01:11      Negative   24  Tuesday        4  18-60 Years   \n",
       "2 2021-05-04 11:51:14      Negative   23  Tuesday        4  18-60 Years   \n",
       "3 2021-05-04 11:51:14      Positive   23  Tuesday        4  18-60 Years   \n",
       "4 2021-05-04 21:35:10      Negative   34  Tuesday        4  18-60 Years   \n",
       "5 2021-05-04 15:17:24      Negative   44  Tuesday        4  18-60 Years   \n",
       "\n",
       "     Week  \n",
       "0  Week I  \n",
       "2  Week I  \n",
       "3  Week I  \n",
       "4  Week I  \n",
       "5  Week I  "
      ]
     },
     "execution_count": 38,
     "metadata": {},
     "output_type": "execute_result"
    }
   ],
   "source": [
    "df.head()"
   ]
  },
  {
   "cell_type": "code",
   "execution_count": 39,
   "id": "15bc9a8e-df85-4315-9b82-ffb8c629cf22",
   "metadata": {},
   "outputs": [],
   "source": [
    "# Data frame baru untuk membangun model klasifikasi\n",
    "df_set = df.drop(['TrxType','TrxNumber','PromoCode', 'AdminFee', 'PatientBirthDate', 'TotalDiscount', \n",
    "                          'GrandTotal', 'OrderCreated', 'Age'], axis=1)"
   ]
  },
  {
   "cell_type": "markdown",
   "id": "54edc974-c5c9-47cb-a55c-4f9f52491688",
   "metadata": {},
   "source": [
    "## Feature Engineering"
   ]
  },
  {
   "cell_type": "code",
   "execution_count": 40,
   "id": "5bffcb73-1668-41d2-8144-3a30c850ba9c",
   "metadata": {},
   "outputs": [
    {
     "data": {
      "text/html": [
       "<div>\n",
       "<style scoped>\n",
       "    .dataframe tbody tr th:only-of-type {\n",
       "        vertical-align: middle;\n",
       "    }\n",
       "\n",
       "    .dataframe tbody tr th {\n",
       "        vertical-align: top;\n",
       "    }\n",
       "\n",
       "    .dataframe thead th {\n",
       "        text-align: right;\n",
       "    }\n",
       "</style>\n",
       "<table border=\"1\" class=\"dataframe\">\n",
       "  <thead>\n",
       "    <tr style=\"text-align: right;\">\n",
       "      <th></th>\n",
       "      <th>Branch</th>\n",
       "      <th>Package</th>\n",
       "      <th>DayName</th>\n",
       "      <th>Week</th>\n",
       "      <th>AgeRange</th>\n",
       "      <th>DateNum</th>\n",
       "      <th>TotalAmount</th>\n",
       "      <th>MedicalResult</th>\n",
       "    </tr>\n",
       "  </thead>\n",
       "  <tbody>\n",
       "    <tr>\n",
       "      <th>0</th>\n",
       "      <td>ClinicACov Cikarang Selatan</td>\n",
       "      <td>Swab Antigen on ClinicACov stand (Result in 30...</td>\n",
       "      <td>Tuesday</td>\n",
       "      <td>Week I</td>\n",
       "      <td>18-60 Years</td>\n",
       "      <td>4</td>\n",
       "      <td>202000.0</td>\n",
       "      <td>Negative</td>\n",
       "    </tr>\n",
       "    <tr>\n",
       "      <th>2</th>\n",
       "      <td>ClinicACov Cikarang Selatan</td>\n",
       "      <td>Swab Antigen on ClinicACov stand (Result in 30...</td>\n",
       "      <td>Tuesday</td>\n",
       "      <td>Week I</td>\n",
       "      <td>18-60 Years</td>\n",
       "      <td>4</td>\n",
       "      <td>202000.0</td>\n",
       "      <td>Negative</td>\n",
       "    </tr>\n",
       "    <tr>\n",
       "      <th>3</th>\n",
       "      <td>ClinicACov Cikarang Selatan</td>\n",
       "      <td>Swab Antigen on ClinicACov stand (Result in 30...</td>\n",
       "      <td>Tuesday</td>\n",
       "      <td>Week I</td>\n",
       "      <td>18-60 Years</td>\n",
       "      <td>4</td>\n",
       "      <td>202000.0</td>\n",
       "      <td>Positive</td>\n",
       "    </tr>\n",
       "    <tr>\n",
       "      <th>4</th>\n",
       "      <td>ClinicACov Cikarang Selatan</td>\n",
       "      <td>Swab Antigen on ClinicACov stand (Result in 30...</td>\n",
       "      <td>Tuesday</td>\n",
       "      <td>Week I</td>\n",
       "      <td>18-60 Years</td>\n",
       "      <td>4</td>\n",
       "      <td>201850.0</td>\n",
       "      <td>Negative</td>\n",
       "    </tr>\n",
       "    <tr>\n",
       "      <th>5</th>\n",
       "      <td>ClinicACov Cikarang Pusat</td>\n",
       "      <td>Swab Antigen on ClinicACov stand (Result in 30...</td>\n",
       "      <td>Tuesday</td>\n",
       "      <td>Week I</td>\n",
       "      <td>18-60 Years</td>\n",
       "      <td>4</td>\n",
       "      <td>798850.0</td>\n",
       "      <td>Negative</td>\n",
       "    </tr>\n",
       "  </tbody>\n",
       "</table>\n",
       "</div>"
      ],
      "text/plain": [
       "                        Branch  \\\n",
       "0  ClinicACov Cikarang Selatan   \n",
       "2  ClinicACov Cikarang Selatan   \n",
       "3  ClinicACov Cikarang Selatan   \n",
       "4  ClinicACov Cikarang Selatan   \n",
       "5    ClinicACov Cikarang Pusat   \n",
       "\n",
       "                                             Package  DayName    Week  \\\n",
       "0  Swab Antigen on ClinicACov stand (Result in 30...  Tuesday  Week I   \n",
       "2  Swab Antigen on ClinicACov stand (Result in 30...  Tuesday  Week I   \n",
       "3  Swab Antigen on ClinicACov stand (Result in 30...  Tuesday  Week I   \n",
       "4  Swab Antigen on ClinicACov stand (Result in 30...  Tuesday  Week I   \n",
       "5  Swab Antigen on ClinicACov stand (Result in 30...  Tuesday  Week I   \n",
       "\n",
       "      AgeRange  DateNum  TotalAmount MedicalResult  \n",
       "0  18-60 Years        4     202000.0      Negative  \n",
       "2  18-60 Years        4     202000.0      Negative  \n",
       "3  18-60 Years        4     202000.0      Positive  \n",
       "4  18-60 Years        4     201850.0      Negative  \n",
       "5  18-60 Years        4     798850.0      Negative  "
      ]
     },
     "execution_count": 40,
     "metadata": {},
     "output_type": "execute_result"
    }
   ],
   "source": [
    "df_set = df_set[['Branch', 'Package', 'DayName', 'Week', 'AgeRange', 'DateNum', 'TotalAmount', 'MedicalResult']]\n",
    "df_set.head()"
   ]
  },
  {
   "cell_type": "code",
   "execution_count": 41,
   "id": "4ec3311b-83f5-454d-a193-f288f26e5239",
   "metadata": {},
   "outputs": [],
   "source": [
    "# Definisi variabel X dan y\n",
    "X = df_set.drop('MedicalResult', axis=1)\n",
    "y = df_set['MedicalResult']"
   ]
  },
  {
   "cell_type": "code",
   "execution_count": 42,
   "id": "6e167db2-e489-4a3f-8950-038bcff3f850",
   "metadata": {},
   "outputs": [],
   "source": [
    "from sklearn.model_selection import train_test_split"
   ]
  },
  {
   "cell_type": "code",
   "execution_count": 43,
   "id": "548d491a-d3a2-44ad-b803-26c37903c9a1",
   "metadata": {},
   "outputs": [],
   "source": [
    "# Data train dan data test dengan persentase data test 30%\n",
    "X_train, X_test, y_train, y_test = train_test_split(X, y, test_size=0.30, random_state=101)"
   ]
  },
  {
   "cell_type": "code",
   "execution_count": 44,
   "id": "f989f04d-c518-460b-afcf-e97a1f48c704",
   "metadata": {},
   "outputs": [
    {
     "data": {
      "text/plain": [
       "Negative    116\n",
       "Positive      7\n",
       "Name: MedicalResult, dtype: int64"
      ]
     },
     "execution_count": 44,
     "metadata": {},
     "output_type": "execute_result"
    }
   ],
   "source": [
    "# Jumlah Negative dan Positive pada data variabel y test\n",
    "y_test.value_counts()"
   ]
  },
  {
   "cell_type": "markdown",
   "id": "84682050-6d52-49f4-bf14-e8a7b18ebbe8",
   "metadata": {},
   "source": [
    "## SMOTE Resampling"
   ]
  },
  {
   "cell_type": "code",
   "execution_count": 45,
   "id": "8bb3f73a-b2ce-47dc-9998-ca3add68383d",
   "metadata": {},
   "outputs": [
    {
     "name": "stdout",
     "output_type": "stream",
     "text": [
      "Before SMOTE, counts of label 'Positive': 30\n",
      "Before SMOTE, Counts of label 'Negative': 255\n"
     ]
    }
   ],
   "source": [
    "print(f\"Before SMOTE, counts of label 'Positive': {sum(y_train=='Positive')}\")\n",
    "print(f\"Before SMOTE, Counts of label 'Negative': {sum(y_train=='Negative')}\")"
   ]
  },
  {
   "cell_type": "code",
   "execution_count": 46,
   "id": "95e0220f-12e6-4810-aeef-87c7bbdbe6b5",
   "metadata": {},
   "outputs": [],
   "source": [
    "from imblearn.over_sampling import SMOTENC"
   ]
  },
  {
   "cell_type": "code",
   "execution_count": 47,
   "id": "cc6e95df-1789-4f65-b09f-ab94064485a9",
   "metadata": {},
   "outputs": [
    {
     "data": {
      "text/plain": [
       "Branch          True\n",
       "Package         True\n",
       "DayName         True\n",
       "Week            True\n",
       "AgeRange        True\n",
       "DateNum        False\n",
       "TotalAmount    False\n",
       "dtype: bool"
      ]
     },
     "execution_count": 47,
     "metadata": {},
     "output_type": "execute_result"
    }
   ],
   "source": [
    "X_train.dtypes=='object'"
   ]
  },
  {
   "cell_type": "code",
   "execution_count": 48,
   "id": "3764767f-b6ec-4db7-925d-e793c8414f78",
   "metadata": {},
   "outputs": [],
   "source": [
    "smnc = SMOTENC(\n",
    "    sampling_strategy='auto', # samples only the minority class\n",
    "    random_state=0,  # for reproducibility\n",
    "    n_jobs=4,\n",
    "    categorical_features=X_train.dtypes=='object' # indeces of the columns of categorical variables\n",
    ")  \n",
    "\n",
    "X_train_smote, y_train_smote = smnc.fit_resample(X_train, y_train)"
   ]
  },
  {
   "cell_type": "code",
   "execution_count": 49,
   "id": "98ab528f-9fc4-4bae-9195-cb138e86287a",
   "metadata": {},
   "outputs": [
    {
     "name": "stdout",
     "output_type": "stream",
     "text": [
      "After SMOTE, X_train shape: 517\n",
      "After SMOTE, y_train shape: 510\n",
      "After SMOTE, counts of label 'Positive': 255\n",
      "After SMOTE, Counts of label 'Negative': 255\n"
     ]
    }
   ],
   "source": [
    "print(f\"After SMOTE, X_train shape: {sum(X_train_smote.shape)}\")\n",
    "print(f\"After SMOTE, y_train shape: {sum(y_train_smote.shape)}\")\n",
    "print(f\"After SMOTE, counts of label 'Positive': {sum(y_train_smote=='Positive')}\")\n",
    "print(f\"After SMOTE, Counts of label 'Negative': {sum(y_train_smote=='Negative')}\")"
   ]
  },
  {
   "cell_type": "code",
   "execution_count": 50,
   "id": "ec86dad0-218f-4530-86b7-748a9f224295",
   "metadata": {},
   "outputs": [
    {
     "data": {
      "text/html": [
       "<div>\n",
       "<style scoped>\n",
       "    .dataframe tbody tr th:only-of-type {\n",
       "        vertical-align: middle;\n",
       "    }\n",
       "\n",
       "    .dataframe tbody tr th {\n",
       "        vertical-align: top;\n",
       "    }\n",
       "\n",
       "    .dataframe thead th {\n",
       "        text-align: right;\n",
       "    }\n",
       "</style>\n",
       "<table border=\"1\" class=\"dataframe\">\n",
       "  <thead>\n",
       "    <tr style=\"text-align: right;\">\n",
       "      <th></th>\n",
       "      <th>Branch</th>\n",
       "      <th>Package</th>\n",
       "      <th>DayName</th>\n",
       "      <th>Week</th>\n",
       "      <th>AgeRange</th>\n",
       "      <th>DateNum</th>\n",
       "      <th>TotalAmount</th>\n",
       "    </tr>\n",
       "  </thead>\n",
       "  <tbody>\n",
       "    <tr>\n",
       "      <th>0</th>\n",
       "      <td>ClinicACov Cikarang Pusat</td>\n",
       "      <td>Swab Antigen on ClinicACov stand (Result in 30...</td>\n",
       "      <td>Monday</td>\n",
       "      <td>Week III</td>\n",
       "      <td>18-60 Years</td>\n",
       "      <td>21</td>\n",
       "      <td>796000.0</td>\n",
       "    </tr>\n",
       "    <tr>\n",
       "      <th>1</th>\n",
       "      <td>ClinicACov Cikarang Selatan</td>\n",
       "      <td>Swab Antigen on ClinicACov stand (Result in 30...</td>\n",
       "      <td>Monday</td>\n",
       "      <td>Week III</td>\n",
       "      <td>18-60 Years</td>\n",
       "      <td>21</td>\n",
       "      <td>202000.0</td>\n",
       "    </tr>\n",
       "    <tr>\n",
       "      <th>2</th>\n",
       "      <td>ClinicACov Cileungsi</td>\n",
       "      <td>Swab Antigen on ClinicACov stand (Result in 30...</td>\n",
       "      <td>Monday</td>\n",
       "      <td>Week III</td>\n",
       "      <td>18-60 Years</td>\n",
       "      <td>21</td>\n",
       "      <td>172000.0</td>\n",
       "    </tr>\n",
       "    <tr>\n",
       "      <th>3</th>\n",
       "      <td>ClinicACov Cikarang Pusat</td>\n",
       "      <td>Swab Antigen on ClinicACov stand (Result in 30...</td>\n",
       "      <td>Monday</td>\n",
       "      <td>Week III</td>\n",
       "      <td>18-60 Years</td>\n",
       "      <td>21</td>\n",
       "      <td>799000.0</td>\n",
       "    </tr>\n",
       "    <tr>\n",
       "      <th>4</th>\n",
       "      <td>ClinicACov Cikarang Pusat</td>\n",
       "      <td>Swab Antigen on ClinicACov stand (Result in 30...</td>\n",
       "      <td>Monday</td>\n",
       "      <td>Week III</td>\n",
       "      <td>18-60 Years</td>\n",
       "      <td>21</td>\n",
       "      <td>400850.0</td>\n",
       "    </tr>\n",
       "  </tbody>\n",
       "</table>\n",
       "</div>"
      ],
      "text/plain": [
       "                        Branch  \\\n",
       "0    ClinicACov Cikarang Pusat   \n",
       "1  ClinicACov Cikarang Selatan   \n",
       "2         ClinicACov Cileungsi   \n",
       "3    ClinicACov Cikarang Pusat   \n",
       "4    ClinicACov Cikarang Pusat   \n",
       "\n",
       "                                             Package DayName      Week  \\\n",
       "0  Swab Antigen on ClinicACov stand (Result in 30...  Monday  Week III   \n",
       "1  Swab Antigen on ClinicACov stand (Result in 30...  Monday  Week III   \n",
       "2  Swab Antigen on ClinicACov stand (Result in 30...  Monday  Week III   \n",
       "3  Swab Antigen on ClinicACov stand (Result in 30...  Monday  Week III   \n",
       "4  Swab Antigen on ClinicACov stand (Result in 30...  Monday  Week III   \n",
       "\n",
       "      AgeRange  DateNum  TotalAmount  \n",
       "0  18-60 Years       21     796000.0  \n",
       "1  18-60 Years       21     202000.0  \n",
       "2  18-60 Years       21     172000.0  \n",
       "3  18-60 Years       21     799000.0  \n",
       "4  18-60 Years       21     400850.0  "
      ]
     },
     "execution_count": 50,
     "metadata": {},
     "output_type": "execute_result"
    }
   ],
   "source": [
    "X_train_smote.reset_index(inplace=True)\n",
    "X_train_smote.drop('index', axis=1, inplace=True)\n",
    "X_train_smote.head()"
   ]
  },
  {
   "cell_type": "code",
   "execution_count": 51,
   "id": "cf68eaa5-3613-4c5c-8b12-7fdba826b434",
   "metadata": {},
   "outputs": [
    {
     "data": {
      "text/html": [
       "<div>\n",
       "<style scoped>\n",
       "    .dataframe tbody tr th:only-of-type {\n",
       "        vertical-align: middle;\n",
       "    }\n",
       "\n",
       "    .dataframe tbody tr th {\n",
       "        vertical-align: top;\n",
       "    }\n",
       "\n",
       "    .dataframe thead th {\n",
       "        text-align: right;\n",
       "    }\n",
       "</style>\n",
       "<table border=\"1\" class=\"dataframe\">\n",
       "  <thead>\n",
       "    <tr style=\"text-align: right;\">\n",
       "      <th></th>\n",
       "      <th>Branch</th>\n",
       "      <th>Package</th>\n",
       "      <th>DayName</th>\n",
       "      <th>Week</th>\n",
       "      <th>AgeRange</th>\n",
       "      <th>DateNum</th>\n",
       "      <th>TotalAmount</th>\n",
       "    </tr>\n",
       "  </thead>\n",
       "  <tbody>\n",
       "    <tr>\n",
       "      <th>0</th>\n",
       "      <td>ClinicACov Bekasi Timur</td>\n",
       "      <td>Swab Antigen on ClinicACov stand (Result in 30...</td>\n",
       "      <td>Monday</td>\n",
       "      <td>Week III</td>\n",
       "      <td>18-60 Years</td>\n",
       "      <td>21</td>\n",
       "      <td>201850.0</td>\n",
       "    </tr>\n",
       "    <tr>\n",
       "      <th>1</th>\n",
       "      <td>ClinicACov Cikarang Pusat</td>\n",
       "      <td>Swab Antigen on ClinicACov stand (Result in 30...</td>\n",
       "      <td>Tuesday</td>\n",
       "      <td>Week III</td>\n",
       "      <td>18-60 Years</td>\n",
       "      <td>15</td>\n",
       "      <td>201850.0</td>\n",
       "    </tr>\n",
       "    <tr>\n",
       "      <th>2</th>\n",
       "      <td>ClinicACov Cileungsi</td>\n",
       "      <td>Swab Antigen on ClinicACov stand (Result in 30...</td>\n",
       "      <td>Tuesday</td>\n",
       "      <td>Week III</td>\n",
       "      <td>18-60 Years</td>\n",
       "      <td>18</td>\n",
       "      <td>201850.0</td>\n",
       "    </tr>\n",
       "    <tr>\n",
       "      <th>3</th>\n",
       "      <td>ClinicACov Cikarang Pusat</td>\n",
       "      <td>Swab Antigen on ClinicACov stand (Result in 30...</td>\n",
       "      <td>Friday</td>\n",
       "      <td>Week IV</td>\n",
       "      <td>18-60 Years</td>\n",
       "      <td>28</td>\n",
       "      <td>599850.0</td>\n",
       "    </tr>\n",
       "    <tr>\n",
       "      <th>4</th>\n",
       "      <td>ClinicACov Bekasi Timur</td>\n",
       "      <td>Swab Antigen on ClinicACov stand (Result in 30...</td>\n",
       "      <td>Thursday</td>\n",
       "      <td>Week I</td>\n",
       "      <td>18-60 Years</td>\n",
       "      <td>6</td>\n",
       "      <td>201850.0</td>\n",
       "    </tr>\n",
       "  </tbody>\n",
       "</table>\n",
       "</div>"
      ],
      "text/plain": [
       "                      Branch  \\\n",
       "0    ClinicACov Bekasi Timur   \n",
       "1  ClinicACov Cikarang Pusat   \n",
       "2       ClinicACov Cileungsi   \n",
       "3  ClinicACov Cikarang Pusat   \n",
       "4    ClinicACov Bekasi Timur   \n",
       "\n",
       "                                             Package   DayName      Week  \\\n",
       "0  Swab Antigen on ClinicACov stand (Result in 30...    Monday  Week III   \n",
       "1  Swab Antigen on ClinicACov stand (Result in 30...   Tuesday  Week III   \n",
       "2  Swab Antigen on ClinicACov stand (Result in 30...   Tuesday  Week III   \n",
       "3  Swab Antigen on ClinicACov stand (Result in 30...    Friday   Week IV   \n",
       "4  Swab Antigen on ClinicACov stand (Result in 30...  Thursday    Week I   \n",
       "\n",
       "      AgeRange  DateNum  TotalAmount  \n",
       "0  18-60 Years       21     201850.0  \n",
       "1  18-60 Years       15     201850.0  \n",
       "2  18-60 Years       18     201850.0  \n",
       "3  18-60 Years       28     599850.0  \n",
       "4  18-60 Years        6     201850.0  "
      ]
     },
     "execution_count": 51,
     "metadata": {},
     "output_type": "execute_result"
    }
   ],
   "source": [
    "X_test.reset_index(inplace=True)\n",
    "X_test.drop('index', axis=1, inplace=True)\n",
    "X_test.head()"
   ]
  },
  {
   "cell_type": "code",
   "execution_count": 52,
   "id": "7822d3b2-53d1-497c-8935-3f6777b3b6f3",
   "metadata": {},
   "outputs": [
    {
     "data": {
      "text/plain": [
       "510"
      ]
     },
     "execution_count": 52,
     "metadata": {},
     "output_type": "execute_result"
    }
   ],
   "source": [
    "train_objs_num = len(X_train_smote)\n",
    "train_objs_num"
   ]
  },
  {
   "cell_type": "code",
   "execution_count": 53,
   "id": "be0554e2-208d-41d7-a3e9-ff2dfd146d31",
   "metadata": {},
   "outputs": [],
   "source": [
    "dataset = pd.concat(objs=[X_train_smote, X_test], axis=0)"
   ]
  },
  {
   "cell_type": "code",
   "execution_count": 54,
   "id": "063d7d32-0a45-49c7-a86e-b6ab552ef69f",
   "metadata": {},
   "outputs": [
    {
     "data": {
      "text/html": [
       "<div>\n",
       "<style scoped>\n",
       "    .dataframe tbody tr th:only-of-type {\n",
       "        vertical-align: middle;\n",
       "    }\n",
       "\n",
       "    .dataframe tbody tr th {\n",
       "        vertical-align: top;\n",
       "    }\n",
       "\n",
       "    .dataframe thead th {\n",
       "        text-align: right;\n",
       "    }\n",
       "</style>\n",
       "<table border=\"1\" class=\"dataframe\">\n",
       "  <thead>\n",
       "    <tr style=\"text-align: right;\">\n",
       "      <th></th>\n",
       "      <th>Branch</th>\n",
       "      <th>Package</th>\n",
       "      <th>DayName</th>\n",
       "      <th>Week</th>\n",
       "      <th>AgeRange</th>\n",
       "      <th>DateNum</th>\n",
       "      <th>TotalAmount</th>\n",
       "      <th>MedicalResult</th>\n",
       "    </tr>\n",
       "  </thead>\n",
       "  <tbody>\n",
       "    <tr>\n",
       "      <th>0</th>\n",
       "      <td>ClinicACov Cikarang Selatan</td>\n",
       "      <td>Swab Antigen on ClinicACov stand (Result in 30...</td>\n",
       "      <td>Tuesday</td>\n",
       "      <td>Week I</td>\n",
       "      <td>18-60 Years</td>\n",
       "      <td>4</td>\n",
       "      <td>202000.0</td>\n",
       "      <td>Negative</td>\n",
       "    </tr>\n",
       "    <tr>\n",
       "      <th>2</th>\n",
       "      <td>ClinicACov Cikarang Selatan</td>\n",
       "      <td>Swab Antigen on ClinicACov stand (Result in 30...</td>\n",
       "      <td>Tuesday</td>\n",
       "      <td>Week I</td>\n",
       "      <td>18-60 Years</td>\n",
       "      <td>4</td>\n",
       "      <td>202000.0</td>\n",
       "      <td>Negative</td>\n",
       "    </tr>\n",
       "    <tr>\n",
       "      <th>3</th>\n",
       "      <td>ClinicACov Cikarang Selatan</td>\n",
       "      <td>Swab Antigen on ClinicACov stand (Result in 30...</td>\n",
       "      <td>Tuesday</td>\n",
       "      <td>Week I</td>\n",
       "      <td>18-60 Years</td>\n",
       "      <td>4</td>\n",
       "      <td>202000.0</td>\n",
       "      <td>Positive</td>\n",
       "    </tr>\n",
       "    <tr>\n",
       "      <th>4</th>\n",
       "      <td>ClinicACov Cikarang Selatan</td>\n",
       "      <td>Swab Antigen on ClinicACov stand (Result in 30...</td>\n",
       "      <td>Tuesday</td>\n",
       "      <td>Week I</td>\n",
       "      <td>18-60 Years</td>\n",
       "      <td>4</td>\n",
       "      <td>201850.0</td>\n",
       "      <td>Negative</td>\n",
       "    </tr>\n",
       "    <tr>\n",
       "      <th>5</th>\n",
       "      <td>ClinicACov Cikarang Pusat</td>\n",
       "      <td>Swab Antigen on ClinicACov stand (Result in 30...</td>\n",
       "      <td>Tuesday</td>\n",
       "      <td>Week I</td>\n",
       "      <td>18-60 Years</td>\n",
       "      <td>4</td>\n",
       "      <td>798850.0</td>\n",
       "      <td>Negative</td>\n",
       "    </tr>\n",
       "  </tbody>\n",
       "</table>\n",
       "</div>"
      ],
      "text/plain": [
       "                        Branch  \\\n",
       "0  ClinicACov Cikarang Selatan   \n",
       "2  ClinicACov Cikarang Selatan   \n",
       "3  ClinicACov Cikarang Selatan   \n",
       "4  ClinicACov Cikarang Selatan   \n",
       "5    ClinicACov Cikarang Pusat   \n",
       "\n",
       "                                             Package  DayName    Week  \\\n",
       "0  Swab Antigen on ClinicACov stand (Result in 30...  Tuesday  Week I   \n",
       "2  Swab Antigen on ClinicACov stand (Result in 30...  Tuesday  Week I   \n",
       "3  Swab Antigen on ClinicACov stand (Result in 30...  Tuesday  Week I   \n",
       "4  Swab Antigen on ClinicACov stand (Result in 30...  Tuesday  Week I   \n",
       "5  Swab Antigen on ClinicACov stand (Result in 30...  Tuesday  Week I   \n",
       "\n",
       "      AgeRange  DateNum  TotalAmount MedicalResult  \n",
       "0  18-60 Years        4     202000.0      Negative  \n",
       "2  18-60 Years        4     202000.0      Negative  \n",
       "3  18-60 Years        4     202000.0      Positive  \n",
       "4  18-60 Years        4     201850.0      Negative  \n",
       "5  18-60 Years        4     798850.0      Negative  "
      ]
     },
     "execution_count": 54,
     "metadata": {},
     "output_type": "execute_result"
    }
   ],
   "source": [
    "df_enc = df_set.copy()\n",
    "df_enc.head()"
   ]
  },
  {
   "cell_type": "code",
   "execution_count": 55,
   "id": "0161c050-f21f-4b3a-bd17-15a600bce755",
   "metadata": {},
   "outputs": [],
   "source": [
    "map = {'Negative':0, 'Positive':1}\n",
    "df_enc['MedicalResult'] = df_enc['MedicalResult'].map(map)"
   ]
  },
  {
   "cell_type": "code",
   "execution_count": 56,
   "id": "4a50ef67-700a-466a-9b46-b11d933806e9",
   "metadata": {},
   "outputs": [
    {
     "data": {
      "text/plain": [
       "{'ClinicACov Bekasi Selatan': 0.0,\n",
       " 'ClinicACov Bekasi Timur': 0.06896551724137931,\n",
       " 'ClinicACov Cibubur': 0.0,\n",
       " 'ClinicACov Cikarang Pusat': 0.10743801652892562,\n",
       " 'ClinicACov Cikarang Selatan': 0.06779661016949153,\n",
       " 'ClinicACov Cikarang Utara': 0.0,\n",
       " 'ClinicACov Cileungsi': 0.041666666666666664,\n",
       " 'ClinicACov Margonda': 0.15384615384615385}"
      ]
     },
     "execution_count": 56,
     "metadata": {},
     "output_type": "execute_result"
    }
   ],
   "source": [
    "branch_enc = df_enc.groupby(['Branch'])['MedicalResult'].mean().to_dict()\n",
    "branch_enc"
   ]
  },
  {
   "cell_type": "code",
   "execution_count": 57,
   "id": "5593efc0-71f6-4bb7-a310-71be53aade77",
   "metadata": {},
   "outputs": [
    {
     "data": {
      "text/plain": [
       "{'Swab Antigen Client Home (Result in 30Minutes)': 0.0,\n",
       " 'Swab Antigen on ClinicACov stand (Result in 30Minutes)': 0.06936416184971098,\n",
       " 'Swab PCR Client Home (Result in D+1)': 0.2727272727272727,\n",
       " 'Swab PCR on ClinicACov stand (Result in 1x24Hours)': 0.2777777777777778}"
      ]
     },
     "execution_count": 57,
     "metadata": {},
     "output_type": "execute_result"
    }
   ],
   "source": [
    "package_enc = df_enc.groupby(['Package'])['MedicalResult'].mean().to_dict()\n",
    "package_enc"
   ]
  },
  {
   "cell_type": "code",
   "execution_count": 58,
   "id": "e9f7b9f5-a286-4421-be35-dc9d814bd007",
   "metadata": {},
   "outputs": [
    {
     "data": {
      "text/plain": [
       "{'Friday': 0.0,\n",
       " 'Monday': 0.18064516129032257,\n",
       " 'Saturday': 0.0,\n",
       " 'Sunday': 0.03225806451612903,\n",
       " 'Thursday': 0.0,\n",
       " 'Tuesday': 0.1111111111111111}"
      ]
     },
     "execution_count": 58,
     "metadata": {},
     "output_type": "execute_result"
    }
   ],
   "source": [
    "dayname_enc = df_enc.groupby(['DayName'])['MedicalResult'].mean().to_dict()\n",
    "dayname_enc"
   ]
  },
  {
   "cell_type": "code",
   "execution_count": 59,
   "id": "aaac40d7-1820-4ad9-b662-70e70cc332e1",
   "metadata": {},
   "outputs": [
    {
     "data": {
      "text/plain": [
       "{'Week I': 0.01818181818181818,\n",
       " 'Week II': 0.0,\n",
       " 'Week III': 0.14767932489451477,\n",
       " 'Week IV': 0.00909090909090909}"
      ]
     },
     "execution_count": 59,
     "metadata": {},
     "output_type": "execute_result"
    }
   ],
   "source": [
    "week_enc = df_enc.groupby(['Week'])['MedicalResult'].mean().to_dict()\n",
    "week_enc"
   ]
  },
  {
   "cell_type": "code",
   "execution_count": 60,
   "id": "cf2ec439-3bb0-4967-b78d-1a6744ecbe4a",
   "metadata": {},
   "outputs": [
    {
     "data": {
      "text/plain": [
       "{'0-17 Years': 0.14814814814814814,\n",
       " '18-60 Years': 0.09116022099447514,\n",
       " 'Over 60 Years': 0.0}"
      ]
     },
     "execution_count": 60,
     "metadata": {},
     "output_type": "execute_result"
    }
   ],
   "source": [
    "agerange_enc = df_enc.groupby(['AgeRange'])['MedicalResult'].mean().to_dict()\n",
    "agerange_enc"
   ]
  },
  {
   "cell_type": "code",
   "execution_count": 61,
   "id": "1aa57a78-8a4e-4ee4-bd15-a89902348b9f",
   "metadata": {},
   "outputs": [],
   "source": [
    "dataset['Branch'] = dataset['Branch'].map(branch_enc)\n",
    "dataset['Package'] = dataset['Package'].map(package_enc)\n",
    "dataset['DayName'] = dataset['DayName'].map(dayname_enc)\n",
    "dataset['Week'] = dataset['Week'].map(week_enc)\n",
    "dataset['AgeRange'] = dataset['AgeRange'].map(agerange_enc)"
   ]
  },
  {
   "cell_type": "code",
   "execution_count": 62,
   "id": "e59e4068-3d1a-4330-a6c0-fb2c5635bbac",
   "metadata": {},
   "outputs": [
    {
     "data": {
      "text/html": [
       "<div>\n",
       "<style scoped>\n",
       "    .dataframe tbody tr th:only-of-type {\n",
       "        vertical-align: middle;\n",
       "    }\n",
       "\n",
       "    .dataframe tbody tr th {\n",
       "        vertical-align: top;\n",
       "    }\n",
       "\n",
       "    .dataframe thead th {\n",
       "        text-align: right;\n",
       "    }\n",
       "</style>\n",
       "<table border=\"1\" class=\"dataframe\">\n",
       "  <thead>\n",
       "    <tr style=\"text-align: right;\">\n",
       "      <th></th>\n",
       "      <th>Branch</th>\n",
       "      <th>Package</th>\n",
       "      <th>DayName</th>\n",
       "      <th>Week</th>\n",
       "      <th>AgeRange</th>\n",
       "      <th>DateNum</th>\n",
       "      <th>TotalAmount</th>\n",
       "    </tr>\n",
       "  </thead>\n",
       "  <tbody>\n",
       "    <tr>\n",
       "      <th>0</th>\n",
       "      <td>0.107438</td>\n",
       "      <td>0.069364</td>\n",
       "      <td>0.180645</td>\n",
       "      <td>0.147679</td>\n",
       "      <td>0.09116</td>\n",
       "      <td>21</td>\n",
       "      <td>796000.0</td>\n",
       "    </tr>\n",
       "    <tr>\n",
       "      <th>1</th>\n",
       "      <td>0.067797</td>\n",
       "      <td>0.069364</td>\n",
       "      <td>0.180645</td>\n",
       "      <td>0.147679</td>\n",
       "      <td>0.09116</td>\n",
       "      <td>21</td>\n",
       "      <td>202000.0</td>\n",
       "    </tr>\n",
       "    <tr>\n",
       "      <th>2</th>\n",
       "      <td>0.041667</td>\n",
       "      <td>0.069364</td>\n",
       "      <td>0.180645</td>\n",
       "      <td>0.147679</td>\n",
       "      <td>0.09116</td>\n",
       "      <td>21</td>\n",
       "      <td>172000.0</td>\n",
       "    </tr>\n",
       "    <tr>\n",
       "      <th>3</th>\n",
       "      <td>0.107438</td>\n",
       "      <td>0.069364</td>\n",
       "      <td>0.180645</td>\n",
       "      <td>0.147679</td>\n",
       "      <td>0.09116</td>\n",
       "      <td>21</td>\n",
       "      <td>799000.0</td>\n",
       "    </tr>\n",
       "    <tr>\n",
       "      <th>4</th>\n",
       "      <td>0.107438</td>\n",
       "      <td>0.069364</td>\n",
       "      <td>0.180645</td>\n",
       "      <td>0.147679</td>\n",
       "      <td>0.09116</td>\n",
       "      <td>21</td>\n",
       "      <td>400850.0</td>\n",
       "    </tr>\n",
       "    <tr>\n",
       "      <th>...</th>\n",
       "      <td>...</td>\n",
       "      <td>...</td>\n",
       "      <td>...</td>\n",
       "      <td>...</td>\n",
       "      <td>...</td>\n",
       "      <td>...</td>\n",
       "      <td>...</td>\n",
       "    </tr>\n",
       "    <tr>\n",
       "      <th>118</th>\n",
       "      <td>0.000000</td>\n",
       "      <td>0.272727</td>\n",
       "      <td>0.000000</td>\n",
       "      <td>0.018182</td>\n",
       "      <td>0.09116</td>\n",
       "      <td>1</td>\n",
       "      <td>1694350.0</td>\n",
       "    </tr>\n",
       "    <tr>\n",
       "      <th>119</th>\n",
       "      <td>0.107438</td>\n",
       "      <td>0.069364</td>\n",
       "      <td>0.111111</td>\n",
       "      <td>0.147679</td>\n",
       "      <td>0.00000</td>\n",
       "      <td>15</td>\n",
       "      <td>599850.0</td>\n",
       "    </tr>\n",
       "    <tr>\n",
       "      <th>120</th>\n",
       "      <td>0.107438</td>\n",
       "      <td>0.277778</td>\n",
       "      <td>0.111111</td>\n",
       "      <td>0.147679</td>\n",
       "      <td>0.09116</td>\n",
       "      <td>15</td>\n",
       "      <td>1694350.0</td>\n",
       "    </tr>\n",
       "    <tr>\n",
       "      <th>121</th>\n",
       "      <td>0.107438</td>\n",
       "      <td>0.069364</td>\n",
       "      <td>0.111111</td>\n",
       "      <td>0.147679</td>\n",
       "      <td>0.09116</td>\n",
       "      <td>15</td>\n",
       "      <td>201850.0</td>\n",
       "    </tr>\n",
       "    <tr>\n",
       "      <th>122</th>\n",
       "      <td>0.107438</td>\n",
       "      <td>0.069364</td>\n",
       "      <td>0.000000</td>\n",
       "      <td>0.018182</td>\n",
       "      <td>0.09116</td>\n",
       "      <td>1</td>\n",
       "      <td>400850.0</td>\n",
       "    </tr>\n",
       "  </tbody>\n",
       "</table>\n",
       "<p>633 rows × 7 columns</p>\n",
       "</div>"
      ],
      "text/plain": [
       "       Branch   Package   DayName      Week  AgeRange  DateNum  TotalAmount\n",
       "0    0.107438  0.069364  0.180645  0.147679   0.09116       21     796000.0\n",
       "1    0.067797  0.069364  0.180645  0.147679   0.09116       21     202000.0\n",
       "2    0.041667  0.069364  0.180645  0.147679   0.09116       21     172000.0\n",
       "3    0.107438  0.069364  0.180645  0.147679   0.09116       21     799000.0\n",
       "4    0.107438  0.069364  0.180645  0.147679   0.09116       21     400850.0\n",
       "..        ...       ...       ...       ...       ...      ...          ...\n",
       "118  0.000000  0.272727  0.000000  0.018182   0.09116        1    1694350.0\n",
       "119  0.107438  0.069364  0.111111  0.147679   0.00000       15     599850.0\n",
       "120  0.107438  0.277778  0.111111  0.147679   0.09116       15    1694350.0\n",
       "121  0.107438  0.069364  0.111111  0.147679   0.09116       15     201850.0\n",
       "122  0.107438  0.069364  0.000000  0.018182   0.09116        1     400850.0\n",
       "\n",
       "[633 rows x 7 columns]"
      ]
     },
     "execution_count": 62,
     "metadata": {},
     "output_type": "execute_result"
    }
   ],
   "source": [
    "dataset"
   ]
  },
  {
   "cell_type": "code",
   "execution_count": 63,
   "id": "0e9f760e-e75e-49dc-bf1b-4f932874dbd3",
   "metadata": {},
   "outputs": [],
   "source": [
    "X_train_smote = dataset[:train_objs_num]\n",
    "X_test = dataset[train_objs_num:]"
   ]
  },
  {
   "cell_type": "code",
   "execution_count": 64,
   "id": "0bc3c7ae-e78e-4e51-9051-53e1ee99b01c",
   "metadata": {},
   "outputs": [
    {
     "data": {
      "text/html": [
       "<div>\n",
       "<style scoped>\n",
       "    .dataframe tbody tr th:only-of-type {\n",
       "        vertical-align: middle;\n",
       "    }\n",
       "\n",
       "    .dataframe tbody tr th {\n",
       "        vertical-align: top;\n",
       "    }\n",
       "\n",
       "    .dataframe thead th {\n",
       "        text-align: right;\n",
       "    }\n",
       "</style>\n",
       "<table border=\"1\" class=\"dataframe\">\n",
       "  <thead>\n",
       "    <tr style=\"text-align: right;\">\n",
       "      <th></th>\n",
       "      <th>Branch</th>\n",
       "      <th>Package</th>\n",
       "      <th>DayName</th>\n",
       "      <th>Week</th>\n",
       "      <th>AgeRange</th>\n",
       "      <th>DateNum</th>\n",
       "      <th>TotalAmount</th>\n",
       "    </tr>\n",
       "  </thead>\n",
       "  <tbody>\n",
       "    <tr>\n",
       "      <th>0</th>\n",
       "      <td>0.107438</td>\n",
       "      <td>0.069364</td>\n",
       "      <td>0.180645</td>\n",
       "      <td>0.147679</td>\n",
       "      <td>0.09116</td>\n",
       "      <td>21</td>\n",
       "      <td>796000.0</td>\n",
       "    </tr>\n",
       "    <tr>\n",
       "      <th>1</th>\n",
       "      <td>0.067797</td>\n",
       "      <td>0.069364</td>\n",
       "      <td>0.180645</td>\n",
       "      <td>0.147679</td>\n",
       "      <td>0.09116</td>\n",
       "      <td>21</td>\n",
       "      <td>202000.0</td>\n",
       "    </tr>\n",
       "    <tr>\n",
       "      <th>2</th>\n",
       "      <td>0.041667</td>\n",
       "      <td>0.069364</td>\n",
       "      <td>0.180645</td>\n",
       "      <td>0.147679</td>\n",
       "      <td>0.09116</td>\n",
       "      <td>21</td>\n",
       "      <td>172000.0</td>\n",
       "    </tr>\n",
       "    <tr>\n",
       "      <th>3</th>\n",
       "      <td>0.107438</td>\n",
       "      <td>0.069364</td>\n",
       "      <td>0.180645</td>\n",
       "      <td>0.147679</td>\n",
       "      <td>0.09116</td>\n",
       "      <td>21</td>\n",
       "      <td>799000.0</td>\n",
       "    </tr>\n",
       "    <tr>\n",
       "      <th>4</th>\n",
       "      <td>0.107438</td>\n",
       "      <td>0.069364</td>\n",
       "      <td>0.180645</td>\n",
       "      <td>0.147679</td>\n",
       "      <td>0.09116</td>\n",
       "      <td>21</td>\n",
       "      <td>400850.0</td>\n",
       "    </tr>\n",
       "  </tbody>\n",
       "</table>\n",
       "</div>"
      ],
      "text/plain": [
       "     Branch   Package   DayName      Week  AgeRange  DateNum  TotalAmount\n",
       "0  0.107438  0.069364  0.180645  0.147679   0.09116       21     796000.0\n",
       "1  0.067797  0.069364  0.180645  0.147679   0.09116       21     202000.0\n",
       "2  0.041667  0.069364  0.180645  0.147679   0.09116       21     172000.0\n",
       "3  0.107438  0.069364  0.180645  0.147679   0.09116       21     799000.0\n",
       "4  0.107438  0.069364  0.180645  0.147679   0.09116       21     400850.0"
      ]
     },
     "execution_count": 64,
     "metadata": {},
     "output_type": "execute_result"
    }
   ],
   "source": [
    "X_train_smote.head()"
   ]
  },
  {
   "cell_type": "code",
   "execution_count": 65,
   "id": "8e58f65c-7784-42fc-8cbb-59b01a6dbcd4",
   "metadata": {},
   "outputs": [
    {
     "data": {
      "text/html": [
       "<div>\n",
       "<style scoped>\n",
       "    .dataframe tbody tr th:only-of-type {\n",
       "        vertical-align: middle;\n",
       "    }\n",
       "\n",
       "    .dataframe tbody tr th {\n",
       "        vertical-align: top;\n",
       "    }\n",
       "\n",
       "    .dataframe thead th {\n",
       "        text-align: right;\n",
       "    }\n",
       "</style>\n",
       "<table border=\"1\" class=\"dataframe\">\n",
       "  <thead>\n",
       "    <tr style=\"text-align: right;\">\n",
       "      <th></th>\n",
       "      <th>Branch</th>\n",
       "      <th>Package</th>\n",
       "      <th>DayName</th>\n",
       "      <th>Week</th>\n",
       "      <th>AgeRange</th>\n",
       "      <th>DateNum</th>\n",
       "      <th>TotalAmount</th>\n",
       "    </tr>\n",
       "  </thead>\n",
       "  <tbody>\n",
       "    <tr>\n",
       "      <th>0</th>\n",
       "      <td>0.068966</td>\n",
       "      <td>0.069364</td>\n",
       "      <td>0.180645</td>\n",
       "      <td>0.147679</td>\n",
       "      <td>0.09116</td>\n",
       "      <td>21</td>\n",
       "      <td>201850.0</td>\n",
       "    </tr>\n",
       "    <tr>\n",
       "      <th>1</th>\n",
       "      <td>0.107438</td>\n",
       "      <td>0.069364</td>\n",
       "      <td>0.111111</td>\n",
       "      <td>0.147679</td>\n",
       "      <td>0.09116</td>\n",
       "      <td>15</td>\n",
       "      <td>201850.0</td>\n",
       "    </tr>\n",
       "    <tr>\n",
       "      <th>2</th>\n",
       "      <td>0.041667</td>\n",
       "      <td>0.069364</td>\n",
       "      <td>0.111111</td>\n",
       "      <td>0.147679</td>\n",
       "      <td>0.09116</td>\n",
       "      <td>18</td>\n",
       "      <td>201850.0</td>\n",
       "    </tr>\n",
       "    <tr>\n",
       "      <th>3</th>\n",
       "      <td>0.107438</td>\n",
       "      <td>0.069364</td>\n",
       "      <td>0.000000</td>\n",
       "      <td>0.009091</td>\n",
       "      <td>0.09116</td>\n",
       "      <td>28</td>\n",
       "      <td>599850.0</td>\n",
       "    </tr>\n",
       "    <tr>\n",
       "      <th>4</th>\n",
       "      <td>0.068966</td>\n",
       "      <td>0.069364</td>\n",
       "      <td>0.000000</td>\n",
       "      <td>0.018182</td>\n",
       "      <td>0.09116</td>\n",
       "      <td>6</td>\n",
       "      <td>201850.0</td>\n",
       "    </tr>\n",
       "  </tbody>\n",
       "</table>\n",
       "</div>"
      ],
      "text/plain": [
       "     Branch   Package   DayName      Week  AgeRange  DateNum  TotalAmount\n",
       "0  0.068966  0.069364  0.180645  0.147679   0.09116       21     201850.0\n",
       "1  0.107438  0.069364  0.111111  0.147679   0.09116       15     201850.0\n",
       "2  0.041667  0.069364  0.111111  0.147679   0.09116       18     201850.0\n",
       "3  0.107438  0.069364  0.000000  0.009091   0.09116       28     599850.0\n",
       "4  0.068966  0.069364  0.000000  0.018182   0.09116        6     201850.0"
      ]
     },
     "execution_count": 65,
     "metadata": {},
     "output_type": "execute_result"
    }
   ],
   "source": [
    "X_test.head()"
   ]
  },
  {
   "cell_type": "code",
   "execution_count": 66,
   "id": "317e5345-09b2-4045-806a-a9d26ea95c9c",
   "metadata": {},
   "outputs": [],
   "source": [
    "from sklearn.tree import DecisionTreeClassifier\n",
    "from sklearn.ensemble import RandomForestClassifier\n",
    "from sklearn.svm import SVC\n",
    "from sklearn.neighbors import KNeighborsClassifier\n",
    "from sklearn.ensemble import AdaBoostClassifier, GradientBoostingClassifier\n",
    "from sklearn.naive_bayes import GaussianNB"
   ]
  },
  {
   "cell_type": "code",
   "execution_count": 67,
   "id": "74752c03-cb67-48e8-a711-b27356e30060",
   "metadata": {},
   "outputs": [],
   "source": [
    "from sklearn.metrics import classification_report, plot_confusion_matrix, accuracy_score, recall_score, precision_score, f1_score\n",
    "from sklearn.model_selection import GridSearchCV"
   ]
  },
  {
   "cell_type": "markdown",
   "id": "1c1146b7-af34-4564-8aed-8cabde2b5d75",
   "metadata": {},
   "source": [
    "## Machine Learning Classifier Model"
   ]
  },
  {
   "cell_type": "markdown",
   "id": "6b58518b-41df-499d-94a3-ece9dddcb5c6",
   "metadata": {},
   "source": [
    "### Decision Tree Smote"
   ]
  },
  {
   "cell_type": "code",
   "execution_count": 68,
   "id": "c5176fa2-367e-4838-892b-b0d294bade03",
   "metadata": {},
   "outputs": [
    {
     "name": "stdout",
     "output_type": "stream",
     "text": [
      "              precision    recall  f1-score   support\n",
      "\n",
      "    Negative       1.00      0.68      0.81       116\n",
      "    Positive       0.16      1.00      0.27         7\n",
      "\n",
      "    accuracy                           0.70       123\n",
      "   macro avg       0.58      0.84      0.54       123\n",
      "weighted avg       0.95      0.70      0.78       123\n",
      "\n"
     ]
    }
   ],
   "source": [
    "# GridCV untuk Decision Tree Clasifier dengan data train resampling smote\n",
    "dt = DecisionTreeClassifier(random_state=101, class_weight='balanced')\n",
    "param_grid = {'max_depth':[3,4,5,6],\n",
    "             'criterion':['gini','entropy'],\n",
    "             'max_features':['auto', 'log2','None']}\n",
    "grid_dt_smote = GridSearchCV(dt, param_grid)\n",
    "grid_dt_smote.fit(X_train_smote,y_train_smote)\n",
    "\n",
    "#Predict Decision Tree Classifier\n",
    "dt_smote_predict = grid_dt_smote.predict(X_test)\n",
    "\n",
    "#Classification report Decision Tree Classifier\n",
    "print(classification_report(y_test, dt_smote_predict))"
   ]
  },
  {
   "cell_type": "code",
   "execution_count": 69,
   "id": "c4297541-6fd2-4074-a263-f68922c43638",
   "metadata": {},
   "outputs": [
    {
     "data": {
      "text/plain": [
       "<sklearn.metrics._plot.confusion_matrix.ConfusionMatrixDisplay at 0x1569d963d00>"
      ]
     },
     "execution_count": 69,
     "metadata": {},
     "output_type": "execute_result"
    },
    {
     "data": {
      "image/png": "[encoded data removed]",
      "text/plain": [
       "<Figure size 432x288 with 2 Axes>"
      ]
     },
     "metadata": {
      "needs_background": "light"
     },
     "output_type": "display_data"
    }
   ],
   "source": [
    "#Confusion Matrix Decision Tree Classifier dengan best parameter GridCV\n",
    "plot_confusion_matrix(grid_dt_smote, X_test, y_test)"
   ]
  },
  {
   "cell_type": "markdown",
   "id": "fea039d7-62a8-405b-bab2-59d46e58a2ef",
   "metadata": {},
   "source": [
    "### Random Forrest Smote"
   ]
  },
  {
   "cell_type": "code",
   "execution_count": 101,
   "id": "6edbe641-adc4-42bc-8ebe-0a6587680300",
   "metadata": {},
   "outputs": [
    {
     "name": "stdout",
     "output_type": "stream",
     "text": [
      "              precision    recall  f1-score   support\n",
      "\n",
      "    Negative       0.98      0.89      0.93       116\n",
      "    Positive       0.28      0.71      0.40         7\n",
      "\n",
      "    accuracy                           0.88       123\n",
      "   macro avg       0.63      0.80      0.67       123\n",
      "weighted avg       0.94      0.88      0.90       123\n",
      "\n"
     ]
    }
   ],
   "source": [
    "# GridCV untuk Random Forrest Clasifier\n",
    "RF = RandomForestClassifier(random_state=101)\n",
    "param_grid = {'n_estimators':range(1,20),\n",
    "             'max_depth':[3,4,5,6],\n",
    "             'criterion':['gini','entropy'],\n",
    "             'bootstrap':[True,False],\n",
    "             'oob_score':[True,False]}\n",
    "grid_rf_smote = GridSearchCV(RF, param_grid)\n",
    "grid_rf_smote.fit(X_train_smote, y_train_smote)\n",
    "\n",
    "#Predict Random Forrest Clasifier\n",
    "grid_rf_smote_predict = grid_rf_smote.predict(X_test)\n",
    "\n",
    "#Classification report Random Forrest Clasifier \n",
    "print(classification_report(y_test, grid_rf_smote_predict))"
   ]
  },
  {
   "cell_type": "code",
   "execution_count": 102,
   "id": "b3ef4cd2-7efb-4b8f-970b-043af4021e55",
   "metadata": {},
   "outputs": [
    {
     "data": {
      "text/plain": [
       "<sklearn.metrics._plot.confusion_matrix.ConfusionMatrixDisplay at 0x1569b395130>"
      ]
     },
     "execution_count": 102,
     "metadata": {},
     "output_type": "execute_result"
    },
    {
     "data": {
      "image/png": "[encoded data removed]",
      "text/plain": [
       "<Figure size 432x288 with 2 Axes>"
      ]
     },
     "metadata": {
      "needs_background": "light"
     },
     "output_type": "display_data"
    }
   ],
   "source": [
    "#Confusion Matrix Random Forrest Clasifier dengan best parameter GridCV\n",
    "plot_confusion_matrix(grid_rf_smote, X_test, y_test)\n",
    "#plt.savefig('Confusion Matrix GridCV', bbox_inches='tight');"
   ]
  },
  {
   "cell_type": "markdown",
   "id": "c63464d3-ddfc-4dfa-baf1-e60996ee2425",
   "metadata": {},
   "source": [
    "### Gradient Boost Smote"
   ]
  },
  {
   "cell_type": "code",
   "execution_count": 72,
   "id": "c34e4007-4254-4679-86f5-8402d6717fb5",
   "metadata": {},
   "outputs": [
    {
     "name": "stdout",
     "output_type": "stream",
     "text": [
      "              precision    recall  f1-score   support\n",
      "\n",
      "    Negative       0.97      0.91      0.94       116\n",
      "    Positive       0.29      0.57      0.38         7\n",
      "\n",
      "    accuracy                           0.89       123\n",
      "   macro avg       0.63      0.74      0.66       123\n",
      "weighted avg       0.93      0.89      0.91       123\n",
      "\n"
     ]
    }
   ],
   "source": [
    "# GridCV untuk Gradien Boost Classifier\n",
    "gb = GradientBoostingClassifier(random_state=101)\n",
    "param_grid = {'n_estimators':range(1,20),\n",
    "              'max_depth':[4,5,6],\n",
    "              'max_features':['auto', 'log2', None],\n",
    "              'learning_rate':[0.1, 0.5, 1, 1.5, 2]}\n",
    "grid_gb_smote = GridSearchCV(gb, param_grid)\n",
    "grid_gb_smote.fit(X_train_smote, y_train_smote)\n",
    "\n",
    "# GridCV untuk Gradien Boost Classifier\n",
    "grid_gb_smote_predics = grid_gb_smote.predict(X_test)\n",
    "\n",
    "#Classification report Gradien Boost Classifier #Predict Gradien Boost Classifier \n",
    "print(classification_report(y_test,grid_gb_smote_predics))"
   ]
  },
  {
   "cell_type": "code",
   "execution_count": 73,
   "id": "99699969-19ef-4c1c-b7d3-f4b96851c1ba",
   "metadata": {},
   "outputs": [
    {
     "data": {
      "text/plain": [
       "<sklearn.metrics._plot.confusion_matrix.ConfusionMatrixDisplay at 0x1569daf3700>"
      ]
     },
     "execution_count": 73,
     "metadata": {},
     "output_type": "execute_result"
    },
    {
     "data": {
      "image/png": "[encoded data removed]",
      "text/plain": [
       "<Figure size 432x288 with 2 Axes>"
      ]
     },
     "metadata": {
      "needs_background": "light"
     },
     "output_type": "display_data"
    }
   ],
   "source": [
    "#Confusion Matrix Gradien Boost Classifier dengan best parameter GridCV\n",
    "plot_confusion_matrix(grid_gb_smote, X_test, y_test)"
   ]
  },
  {
   "cell_type": "code",
   "execution_count": null,
   "id": "0538fec0-12ad-4f2e-9ab3-441dbaae3f33",
   "metadata": {},
   "outputs": [],
   "source": []
  },
  {
   "cell_type": "markdown",
   "id": "2a9e3f6f-f734-4975-aa5f-d3ec66b25fa4",
   "metadata": {},
   "source": [
    "### SVC Smote"
   ]
  },
  {
   "cell_type": "code",
   "execution_count": 74,
   "id": "80db09e6-39a0-41bb-b7ed-77a04aa0b9d3",
   "metadata": {},
   "outputs": [],
   "source": [
    "from sklearn.preprocessing import StandardScaler"
   ]
  },
  {
   "cell_type": "code",
   "execution_count": 75,
   "id": "d90e1acf-300e-4745-b2cf-32a8447bffdb",
   "metadata": {},
   "outputs": [],
   "source": [
    "scaler = StandardScaler()\n",
    "scaled_X_train_smote = scaler.fit_transform(X_train_smote)\n",
    "scaled_X_test = scaler.transform(X_test)"
   ]
  },
  {
   "cell_type": "code",
   "execution_count": 76,
   "id": "9be2b3f6-ba9f-4276-bbb5-85c1e9a8145e",
   "metadata": {},
   "outputs": [
    {
     "name": "stdout",
     "output_type": "stream",
     "text": [
      "              precision    recall  f1-score   support\n",
      "\n",
      "    Negative       0.98      0.91      0.94       116\n",
      "    Positive       0.31      0.71      0.43         7\n",
      "\n",
      "    accuracy                           0.89       123\n",
      "   macro avg       0.65      0.81      0.69       123\n",
      "weighted avg       0.94      0.89      0.91       123\n",
      "\n"
     ]
    }
   ],
   "source": [
    "# GridCV untuk Support Vector Classifier\n",
    "svc = SVC(class_weight='balanced', random_state=101)\n",
    "param_grid = {'C': [0.001, 0.01, 0.1, 0.5, 1], 'gamma': ['scale', 'auto']}\n",
    "grid_svc_smote = GridSearchCV(svc, param_grid)\n",
    "grid_svc_smote.fit(scaled_X_train_smote,y_train_smote)\n",
    "\n",
    "# Predict Support Vector Classifier \n",
    "# GridCV untuk Support Vector Classifier\n",
    "\n",
    "grid_svc_smote_pred = grid_svc_smote.predict(scaled_X_test)\n",
    "\n",
    "#Classification report Support Vector Classifier\n",
    "print(classification_report(y_test, grid_svc_smote_pred))"
   ]
  },
  {
   "cell_type": "code",
   "execution_count": 77,
   "id": "1f5d75af-3b39-4227-984c-edc577ac4d1f",
   "metadata": {},
   "outputs": [
    {
     "data": {
      "text/plain": [
       "<sklearn.metrics._plot.confusion_matrix.ConfusionMatrixDisplay at 0x1569daf3d60>"
      ]
     },
     "execution_count": 77,
     "metadata": {},
     "output_type": "execute_result"
    },
    {
     "data": {
      "image/png": "[encoded data removed]",
      "text/plain": [
       "<Figure size 432x288 with 2 Axes>"
      ]
     },
     "metadata": {
      "needs_background": "light"
     },
     "output_type": "display_data"
    }
   ],
   "source": [
    "#Confusion Matrix Support Vector Classifier dengan best parameter GridCV\n",
    "plot_confusion_matrix(grid_svc_smote, X_test, y_test)"
   ]
  },
  {
   "cell_type": "code",
   "execution_count": null,
   "id": "4ff90f8b-07c7-4acd-bea6-4f1009252c84",
   "metadata": {},
   "outputs": [],
   "source": []
  },
  {
   "cell_type": "markdown",
   "id": "952c1fa9-a650-4a61-9946-ceadd6fbe48b",
   "metadata": {},
   "source": [
    "### KNN Smote"
   ]
  },
  {
   "cell_type": "code",
   "execution_count": 78,
   "id": "723f28ba-f671-4414-8314-5374dd1ccebc",
   "metadata": {},
   "outputs": [
    {
     "name": "stdout",
     "output_type": "stream",
     "text": [
      "              precision    recall  f1-score   support\n",
      "\n",
      "    Negative       0.97      0.95      0.96       116\n",
      "    Positive       0.40      0.57      0.47         7\n",
      "\n",
      "    accuracy                           0.93       123\n",
      "   macro avg       0.69      0.76      0.72       123\n",
      "weighted avg       0.94      0.93      0.93       123\n",
      "\n"
     ]
    }
   ],
   "source": [
    "# GridCV untuk KNN Classifier\n",
    "knn = KNeighborsClassifier(metric='euclidean')\n",
    "param_grid ={'n_neighbors':[3,5,10,20,25]}\n",
    "grid_knn_smote = GridSearchCV(knn, param_grid, scoring = 'precision')\n",
    "grid_knn_smote.fit(scaled_X_train_smote,y_train_smote)\n",
    "\n",
    "# GridCV untuk KNN Classifier\n",
    "grid_knn_smote_pred = grid_knn_smote.predict(scaled_X_test)\n",
    "\n",
    "#Classification report KNN Classifier #Predict KNN Classifier \n",
    "print(classification_report(y_test,grid_knn_smote_pred))"
   ]
  },
  {
   "cell_type": "code",
   "execution_count": 79,
   "id": "de9048a6-fe39-41b0-b3a3-3dfa1aa81aef",
   "metadata": {},
   "outputs": [
    {
     "data": {
      "text/plain": [
       "<sklearn.metrics._plot.confusion_matrix.ConfusionMatrixDisplay at 0x1569dc235e0>"
      ]
     },
     "execution_count": 79,
     "metadata": {},
     "output_type": "execute_result"
    },
    {
     "data": {
      "image/png": "[encoded data removed]",
      "text/plain": [
       "<Figure size 432x288 with 2 Axes>"
      ]
     },
     "metadata": {
      "needs_background": "light"
     },
     "output_type": "display_data"
    }
   ],
   "source": [
    "#Confusion Matrix KNN Classifier dengan best parameter GridCV\n",
    "plot_confusion_matrix(grid_knn_smote, scaled_X_test, y_test)"
   ]
  },
  {
   "cell_type": "code",
   "execution_count": null,
   "id": "6bd53b27-97d0-4566-a712-b9dd5dde781b",
   "metadata": {},
   "outputs": [],
   "source": []
  },
  {
   "cell_type": "markdown",
   "id": "65a2dfc4-bc64-4a57-b012-228ef28fc170",
   "metadata": {},
   "source": [
    "### Naive Bayes Smote"
   ]
  },
  {
   "cell_type": "code",
   "execution_count": 80,
   "id": "073c3d21-584c-4a0a-8b5a-539ab8e55c71",
   "metadata": {},
   "outputs": [
    {
     "name": "stdout",
     "output_type": "stream",
     "text": [
      "              precision    recall  f1-score   support\n",
      "\n",
      "    Negative       0.98      0.79      0.88       116\n",
      "    Positive       0.17      0.71      0.28         7\n",
      "\n",
      "    accuracy                           0.79       123\n",
      "   macro avg       0.58      0.75      0.58       123\n",
      "weighted avg       0.93      0.79      0.84       123\n",
      "\n"
     ]
    }
   ],
   "source": [
    "# Naive Bayes Classifier model\n",
    "nb_smote = GaussianNB()\n",
    "nb_smote.fit(scaled_X_train_smote, y_train_smote)\n",
    "\n",
    "#Predict Naive Bayes Classifier\n",
    "nb_pred = nb_smote.predict(scaled_X_test)\n",
    "\n",
    "#Classification report Naive Bayes Classifier \n",
    "print(classification_report(y_test, nb_pred))"
   ]
  },
  {
   "cell_type": "code",
   "execution_count": 81,
   "id": "154d16a5-3a42-4de4-b742-3935aee417dc",
   "metadata": {},
   "outputs": [
    {
     "data": {
      "text/plain": [
       "<sklearn.metrics._plot.confusion_matrix.ConfusionMatrixDisplay at 0x1569db12eb0>"
      ]
     },
     "execution_count": 81,
     "metadata": {},
     "output_type": "execute_result"
    },
    {
     "data": {
      "image/png": "[encoded data removed]",
      "text/plain": [
       "<Figure size 432x288 with 2 Axes>"
      ]
     },
     "metadata": {
      "needs_background": "light"
     },
     "output_type": "display_data"
    }
   ],
   "source": [
    "#Confusion Matrix NB Classifier dengan best parameter GridCV\n",
    "plot_confusion_matrix(nb_smote, scaled_X_test, y_test)"
   ]
  },
  {
   "cell_type": "markdown",
   "id": "2f0d1a47-76d1-46e7-a4c8-124f3bf0c700",
   "metadata": {},
   "source": [
    "- Random Forest dengan Smote random over sampling memberikan hasil terbaik dibandingkan dengan metode lainnya\n",
    "- Nilai kombinasi nilai Accuracy score, recall score, dan F1-score dari model ini adalah yang paling baik"
   ]
  },
  {
   "cell_type": "code",
   "execution_count": 82,
   "id": "8759e6c8-cb3f-4376-acc2-f3f9c57d1ad9",
   "metadata": {},
   "outputs": [
    {
     "name": "stdout",
     "output_type": "stream",
     "text": [
      "              precision    recall  f1-score   support\n",
      "\n",
      "    Negative       0.98      0.89      0.93       116\n",
      "    Positive       0.28      0.71      0.40         7\n",
      "\n",
      "    accuracy                           0.88       123\n",
      "   macro avg       0.63      0.80      0.67       123\n",
      "weighted avg       0.94      0.88      0.90       123\n",
      "\n"
     ]
    }
   ],
   "source": [
    "#Classification report Random Forest Classifier \n",
    "print(classification_report(y_test, grid_rf_smote_predict))"
   ]
  },
  {
   "cell_type": "code",
   "execution_count": 103,
   "id": "7fbd7189-f585-4f33-ab92-5e7c3b697d48",
   "metadata": {},
   "outputs": [
    {
     "data": {
      "text/plain": [
       "{'bootstrap': True,\n",
       " 'criterion': 'gini',\n",
       " 'max_depth': 6,\n",
       " 'n_estimators': 6,\n",
       " 'oob_score': True}"
      ]
     },
     "execution_count": 103,
     "metadata": {},
     "output_type": "execute_result"
    }
   ],
   "source": [
    "# Best parameter dari GridCV Random Forest Clasifier\n",
    "grid_rf_smote.best_params_"
   ]
  },
  {
   "cell_type": "markdown",
   "id": "f2db4024-fecb-431a-9b63-60d1becefbe1",
   "metadata": {},
   "source": [
    "- Hasil parameter terbaik untuk metode Random Fores dengan nilai estimator 6.\n",
    "- Selanjutnya dengan parameter terbaik ini akan dihitung kembali nilai accuracy score, precision score, dan f1-score. Ini dilakukan menggunakan nilai n_estimator dengan range(1,20). perhitungan ini dilakukan untuk mencari nilai n_estimator terbaik dengan nilai Recall score dan F1-score yang paling tinggi."
   ]
  },
  {
   "cell_type": "code",
   "execution_count": 104,
   "id": "c213e29a-22ac-4945-8744-829c6cbc448a",
   "metadata": {},
   "outputs": [],
   "source": [
    "#perhitungan nilai error, recall score, F1-score dan accuracy score \n",
    "error_rf_smote = []\n",
    "recall_rf_smote = []\n",
    "f1score_rf_smote =[]\n",
    "accuracy_score_rf_smote =[]\n",
    "\n",
    "for n in range(1,20):\n",
    "    Random = RandomForestClassifier(bootstrap=True, criterion='gini', max_depth=6, n_estimators=n, oob_score=True,\n",
    "                                         random_state=10)\n",
    "    Random.fit(X_train_smote, y_train_smote)\n",
    "    Random_preds = Random.predict(X_test)\n",
    "    \n",
    "    err_Random = 1 - accuracy_score(y_test, Random_preds)\n",
    "    error_rf_smote.append(err_Random)\n",
    "    accuracy_score_rf_smote.append(accuracy_score(y_test, Random_preds))\n",
    "    \n",
    "    recall = recall_score(y_test, Random_preds, pos_label='Positive')\n",
    "    recall_rf_smote.append(recall)\n",
    "    \n",
    "    f1score = f1_score(y_test, Random_preds, pos_label='Positive')\n",
    "    f1score_rf_smote.append(f1score)"
   ]
  },
  {
   "cell_type": "code",
   "execution_count": 105,
   "id": "41b9c652-ae2b-4d32-a4f9-b83f9303b6f6",
   "metadata": {},
   "outputs": [
    {
     "data": {
      "text/html": [
       "<div>\n",
       "<style scoped>\n",
       "    .dataframe tbody tr th:only-of-type {\n",
       "        vertical-align: middle;\n",
       "    }\n",
       "\n",
       "    .dataframe tbody tr th {\n",
       "        vertical-align: top;\n",
       "    }\n",
       "\n",
       "    .dataframe thead th {\n",
       "        text-align: right;\n",
       "    }\n",
       "</style>\n",
       "<table border=\"1\" class=\"dataframe\">\n",
       "  <thead>\n",
       "    <tr style=\"text-align: right;\">\n",
       "      <th></th>\n",
       "      <th>Error</th>\n",
       "      <th>Accuracy</th>\n",
       "      <th>Recall</th>\n",
       "      <th>F1 Score</th>\n",
       "    </tr>\n",
       "  </thead>\n",
       "  <tbody>\n",
       "    <tr>\n",
       "      <th>14</th>\n",
       "      <td>0.121951</td>\n",
       "      <td>0.878049</td>\n",
       "      <td>0.714286</td>\n",
       "      <td>0.400000</td>\n",
       "    </tr>\n",
       "    <tr>\n",
       "      <th>4</th>\n",
       "      <td>0.130081</td>\n",
       "      <td>0.869919</td>\n",
       "      <td>0.714286</td>\n",
       "      <td>0.384615</td>\n",
       "    </tr>\n",
       "    <tr>\n",
       "      <th>16</th>\n",
       "      <td>0.130081</td>\n",
       "      <td>0.869919</td>\n",
       "      <td>0.714286</td>\n",
       "      <td>0.384615</td>\n",
       "    </tr>\n",
       "    <tr>\n",
       "      <th>17</th>\n",
       "      <td>0.130081</td>\n",
       "      <td>0.869919</td>\n",
       "      <td>0.714286</td>\n",
       "      <td>0.384615</td>\n",
       "    </tr>\n",
       "    <tr>\n",
       "      <th>1</th>\n",
       "      <td>0.138211</td>\n",
       "      <td>0.861789</td>\n",
       "      <td>0.714286</td>\n",
       "      <td>0.370370</td>\n",
       "    </tr>\n",
       "    <tr>\n",
       "      <th>10</th>\n",
       "      <td>0.138211</td>\n",
       "      <td>0.861789</td>\n",
       "      <td>0.714286</td>\n",
       "      <td>0.370370</td>\n",
       "    </tr>\n",
       "    <tr>\n",
       "      <th>11</th>\n",
       "      <td>0.138211</td>\n",
       "      <td>0.861789</td>\n",
       "      <td>0.714286</td>\n",
       "      <td>0.370370</td>\n",
       "    </tr>\n",
       "    <tr>\n",
       "      <th>12</th>\n",
       "      <td>0.138211</td>\n",
       "      <td>0.861789</td>\n",
       "      <td>0.714286</td>\n",
       "      <td>0.370370</td>\n",
       "    </tr>\n",
       "    <tr>\n",
       "      <th>13</th>\n",
       "      <td>0.138211</td>\n",
       "      <td>0.861789</td>\n",
       "      <td>0.714286</td>\n",
       "      <td>0.370370</td>\n",
       "    </tr>\n",
       "    <tr>\n",
       "      <th>15</th>\n",
       "      <td>0.138211</td>\n",
       "      <td>0.861789</td>\n",
       "      <td>0.714286</td>\n",
       "      <td>0.370370</td>\n",
       "    </tr>\n",
       "    <tr>\n",
       "      <th>18</th>\n",
       "      <td>0.138211</td>\n",
       "      <td>0.861789</td>\n",
       "      <td>0.714286</td>\n",
       "      <td>0.370370</td>\n",
       "    </tr>\n",
       "    <tr>\n",
       "      <th>19</th>\n",
       "      <td>0.138211</td>\n",
       "      <td>0.861789</td>\n",
       "      <td>0.714286</td>\n",
       "      <td>0.370370</td>\n",
       "    </tr>\n",
       "    <tr>\n",
       "      <th>5</th>\n",
       "      <td>0.146341</td>\n",
       "      <td>0.853659</td>\n",
       "      <td>0.714286</td>\n",
       "      <td>0.357143</td>\n",
       "    </tr>\n",
       "    <tr>\n",
       "      <th>6</th>\n",
       "      <td>0.146341</td>\n",
       "      <td>0.853659</td>\n",
       "      <td>0.714286</td>\n",
       "      <td>0.357143</td>\n",
       "    </tr>\n",
       "    <tr>\n",
       "      <th>7</th>\n",
       "      <td>0.146341</td>\n",
       "      <td>0.853659</td>\n",
       "      <td>0.714286</td>\n",
       "      <td>0.357143</td>\n",
       "    </tr>\n",
       "    <tr>\n",
       "      <th>8</th>\n",
       "      <td>0.146341</td>\n",
       "      <td>0.853659</td>\n",
       "      <td>0.714286</td>\n",
       "      <td>0.357143</td>\n",
       "    </tr>\n",
       "    <tr>\n",
       "      <th>9</th>\n",
       "      <td>0.146341</td>\n",
       "      <td>0.853659</td>\n",
       "      <td>0.714286</td>\n",
       "      <td>0.357143</td>\n",
       "    </tr>\n",
       "    <tr>\n",
       "      <th>2</th>\n",
       "      <td>0.113821</td>\n",
       "      <td>0.886179</td>\n",
       "      <td>0.571429</td>\n",
       "      <td>0.363636</td>\n",
       "    </tr>\n",
       "    <tr>\n",
       "      <th>3</th>\n",
       "      <td>0.113821</td>\n",
       "      <td>0.886179</td>\n",
       "      <td>0.571429</td>\n",
       "      <td>0.363636</td>\n",
       "    </tr>\n",
       "  </tbody>\n",
       "</table>\n",
       "</div>"
      ],
      "text/plain": [
       "       Error  Accuracy    Recall  F1 Score\n",
       "14  0.121951  0.878049  0.714286  0.400000\n",
       "4   0.130081  0.869919  0.714286  0.384615\n",
       "16  0.130081  0.869919  0.714286  0.384615\n",
       "17  0.130081  0.869919  0.714286  0.384615\n",
       "1   0.138211  0.861789  0.714286  0.370370\n",
       "10  0.138211  0.861789  0.714286  0.370370\n",
       "11  0.138211  0.861789  0.714286  0.370370\n",
       "12  0.138211  0.861789  0.714286  0.370370\n",
       "13  0.138211  0.861789  0.714286  0.370370\n",
       "15  0.138211  0.861789  0.714286  0.370370\n",
       "18  0.138211  0.861789  0.714286  0.370370\n",
       "19  0.138211  0.861789  0.714286  0.370370\n",
       "5   0.146341  0.853659  0.714286  0.357143\n",
       "6   0.146341  0.853659  0.714286  0.357143\n",
       "7   0.146341  0.853659  0.714286  0.357143\n",
       "8   0.146341  0.853659  0.714286  0.357143\n",
       "9   0.146341  0.853659  0.714286  0.357143\n",
       "2   0.113821  0.886179  0.571429  0.363636\n",
       "3   0.113821  0.886179  0.571429  0.363636"
      ]
     },
     "execution_count": 105,
     "metadata": {},
     "output_type": "execute_result"
    }
   ],
   "source": [
    "# Data frame nilai error, recall score, F1-score dan accuracy score\n",
    "rf_smote_report = pd.DataFrame(data=[error_rf_smote, accuracy_score_rf_smote,recall_rf_smote, f1score_rf_smote],\n",
    "                           columns=range(1,20), index=['Error', 'Accuracy','Recall', 'F1 Score']).T\n",
    "rf_smote_report=rf_smote_report.sort_values(['Recall', 'F1 Score','Accuracy'], ascending=False)\n",
    "rf_smote_report"
   ]
  },
  {
   "cell_type": "code",
   "execution_count": 106,
   "id": "a846620e-79cc-47cd-92dd-3679b8f7c72e",
   "metadata": {},
   "outputs": [
    {
     "data": {
      "text/plain": [
       "Text(0.5, 0, 'N Estimators')"
      ]
     },
     "execution_count": 106,
     "metadata": {},
     "output_type": "execute_result"
    },
    {
     "data": {
      "image/png": "[encoded data removed]",
      "text/plain": [
       "<Figure size 432x288 with 1 Axes>"
      ]
     },
     "metadata": {
      "needs_background": "light"
     },
     "output_type": "display_data"
    }
   ],
   "source": [
    "# Plot n_estimators vs error\n",
    "plt.plot(range(1,20), error_rf_smote)\n",
    "plt.ylabel('Error')\n",
    "plt.xlabel('N Estimators')\n",
    "#plt.savefig('n estimator', bbox_inches='tight');"
   ]
  },
  {
   "cell_type": "code",
   "execution_count": 108,
   "id": "0191ffe7-64d7-469d-82bf-dc0c6578e54e",
   "metadata": {},
   "outputs": [
    {
     "name": "stdout",
     "output_type": "stream",
     "text": [
      "              precision    recall  f1-score   support\n",
      "\n",
      "    Negative       0.98      0.91      0.95       116\n",
      "    Positive       0.33      0.71      0.45         7\n",
      "\n",
      "    accuracy                           0.90       123\n",
      "   macro avg       0.66      0.81      0.70       123\n",
      "weighted avg       0.94      0.90      0.92       123\n",
      "\n"
     ]
    }
   ],
   "source": [
    "# Model Random Forest Clasifier dengan parameter terbaik\n",
    "rf_min = RandomForestClassifier(bootstrap=True, criterion='gini', max_depth=6, n_estimators=14, oob_score=True,\n",
    "                                random_state=101)\n",
    "rf_min.fit(X_train_smote, y_train_smote)\n",
    "rf_min_preds = rf_min.predict(X_test)\n",
    "\n",
    "#Confusion Matrix Random Forest Classifier dengan nilai n_estimators =13\n",
    "print(classification_report(y_test, rf_min_preds))"
   ]
  },
  {
   "cell_type": "code",
   "execution_count": 109,
   "id": "220319cf-be9f-4482-895d-1a21257c04c9",
   "metadata": {},
   "outputs": [
    {
     "data": {
      "text/plain": [
       "<sklearn.metrics._plot.confusion_matrix.ConfusionMatrixDisplay at 0x1569dd38c40>"
      ]
     },
     "execution_count": 109,
     "metadata": {},
     "output_type": "execute_result"
    },
    {
     "data": {
      "image/png": "[encoded data removed]",
      "text/plain": [
       "<Figure size 432x288 with 2 Axes>"
      ]
     },
     "metadata": {
      "needs_background": "light"
     },
     "output_type": "display_data"
    }
   ],
   "source": [
    "#Confusion Matrix Random Forest Classifier\n",
    "plot_confusion_matrix(rf_min, X_test, y_test)\n",
    "#plt.savefig('conf best matrix', bbox_inches='tight');"
   ]
  },
  {
   "cell_type": "code",
   "execution_count": 110,
   "id": "3cb3ed58-b083-4d1b-be26-9977769b8a32",
   "metadata": {},
   "outputs": [
    {
     "data": {
      "text/plain": [
       "array([0.11899788, 0.00943235, 0.40053317, 0.1645547 , 0.03821144,\n",
       "       0.11183102, 0.15643943])"
      ]
     },
     "execution_count": 110,
     "metadata": {},
     "output_type": "execute_result"
    }
   ],
   "source": [
    "#feature impoertance dari model Random Forest terbaik\n",
    "rf_min.feature_importances_"
   ]
  },
  {
   "cell_type": "code",
   "execution_count": 111,
   "id": "c075f489-4472-4af7-b575-05b15dc7e386",
   "metadata": {},
   "outputs": [
    {
     "data": {
      "text/html": [
       "<div>\n",
       "<style scoped>\n",
       "    .dataframe tbody tr th:only-of-type {\n",
       "        vertical-align: middle;\n",
       "    }\n",
       "\n",
       "    .dataframe tbody tr th {\n",
       "        vertical-align: top;\n",
       "    }\n",
       "\n",
       "    .dataframe thead th {\n",
       "        text-align: right;\n",
       "    }\n",
       "</style>\n",
       "<table border=\"1\" class=\"dataframe\">\n",
       "  <thead>\n",
       "    <tr style=\"text-align: right;\">\n",
       "      <th></th>\n",
       "      <th>Importance</th>\n",
       "    </tr>\n",
       "  </thead>\n",
       "  <tbody>\n",
       "    <tr>\n",
       "      <th>Package</th>\n",
       "      <td>0.009432</td>\n",
       "    </tr>\n",
       "    <tr>\n",
       "      <th>AgeRange</th>\n",
       "      <td>0.038211</td>\n",
       "    </tr>\n",
       "    <tr>\n",
       "      <th>DateNum</th>\n",
       "      <td>0.111831</td>\n",
       "    </tr>\n",
       "    <tr>\n",
       "      <th>Branch</th>\n",
       "      <td>0.118998</td>\n",
       "    </tr>\n",
       "    <tr>\n",
       "      <th>TotalAmount</th>\n",
       "      <td>0.156439</td>\n",
       "    </tr>\n",
       "    <tr>\n",
       "      <th>Week</th>\n",
       "      <td>0.164555</td>\n",
       "    </tr>\n",
       "    <tr>\n",
       "      <th>DayName</th>\n",
       "      <td>0.400533</td>\n",
       "    </tr>\n",
       "  </tbody>\n",
       "</table>\n",
       "</div>"
      ],
      "text/plain": [
       "             Importance\n",
       "Package        0.009432\n",
       "AgeRange       0.038211\n",
       "DateNum        0.111831\n",
       "Branch         0.118998\n",
       "TotalAmount    0.156439\n",
       "Week           0.164555\n",
       "DayName        0.400533"
      ]
     },
     "execution_count": 111,
     "metadata": {},
     "output_type": "execute_result"
    }
   ],
   "source": [
    "#feature impoertance data frame\n",
    "feat_imp = rf_min.feature_importances_\n",
    "feat_imp_rf = pd.DataFrame(data = feat_imp, index = X_train_smote.columns, columns=['Importance']).sort_values(by='Importance')\n",
    "feat_imp_rf"
   ]
  },
  {
   "cell_type": "code",
   "execution_count": 112,
   "id": "48f53acc-2f01-4bd4-b1d5-5970abd9c0e1",
   "metadata": {},
   "outputs": [
    {
     "data": {
      "image/png": "[encoded data removed]",
      "text/plain": [
       "<Figure size 2000x800 with 1 Axes>"
      ]
     },
     "metadata": {
      "needs_background": "light"
     },
     "output_type": "display_data"
    }
   ],
   "source": [
    "#plot feature importtances\n",
    "plt.figure(figsize=(10,4), dpi=200)\n",
    "sns.barplot(data=feat_imp_rf, x=feat_imp_rf.index, y='Importance')\n",
    "plt.xticks(rotation=90);"
   ]
  },
  {
   "cell_type": "markdown",
   "id": "c9f19775-5125-45ec-a629-24dd138cf2f0",
   "metadata": {},
   "source": [
    "## Branch Predict"
   ]
  },
  {
   "cell_type": "markdown",
   "id": "63a93514-3337-4a2c-b47b-0ac9f4fe502d",
   "metadata": {},
   "source": [
    "- Model akan digunakan untuk memprediksi gambaran hasil uji test covid berdasarkan kombinasi karakteristik tiap Branch.\n",
    "- Tiap Branch memiliki Package,DayNam, DateNum, dan AgeRange yang berbeda-beda dan tiap karakteristik ini akan menjadi batasan untuk mengetahui gambaran hasil uji test covid Positive tiap Branch."
   ]
  },
  {
   "cell_type": "code",
   "execution_count": 115,
   "id": "c7ee2a77-d717-4295-b086-8868204f8acf",
   "metadata": {},
   "outputs": [],
   "source": [
    "# Fungsi expand grid\n",
    "from itertools import product\n",
    "\n",
    "def expand_grid(dictionary):\n",
    "   return pd.DataFrame([row for row in product(*dictionary.values())], \n",
    "                       columns=dictionary.keys())"
   ]
  },
  {
   "cell_type": "code",
   "execution_count": 116,
   "id": "b32cf459-1bab-4be6-b0cd-daba7ccb155e",
   "metadata": {},
   "outputs": [
    {
     "data": {
      "text/plain": [
       "Index(['Branch', 'Package', 'DayName', 'Week', 'AgeRange', 'DateNum',\n",
       "       'TotalAmount', 'MedicalResult'],\n",
       "      dtype='object')"
      ]
     },
     "execution_count": 116,
     "metadata": {},
     "output_type": "execute_result"
    }
   ],
   "source": [
    "df_set.columns"
   ]
  },
  {
   "cell_type": "markdown",
   "id": "76f97ad4-4c74-4997-90a3-6aed4270b395",
   "metadata": {},
   "source": [
    "### All Branch"
   ]
  },
  {
   "cell_type": "code",
   "execution_count": 119,
   "id": "c8c9f9de-9604-4884-853a-cacaf07eb45b",
   "metadata": {
    "tags": []
   },
   "outputs": [
    {
     "name": "stdout",
     "output_type": "stream",
     "text": [
      "All Branch\n",
      "- Package positive value count : \n",
      "Swab PCR Client Home (Result in D+1)                      3882\n",
      "Swab Antigen on ClinicACov stand (Result in 30Minutes)    3861\n",
      "Swab Antigen Client Home (Result in 30Minutes)            3751\n",
      "Swab PCR on ClinicACov stand (Result in 1x24Hours)        3374\n",
      "Name: Package, dtype: int64 \n",
      "\n",
      "- Day name positive value count : \n",
      "Monday      14386\n",
      "Tuesday       334\n",
      "Sunday         40\n",
      "Saturday       36\n",
      "Friday         36\n",
      "Thursday       36\n",
      "Name: DayName, dtype: int64 \n",
      "\n",
      "- Week positive value count : \n",
      "Week III    14836\n",
      "Week II        16\n",
      "Week IV        16\n",
      "Name: Week, dtype: int64 \n",
      "\n",
      "- Age range positive value count : \n",
      "18-60 Years      6647\n",
      "Over 60 Years    6514\n",
      "0-17 Years       1707\n",
      "Name: AgeRange, dtype: int64 \n",
      "\n",
      "======================================================================================================\n",
      "\n"
     ]
    }
   ],
   "source": [
    "#Dataframe model\n",
    "data_model = df.drop(['TrxType','TrxNumber','PromoCode', 'AdminFee', 'PatientBirthDate', 'TotalDiscount', \n",
    "                      'GrandTotal', 'OrderCreated', 'Age'], axis=1)\n",
    "\n",
    "\n",
    "dict = {'Branch': data_model['Branch'].unique().tolist(),\n",
    "        'Package': data_model['Package'].unique().tolist(),\n",
    "        'DayName':data_model['DayName'].unique().tolist(),\n",
    "        'Week':data_model['Week'].unique().tolist(),\n",
    "        'AgeRange':data_model['AgeRange'].unique().tolist(),\n",
    "        'DateNum':data_model['DateNum'].unique().tolist(),\n",
    "        'TotalAmount':data_model['TotalAmount'].unique().tolist()\n",
    "           }\n",
    "#Expand grid untuk membuat dataframe combinasi semua label kolom\n",
    "expand = expand_grid(dict)\n",
    "\n",
    "#Append dataframe expand grid kedalam dataframe model berdasarkan tiap kolom\n",
    "append_encoder = expand.copy()\n",
    "    \n",
    "#Label encoding untuk variabel kategori\n",
    "append_encoder['Branch'] = append_encoder['Branch'].map(branch_enc)\n",
    "append_encoder['Package'] = append_encoder['Package'].map(package_enc)\n",
    "append_encoder['DayName'] = append_encoder['DayName'].map(dayname_enc)\n",
    "append_encoder['Week'] = append_encoder['Week'].map(week_enc)\n",
    "append_encoder['AgeRange'] = append_encoder['AgeRange'].map(agerange_enc)\n",
    "    \n",
    "#Prediksi data branch yang sudah dilabel\n",
    "branch_pred = rf_min.predict(append_encoder)\n",
    "    \n",
    "#Menggabungkan data hasil prediksi dengan dataframe tiap cabang\n",
    "MedicalResult = pd.DataFrame(branch_pred, columns=['MedicalResult_predict'])\n",
    "branch_concat = pd.concat([expand,MedicalResult], axis=1)\n",
    "#Mengambil data yang menghasilkan prediksi Positive\n",
    "positive = branch_concat[branch_concat['MedicalResult_predict']=='Positive']\n",
    "    \n",
    "#Value count variabel Package\n",
    "package_val = positive['Package'].value_counts()\n",
    "#Value count variabel DayName\n",
    "dayname_val = positive['DayName'].value_counts()\n",
    "#Value count variabel DateNum\n",
    "week_val = positive['Week'].value_counts()\n",
    "#Value count variabel AgeRange\n",
    "agerange_val = positive['AgeRange'].value_counts()\n",
    "    \n",
    "print('All Branch')\n",
    "print('- Package positive value count : \\n{} \\n'.format(package_val))\n",
    "print('- Day name positive value count : \\n{} \\n'.format(dayname_val))\n",
    "print('- Week positive value count : \\n{} \\n'.format(week_val))\n",
    "print('- Age range positive value count : \\n{} \\n'.format(agerange_val))\n",
    "    \n",
    "print('======================================================================================================\\n')"
   ]
  },
  {
   "cell_type": "code",
   "execution_count": 130,
   "id": "fd4fa7c8-3946-4863-a4c8-4ced24104cce",
   "metadata": {},
   "outputs": [
    {
     "data": {
      "text/plain": [
       "array(['Week III', 'Week IV', 'Week II'], dtype=object)"
      ]
     },
     "execution_count": 130,
     "metadata": {},
     "output_type": "execute_result"
    }
   ],
   "source": [
    "positive['Week'].unique()"
   ]
  },
  {
   "cell_type": "code",
   "execution_count": 133,
   "id": "a820db9e-0193-47c1-8792-6699fcd4d1c8",
   "metadata": {},
   "outputs": [
    {
     "data": {
      "text/html": [
       "<div>\n",
       "<style scoped>\n",
       "    .dataframe tbody tr th:only-of-type {\n",
       "        vertical-align: middle;\n",
       "    }\n",
       "\n",
       "    .dataframe tbody tr th {\n",
       "        vertical-align: top;\n",
       "    }\n",
       "\n",
       "    .dataframe thead th {\n",
       "        text-align: right;\n",
       "    }\n",
       "</style>\n",
       "<table border=\"1\" class=\"dataframe\">\n",
       "  <thead>\n",
       "    <tr style=\"text-align: right;\">\n",
       "      <th></th>\n",
       "      <th>Branch</th>\n",
       "      <th>Package</th>\n",
       "      <th>DayName</th>\n",
       "      <th>Week</th>\n",
       "      <th>AgeRange</th>\n",
       "      <th>DateNum</th>\n",
       "      <th>TotalAmount</th>\n",
       "      <th>MedicalResult_predict</th>\n",
       "    </tr>\n",
       "  </thead>\n",
       "  <tbody>\n",
       "    <tr>\n",
       "      <th>206822</th>\n",
       "      <td>ClinicACov Cikarang Pusat</td>\n",
       "      <td>Swab Antigen on ClinicACov stand (Result in 30...</td>\n",
       "      <td>Monday</td>\n",
       "      <td>Week II</td>\n",
       "      <td>18-60 Years</td>\n",
       "      <td>20</td>\n",
       "      <td>202000.0</td>\n",
       "      <td>Positive</td>\n",
       "    </tr>\n",
       "    <tr>\n",
       "      <th>207978</th>\n",
       "      <td>ClinicACov Cikarang Pusat</td>\n",
       "      <td>Swab Antigen on ClinicACov stand (Result in 30...</td>\n",
       "      <td>Monday</td>\n",
       "      <td>Week II</td>\n",
       "      <td>Over 60 Years</td>\n",
       "      <td>20</td>\n",
       "      <td>202000.0</td>\n",
       "      <td>Positive</td>\n",
       "    </tr>\n",
       "    <tr>\n",
       "      <th>248438</th>\n",
       "      <td>ClinicACov Cikarang Pusat</td>\n",
       "      <td>Swab PCR on ClinicACov stand (Result in 1x24Ho...</td>\n",
       "      <td>Monday</td>\n",
       "      <td>Week II</td>\n",
       "      <td>18-60 Years</td>\n",
       "      <td>20</td>\n",
       "      <td>202000.0</td>\n",
       "      <td>Positive</td>\n",
       "    </tr>\n",
       "    <tr>\n",
       "      <th>249594</th>\n",
       "      <td>ClinicACov Cikarang Pusat</td>\n",
       "      <td>Swab PCR on ClinicACov stand (Result in 1x24Ho...</td>\n",
       "      <td>Monday</td>\n",
       "      <td>Week II</td>\n",
       "      <td>Over 60 Years</td>\n",
       "      <td>20</td>\n",
       "      <td>202000.0</td>\n",
       "      <td>Positive</td>\n",
       "    </tr>\n",
       "    <tr>\n",
       "      <th>290054</th>\n",
       "      <td>ClinicACov Cikarang Pusat</td>\n",
       "      <td>Swab PCR Client Home (Result in D+1)</td>\n",
       "      <td>Monday</td>\n",
       "      <td>Week II</td>\n",
       "      <td>18-60 Years</td>\n",
       "      <td>20</td>\n",
       "      <td>202000.0</td>\n",
       "      <td>Positive</td>\n",
       "    </tr>\n",
       "    <tr>\n",
       "      <th>291210</th>\n",
       "      <td>ClinicACov Cikarang Pusat</td>\n",
       "      <td>Swab PCR Client Home (Result in D+1)</td>\n",
       "      <td>Monday</td>\n",
       "      <td>Week II</td>\n",
       "      <td>Over 60 Years</td>\n",
       "      <td>20</td>\n",
       "      <td>202000.0</td>\n",
       "      <td>Positive</td>\n",
       "    </tr>\n",
       "    <tr>\n",
       "      <th>331670</th>\n",
       "      <td>ClinicACov Cikarang Pusat</td>\n",
       "      <td>Swab Antigen Client Home (Result in 30Minutes)</td>\n",
       "      <td>Monday</td>\n",
       "      <td>Week II</td>\n",
       "      <td>18-60 Years</td>\n",
       "      <td>20</td>\n",
       "      <td>202000.0</td>\n",
       "      <td>Positive</td>\n",
       "    </tr>\n",
       "    <tr>\n",
       "      <th>332826</th>\n",
       "      <td>ClinicACov Cikarang Pusat</td>\n",
       "      <td>Swab Antigen Client Home (Result in 30Minutes)</td>\n",
       "      <td>Monday</td>\n",
       "      <td>Week II</td>\n",
       "      <td>Over 60 Years</td>\n",
       "      <td>20</td>\n",
       "      <td>202000.0</td>\n",
       "      <td>Positive</td>\n",
       "    </tr>\n",
       "    <tr>\n",
       "      <th>872678</th>\n",
       "      <td>ClinicACov Margonda</td>\n",
       "      <td>Swab Antigen on ClinicACov stand (Result in 30...</td>\n",
       "      <td>Monday</td>\n",
       "      <td>Week II</td>\n",
       "      <td>18-60 Years</td>\n",
       "      <td>20</td>\n",
       "      <td>202000.0</td>\n",
       "      <td>Positive</td>\n",
       "    </tr>\n",
       "    <tr>\n",
       "      <th>873834</th>\n",
       "      <td>ClinicACov Margonda</td>\n",
       "      <td>Swab Antigen on ClinicACov stand (Result in 30...</td>\n",
       "      <td>Monday</td>\n",
       "      <td>Week II</td>\n",
       "      <td>Over 60 Years</td>\n",
       "      <td>20</td>\n",
       "      <td>202000.0</td>\n",
       "      <td>Positive</td>\n",
       "    </tr>\n",
       "    <tr>\n",
       "      <th>914294</th>\n",
       "      <td>ClinicACov Margonda</td>\n",
       "      <td>Swab PCR on ClinicACov stand (Result in 1x24Ho...</td>\n",
       "      <td>Monday</td>\n",
       "      <td>Week II</td>\n",
       "      <td>18-60 Years</td>\n",
       "      <td>20</td>\n",
       "      <td>202000.0</td>\n",
       "      <td>Positive</td>\n",
       "    </tr>\n",
       "    <tr>\n",
       "      <th>915450</th>\n",
       "      <td>ClinicACov Margonda</td>\n",
       "      <td>Swab PCR on ClinicACov stand (Result in 1x24Ho...</td>\n",
       "      <td>Monday</td>\n",
       "      <td>Week II</td>\n",
       "      <td>Over 60 Years</td>\n",
       "      <td>20</td>\n",
       "      <td>202000.0</td>\n",
       "      <td>Positive</td>\n",
       "    </tr>\n",
       "    <tr>\n",
       "      <th>955910</th>\n",
       "      <td>ClinicACov Margonda</td>\n",
       "      <td>Swab PCR Client Home (Result in D+1)</td>\n",
       "      <td>Monday</td>\n",
       "      <td>Week II</td>\n",
       "      <td>18-60 Years</td>\n",
       "      <td>20</td>\n",
       "      <td>202000.0</td>\n",
       "      <td>Positive</td>\n",
       "    </tr>\n",
       "    <tr>\n",
       "      <th>957066</th>\n",
       "      <td>ClinicACov Margonda</td>\n",
       "      <td>Swab PCR Client Home (Result in D+1)</td>\n",
       "      <td>Monday</td>\n",
       "      <td>Week II</td>\n",
       "      <td>Over 60 Years</td>\n",
       "      <td>20</td>\n",
       "      <td>202000.0</td>\n",
       "      <td>Positive</td>\n",
       "    </tr>\n",
       "    <tr>\n",
       "      <th>997526</th>\n",
       "      <td>ClinicACov Margonda</td>\n",
       "      <td>Swab Antigen Client Home (Result in 30Minutes)</td>\n",
       "      <td>Monday</td>\n",
       "      <td>Week II</td>\n",
       "      <td>18-60 Years</td>\n",
       "      <td>20</td>\n",
       "      <td>202000.0</td>\n",
       "      <td>Positive</td>\n",
       "    </tr>\n",
       "    <tr>\n",
       "      <th>998682</th>\n",
       "      <td>ClinicACov Margonda</td>\n",
       "      <td>Swab Antigen Client Home (Result in 30Minutes)</td>\n",
       "      <td>Monday</td>\n",
       "      <td>Week II</td>\n",
       "      <td>Over 60 Years</td>\n",
       "      <td>20</td>\n",
       "      <td>202000.0</td>\n",
       "      <td>Positive</td>\n",
       "    </tr>\n",
       "  </tbody>\n",
       "</table>\n",
       "</div>"
      ],
      "text/plain": [
       "                           Branch  \\\n",
       "206822  ClinicACov Cikarang Pusat   \n",
       "207978  ClinicACov Cikarang Pusat   \n",
       "248438  ClinicACov Cikarang Pusat   \n",
       "249594  ClinicACov Cikarang Pusat   \n",
       "290054  ClinicACov Cikarang Pusat   \n",
       "291210  ClinicACov Cikarang Pusat   \n",
       "331670  ClinicACov Cikarang Pusat   \n",
       "332826  ClinicACov Cikarang Pusat   \n",
       "872678        ClinicACov Margonda   \n",
       "873834        ClinicACov Margonda   \n",
       "914294        ClinicACov Margonda   \n",
       "915450        ClinicACov Margonda   \n",
       "955910        ClinicACov Margonda   \n",
       "957066        ClinicACov Margonda   \n",
       "997526        ClinicACov Margonda   \n",
       "998682        ClinicACov Margonda   \n",
       "\n",
       "                                                  Package DayName     Week  \\\n",
       "206822  Swab Antigen on ClinicACov stand (Result in 30...  Monday  Week II   \n",
       "207978  Swab Antigen on ClinicACov stand (Result in 30...  Monday  Week II   \n",
       "248438  Swab PCR on ClinicACov stand (Result in 1x24Ho...  Monday  Week II   \n",
       "249594  Swab PCR on ClinicACov stand (Result in 1x24Ho...  Monday  Week II   \n",
       "290054               Swab PCR Client Home (Result in D+1)  Monday  Week II   \n",
       "291210               Swab PCR Client Home (Result in D+1)  Monday  Week II   \n",
       "331670     Swab Antigen Client Home (Result in 30Minutes)  Monday  Week II   \n",
       "332826     Swab Antigen Client Home (Result in 30Minutes)  Monday  Week II   \n",
       "872678  Swab Antigen on ClinicACov stand (Result in 30...  Monday  Week II   \n",
       "873834  Swab Antigen on ClinicACov stand (Result in 30...  Monday  Week II   \n",
       "914294  Swab PCR on ClinicACov stand (Result in 1x24Ho...  Monday  Week II   \n",
       "915450  Swab PCR on ClinicACov stand (Result in 1x24Ho...  Monday  Week II   \n",
       "955910               Swab PCR Client Home (Result in D+1)  Monday  Week II   \n",
       "957066               Swab PCR Client Home (Result in D+1)  Monday  Week II   \n",
       "997526     Swab Antigen Client Home (Result in 30Minutes)  Monday  Week II   \n",
       "998682     Swab Antigen Client Home (Result in 30Minutes)  Monday  Week II   \n",
       "\n",
       "             AgeRange  DateNum  TotalAmount MedicalResult_predict  \n",
       "206822    18-60 Years       20     202000.0              Positive  \n",
       "207978  Over 60 Years       20     202000.0              Positive  \n",
       "248438    18-60 Years       20     202000.0              Positive  \n",
       "249594  Over 60 Years       20     202000.0              Positive  \n",
       "290054    18-60 Years       20     202000.0              Positive  \n",
       "291210  Over 60 Years       20     202000.0              Positive  \n",
       "331670    18-60 Years       20     202000.0              Positive  \n",
       "332826  Over 60 Years       20     202000.0              Positive  \n",
       "872678    18-60 Years       20     202000.0              Positive  \n",
       "873834  Over 60 Years       20     202000.0              Positive  \n",
       "914294    18-60 Years       20     202000.0              Positive  \n",
       "915450  Over 60 Years       20     202000.0              Positive  \n",
       "955910    18-60 Years       20     202000.0              Positive  \n",
       "957066  Over 60 Years       20     202000.0              Positive  \n",
       "997526    18-60 Years       20     202000.0              Positive  \n",
       "998682  Over 60 Years       20     202000.0              Positive  "
      ]
     },
     "execution_count": 133,
     "metadata": {},
     "output_type": "execute_result"
    }
   ],
   "source": [
    "positive[positive['Week'] == 'Week II']"
   ]
  },
  {
   "cell_type": "code",
   "execution_count": null,
   "id": "dbeb6a0e-8b31-48bd-96b3-171864ecad3b",
   "metadata": {},
   "outputs": [],
   "source": []
  }
 ],
 "metadata": {
  "kernelspec": {
   "display_name": "Python 3 (ipykernel)",
   "language": "python",
   "name": "python3"
  },
  "language_info": {
   "codemirror_mode": {
    "name": "ipython",
    "version": 3
   },
   "file_extension": ".py",
   "mimetype": "text/x-python",
   "name": "python",
   "nbconvert_exporter": "python",
   "pygments_lexer": "ipython3",
   "version": "3.8.8"
  }
 },
 "nbformat": 4,
 "nbformat_minor": 5
}
