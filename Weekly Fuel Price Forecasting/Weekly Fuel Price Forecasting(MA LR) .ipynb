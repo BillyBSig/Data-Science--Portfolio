{
 "cells": [
  {
   "cell_type": "markdown",
   "id": "6a225cf7-b074-4c4c-9da4-f66226dd6f35",
   "metadata": {
    "tags": []
   },
   "source": [
    "# <center> Weekly Fuel Price\n",
    "---\n",
    "---"
   ]
  },
  {
   "cell_type": "markdown",
   "id": "d536f2f4-cddf-4af7-b83f-09ab7c9d10e3",
   "metadata": {},
   "source": [
    "## Import Library"
   ]
  },
  {
   "cell_type": "code",
   "execution_count": 1,
   "id": "fefb199b-53fd-444b-9af1-ad7d646ca8dd",
   "metadata": {},
   "outputs": [],
   "source": [
    "import pandas as pd\n",
    "import numpy as np\n",
    "import matplotlib.pyplot as plt\n",
    "%matplotlib inline\n",
    "\n",
    "import warnings\n",
    "warnings.filterwarnings('ignore')\n",
    "\n",
    "from sklearn.metrics import mean_squared_error, mean_absolute_percentage_error, mean_absolute_error\n",
    "\n",
    "from sklearn.linear_model import LinearRegression"
   ]
  },
  {
   "cell_type": "code",
   "execution_count": 2,
   "id": "3c760cc3-39c9-4b70-aedf-2eb229e5ff42",
   "metadata": {},
   "outputs": [],
   "source": [
    "#Import dataset\n",
    "data = pd.read_excel('Weekly Fuel Prices.xlsx', parse_dates=True)"
   ]
  },
  {
   "cell_type": "code",
   "execution_count": 3,
   "id": "5c75a330-b7c6-40a4-a171-35a069057c58",
   "metadata": {},
   "outputs": [
    {
     "data": {
      "text/html": [
       "<div>\n",
       "<style scoped>\n",
       "    .dataframe tbody tr th:only-of-type {\n",
       "        vertical-align: middle;\n",
       "    }\n",
       "\n",
       "    .dataframe tbody tr th {\n",
       "        vertical-align: top;\n",
       "    }\n",
       "\n",
       "    .dataframe thead th {\n",
       "        text-align: right;\n",
       "    }\n",
       "</style>\n",
       "<table border=\"1\" class=\"dataframe\">\n",
       "  <thead>\n",
       "    <tr style=\"text-align: right;\">\n",
       "      <th></th>\n",
       "      <th>Date</th>\n",
       "      <th>Petrol (USD)</th>\n",
       "      <th>Diesel (USD)</th>\n",
       "    </tr>\n",
       "  </thead>\n",
       "  <tbody>\n",
       "    <tr>\n",
       "      <th>0</th>\n",
       "      <td>2003-06-09 00:00:00</td>\n",
       "      <td>74.590284</td>\n",
       "      <td>76.773394</td>\n",
       "    </tr>\n",
       "    <tr>\n",
       "      <th>1</th>\n",
       "      <td>2003-06-16 00:00:00</td>\n",
       "      <td>74.469143</td>\n",
       "      <td>76.689054</td>\n",
       "    </tr>\n",
       "    <tr>\n",
       "      <th>2</th>\n",
       "      <td>2003-06-23 00:00:00</td>\n",
       "      <td>74.423566</td>\n",
       "      <td>76.620546</td>\n",
       "    </tr>\n",
       "    <tr>\n",
       "      <th>3</th>\n",
       "      <td>2003-06-30 00:00:00</td>\n",
       "      <td>74.352421</td>\n",
       "      <td>76.505260</td>\n",
       "    </tr>\n",
       "    <tr>\n",
       "      <th>4</th>\n",
       "      <td>2003-07-07 00:00:00</td>\n",
       "      <td>74.283737</td>\n",
       "      <td>76.457376</td>\n",
       "    </tr>\n",
       "  </tbody>\n",
       "</table>\n",
       "</div>"
      ],
      "text/plain": [
       "                  Date  Petrol (USD)  Diesel (USD)\n",
       "0  2003-06-09 00:00:00     74.590284     76.773394\n",
       "1  2003-06-16 00:00:00     74.469143     76.689054\n",
       "2  2003-06-23 00:00:00     74.423566     76.620546\n",
       "3  2003-06-30 00:00:00     74.352421     76.505260\n",
       "4  2003-07-07 00:00:00     74.283737     76.457376"
      ]
     },
     "execution_count": 3,
     "metadata": {},
     "output_type": "execute_result"
    }
   ],
   "source": [
    "data.head()"
   ]
  },
  {
   "cell_type": "code",
   "execution_count": 4,
   "id": "5c374020-b1d9-481b-ac2f-5c869bac9e01",
   "metadata": {},
   "outputs": [
    {
     "data": {
      "text/html": [
       "<div>\n",
       "<style scoped>\n",
       "    .dataframe tbody tr th:only-of-type {\n",
       "        vertical-align: middle;\n",
       "    }\n",
       "\n",
       "    .dataframe tbody tr th {\n",
       "        vertical-align: top;\n",
       "    }\n",
       "\n",
       "    .dataframe thead th {\n",
       "        text-align: right;\n",
       "    }\n",
       "</style>\n",
       "<table border=\"1\" class=\"dataframe\">\n",
       "  <thead>\n",
       "    <tr style=\"text-align: right;\">\n",
       "      <th></th>\n",
       "      <th>Date</th>\n",
       "      <th>Petrol (USD)</th>\n",
       "      <th>Diesel (USD)</th>\n",
       "    </tr>\n",
       "  </thead>\n",
       "  <tbody>\n",
       "    <tr>\n",
       "      <th>0</th>\n",
       "      <td>2003-06-09 00:00:00</td>\n",
       "      <td>74.590284</td>\n",
       "      <td>76.773394</td>\n",
       "    </tr>\n",
       "    <tr>\n",
       "      <th>1</th>\n",
       "      <td>2003-06-16 00:00:00</td>\n",
       "      <td>74.469143</td>\n",
       "      <td>76.689054</td>\n",
       "    </tr>\n",
       "    <tr>\n",
       "      <th>2</th>\n",
       "      <td>2003-06-23 00:00:00</td>\n",
       "      <td>74.423566</td>\n",
       "      <td>76.620546</td>\n",
       "    </tr>\n",
       "    <tr>\n",
       "      <th>3</th>\n",
       "      <td>2003-06-30 00:00:00</td>\n",
       "      <td>74.352421</td>\n",
       "      <td>76.505260</td>\n",
       "    </tr>\n",
       "    <tr>\n",
       "      <th>4</th>\n",
       "      <td>2003-07-07 00:00:00</td>\n",
       "      <td>74.283737</td>\n",
       "      <td>76.457376</td>\n",
       "    </tr>\n",
       "  </tbody>\n",
       "</table>\n",
       "</div>"
      ],
      "text/plain": [
       "                  Date  Petrol (USD)  Diesel (USD)\n",
       "0  2003-06-09 00:00:00     74.590284     76.773394\n",
       "1  2003-06-16 00:00:00     74.469143     76.689054\n",
       "2  2003-06-23 00:00:00     74.423566     76.620546\n",
       "3  2003-06-30 00:00:00     74.352421     76.505260\n",
       "4  2003-07-07 00:00:00     74.283737     76.457376"
      ]
     },
     "execution_count": 4,
     "metadata": {},
     "output_type": "execute_result"
    }
   ],
   "source": [
    "#Slice dataset\n",
    "data = data[['Date', 'Petrol (USD)', 'Diesel (USD)']]\n",
    "data.head()"
   ]
  },
  {
   "cell_type": "code",
   "execution_count": 5,
   "id": "32e13079-95ec-4519-954e-6d12539b3cfc",
   "metadata": {},
   "outputs": [
    {
     "data": {
      "text/html": [
       "<div>\n",
       "<style scoped>\n",
       "    .dataframe tbody tr th:only-of-type {\n",
       "        vertical-align: middle;\n",
       "    }\n",
       "\n",
       "    .dataframe tbody tr th {\n",
       "        vertical-align: top;\n",
       "    }\n",
       "\n",
       "    .dataframe thead th {\n",
       "        text-align: right;\n",
       "    }\n",
       "</style>\n",
       "<table border=\"1\" class=\"dataframe\">\n",
       "  <thead>\n",
       "    <tr style=\"text-align: right;\">\n",
       "      <th></th>\n",
       "      <th>Date</th>\n",
       "      <th>Petrol (USD)</th>\n",
       "      <th>Diesel (USD)</th>\n",
       "    </tr>\n",
       "  </thead>\n",
       "  <tbody>\n",
       "    <tr>\n",
       "      <th>878</th>\n",
       "      <td>2020-04-06 00:00:00</td>\n",
       "      <td>110.234797</td>\n",
       "      <td>116.833354</td>\n",
       "    </tr>\n",
       "    <tr>\n",
       "      <th>879</th>\n",
       "      <td>2020-04-13 00:00:00</td>\n",
       "      <td>109.265819</td>\n",
       "      <td>116.150812</td>\n",
       "    </tr>\n",
       "    <tr>\n",
       "      <th>880</th>\n",
       "      <td>2020-04-20 00:00:00</td>\n",
       "      <td>108.632747</td>\n",
       "      <td>115.732573</td>\n",
       "    </tr>\n",
       "    <tr>\n",
       "      <th>881</th>\n",
       "      <td>NaN</td>\n",
       "      <td>NaN</td>\n",
       "      <td>NaN</td>\n",
       "    </tr>\n",
       "    <tr>\n",
       "      <th>882</th>\n",
       "      <td>Return to Contents page</td>\n",
       "      <td>NaN</td>\n",
       "      <td>NaN</td>\n",
       "    </tr>\n",
       "  </tbody>\n",
       "</table>\n",
       "</div>"
      ],
      "text/plain": [
       "                        Date  Petrol (USD)  Diesel (USD)\n",
       "878      2020-04-06 00:00:00    110.234797    116.833354\n",
       "879      2020-04-13 00:00:00    109.265819    116.150812\n",
       "880      2020-04-20 00:00:00    108.632747    115.732573\n",
       "881                      NaN           NaN           NaN\n",
       "882  Return to Contents page           NaN           NaN"
      ]
     },
     "execution_count": 5,
     "metadata": {},
     "output_type": "execute_result"
    }
   ],
   "source": [
    "#data tail\n",
    "data.tail()"
   ]
  },
  {
   "cell_type": "code",
   "execution_count": 6,
   "id": "386eb06d-2a91-47f3-a564-f3043ba954bb",
   "metadata": {},
   "outputs": [
    {
     "name": "stdout",
     "output_type": "stream",
     "text": [
      "<class 'pandas.core.frame.DataFrame'>\n",
      "RangeIndex: 883 entries, 0 to 882\n",
      "Data columns (total 3 columns):\n",
      " #   Column        Non-Null Count  Dtype  \n",
      "---  ------        --------------  -----  \n",
      " 0   Date          882 non-null    object \n",
      " 1   Petrol (USD)  881 non-null    float64\n",
      " 2   Diesel (USD)  881 non-null    float64\n",
      "dtypes: float64(2), object(1)\n",
      "memory usage: 20.8+ KB\n"
     ]
    }
   ],
   "source": [
    "data.info()"
   ]
  },
  {
   "cell_type": "code",
   "execution_count": 7,
   "id": "8d104825-4182-4e88-bb82-969c3e966f5e",
   "metadata": {},
   "outputs": [],
   "source": [
    "#Drop null value from dataset\n",
    "data.dropna(inplace=True)"
   ]
  },
  {
   "cell_type": "code",
   "execution_count": 8,
   "id": "3f273136-e520-461f-8058-d3765ed0b700",
   "metadata": {},
   "outputs": [],
   "source": [
    "#Date format for Date column\n",
    "data['Date'] = pd.to_datetime(data['Date'])"
   ]
  },
  {
   "cell_type": "code",
   "execution_count": 9,
   "id": "a4a08e6d-e8f2-410e-9548-6fbabbf747f7",
   "metadata": {},
   "outputs": [],
   "source": [
    "#Set index dataset\n",
    "data.set_index('Date', inplace=True)"
   ]
  },
  {
   "cell_type": "code",
   "execution_count": 10,
   "id": "5f3e37b9-efe7-4eae-ac04-b23f875ba067",
   "metadata": {},
   "outputs": [
    {
     "data": {
      "text/html": [
       "<div>\n",
       "<style scoped>\n",
       "    .dataframe tbody tr th:only-of-type {\n",
       "        vertical-align: middle;\n",
       "    }\n",
       "\n",
       "    .dataframe tbody tr th {\n",
       "        vertical-align: top;\n",
       "    }\n",
       "\n",
       "    .dataframe thead th {\n",
       "        text-align: right;\n",
       "    }\n",
       "</style>\n",
       "<table border=\"1\" class=\"dataframe\">\n",
       "  <thead>\n",
       "    <tr style=\"text-align: right;\">\n",
       "      <th></th>\n",
       "      <th>Petrol (USD)</th>\n",
       "      <th>Diesel (USD)</th>\n",
       "    </tr>\n",
       "    <tr>\n",
       "      <th>Date</th>\n",
       "      <th></th>\n",
       "      <th></th>\n",
       "    </tr>\n",
       "  </thead>\n",
       "  <tbody>\n",
       "    <tr>\n",
       "      <th>2003-06-09</th>\n",
       "      <td>74.590284</td>\n",
       "      <td>76.773394</td>\n",
       "    </tr>\n",
       "    <tr>\n",
       "      <th>2003-06-16</th>\n",
       "      <td>74.469143</td>\n",
       "      <td>76.689054</td>\n",
       "    </tr>\n",
       "    <tr>\n",
       "      <th>2003-06-23</th>\n",
       "      <td>74.423566</td>\n",
       "      <td>76.620546</td>\n",
       "    </tr>\n",
       "    <tr>\n",
       "      <th>2003-06-30</th>\n",
       "      <td>74.352421</td>\n",
       "      <td>76.505260</td>\n",
       "    </tr>\n",
       "    <tr>\n",
       "      <th>2003-07-07</th>\n",
       "      <td>74.283737</td>\n",
       "      <td>76.457376</td>\n",
       "    </tr>\n",
       "  </tbody>\n",
       "</table>\n",
       "</div>"
      ],
      "text/plain": [
       "            Petrol (USD)  Diesel (USD)\n",
       "Date                                  \n",
       "2003-06-09     74.590284     76.773394\n",
       "2003-06-16     74.469143     76.689054\n",
       "2003-06-23     74.423566     76.620546\n",
       "2003-06-30     74.352421     76.505260\n",
       "2003-07-07     74.283737     76.457376"
      ]
     },
     "execution_count": 10,
     "metadata": {},
     "output_type": "execute_result"
    }
   ],
   "source": [
    "data.head()"
   ]
  },
  {
   "cell_type": "code",
   "execution_count": 11,
   "id": "5bf81ab0-12df-4bca-bc9d-b441acc9d760",
   "metadata": {},
   "outputs": [],
   "source": [
    "df = data.copy()"
   ]
  },
  {
   "cell_type": "code",
   "execution_count": 12,
   "id": "f5663257-9156-40e7-8d17-0c570540a8e5",
   "metadata": {},
   "outputs": [
    {
     "data": {
      "text/plain": [
       "'Monday'"
      ]
     },
     "execution_count": 12,
     "metadata": {},
     "output_type": "execute_result"
    }
   ],
   "source": [
    "#Day name for each index\n",
    "df.index[2].strftime('%A')"
   ]
  },
  {
   "cell_type": "markdown",
   "id": "e4c281c6-e41c-4b61-95ac-2f43e9ce800d",
   "metadata": {},
   "source": [
    "Data set has weekly frequency each monday "
   ]
  },
  {
   "cell_type": "code",
   "execution_count": 13,
   "id": "a7f7f2aa-58f6-412a-9d8b-b95387be7fbc",
   "metadata": {},
   "outputs": [],
   "source": [
    "#set frequency to weekly frequency (Mondays) 'W-MON'\n",
    "df = df.asfreq('W-MON')"
   ]
  },
  {
   "cell_type": "code",
   "execution_count": 14,
   "id": "7cf842ca-b0c9-494d-b562-2cf316d8e9b4",
   "metadata": {},
   "outputs": [
    {
     "data": {
      "text/plain": [
       "DatetimeIndex(['2003-06-09', '2003-06-16', '2003-06-23', '2003-06-30',\n",
       "               '2003-07-07', '2003-07-14', '2003-07-21', '2003-07-28',\n",
       "               '2003-08-04', '2003-08-11',\n",
       "               ...\n",
       "               '2020-02-17', '2020-02-24', '2020-03-02', '2020-03-09',\n",
       "               '2020-03-16', '2020-03-23', '2020-03-30', '2020-04-06',\n",
       "               '2020-04-13', '2020-04-20'],\n",
       "              dtype='datetime64[ns]', name='Date', length=881, freq='W-MON')"
      ]
     },
     "execution_count": 14,
     "metadata": {},
     "output_type": "execute_result"
    }
   ],
   "source": [
    "df.index"
   ]
  },
  {
   "cell_type": "code",
   "execution_count": 15,
   "id": "3e5e7966-550e-4dfc-91a5-b1551807e860",
   "metadata": {},
   "outputs": [
    {
     "data": {
      "text/html": [
       "<div>\n",
       "<style scoped>\n",
       "    .dataframe tbody tr th:only-of-type {\n",
       "        vertical-align: middle;\n",
       "    }\n",
       "\n",
       "    .dataframe tbody tr th {\n",
       "        vertical-align: top;\n",
       "    }\n",
       "\n",
       "    .dataframe thead th {\n",
       "        text-align: right;\n",
       "    }\n",
       "</style>\n",
       "<table border=\"1\" class=\"dataframe\">\n",
       "  <thead>\n",
       "    <tr style=\"text-align: right;\">\n",
       "      <th></th>\n",
       "      <th>Petrol (USD)</th>\n",
       "      <th>Diesel (USD)</th>\n",
       "    </tr>\n",
       "    <tr>\n",
       "      <th>Date</th>\n",
       "      <th></th>\n",
       "      <th></th>\n",
       "    </tr>\n",
       "  </thead>\n",
       "  <tbody>\n",
       "    <tr>\n",
       "      <th>2003-08-25</th>\n",
       "      <td>NaN</td>\n",
       "      <td>NaN</td>\n",
       "    </tr>\n",
       "    <tr>\n",
       "      <th>2004-05-03</th>\n",
       "      <td>NaN</td>\n",
       "      <td>NaN</td>\n",
       "    </tr>\n",
       "    <tr>\n",
       "      <th>2004-08-30</th>\n",
       "      <td>NaN</td>\n",
       "      <td>NaN</td>\n",
       "    </tr>\n",
       "    <tr>\n",
       "      <th>2006-04-17</th>\n",
       "      <td>NaN</td>\n",
       "      <td>NaN</td>\n",
       "    </tr>\n",
       "    <tr>\n",
       "      <th>2007-04-09</th>\n",
       "      <td>NaN</td>\n",
       "      <td>NaN</td>\n",
       "    </tr>\n",
       "    <tr>\n",
       "      <th>2013-08-26</th>\n",
       "      <td>NaN</td>\n",
       "      <td>NaN</td>\n",
       "    </tr>\n",
       "  </tbody>\n",
       "</table>\n",
       "</div>"
      ],
      "text/plain": [
       "            Petrol (USD)  Diesel (USD)\n",
       "Date                                  \n",
       "2003-08-25           NaN           NaN\n",
       "2004-05-03           NaN           NaN\n",
       "2004-08-30           NaN           NaN\n",
       "2006-04-17           NaN           NaN\n",
       "2007-04-09           NaN           NaN\n",
       "2013-08-26           NaN           NaN"
      ]
     },
     "execution_count": 15,
     "metadata": {},
     "output_type": "execute_result"
    }
   ],
   "source": [
    "null_df = df[df['Petrol (USD)'].isnull()]\n",
    "null_df"
   ]
  },
  {
   "cell_type": "code",
   "execution_count": 16,
   "id": "35af7474-07a2-4f1f-90a3-62451b6206d9",
   "metadata": {},
   "outputs": [
    {
     "data": {
      "text/plain": [
       "DatetimeIndex(['2003-08-25', '2004-05-03', '2004-08-30', '2006-04-17',\n",
       "               '2007-04-09', '2013-08-26'],\n",
       "              dtype='datetime64[ns]', name='Date', freq=None)"
      ]
     },
     "execution_count": 16,
     "metadata": {},
     "output_type": "execute_result"
    }
   ],
   "source": [
    "null_df.index"
   ]
  },
  {
   "cell_type": "markdown",
   "id": "4bda79e1-609f-4146-8066-fddf22a768e6",
   "metadata": {},
   "source": [
    "Null value because on '2003-08-25', '2004-05-03', '2004-08-30', '2006-04-17', and '2007-04-09', '2013-08-26' not stored on monday in the original dataset, but sunday."
   ]
  },
  {
   "cell_type": "code",
   "execution_count": 17,
   "id": "981a3a45-02d0-42c3-b6ff-c30168af85a2",
   "metadata": {},
   "outputs": [
    {
     "data": {
      "text/plain": [
       "DatetimeIndex(['2003-06-09', '2003-06-16', '2003-06-23', '2003-06-30',\n",
       "               '2003-07-07', '2003-07-14', '2003-07-21', '2003-07-28',\n",
       "               '2003-08-04', '2003-08-11',\n",
       "               ...\n",
       "               '2020-02-17', '2020-02-24', '2020-03-02', '2020-03-09',\n",
       "               '2020-03-16', '2020-03-23', '2020-03-30', '2020-04-06',\n",
       "               '2020-04-13', '2020-04-20'],\n",
       "              dtype='datetime64[ns]', name='Date', length=881, freq='W-MON')"
      ]
     },
     "execution_count": 17,
     "metadata": {},
     "output_type": "execute_result"
    }
   ],
   "source": [
    "#store df weekly frequency index\n",
    "ind = df.index\n",
    "ind"
   ]
  },
  {
   "cell_type": "code",
   "execution_count": 18,
   "id": "e1962d9e-65b1-4b0c-af09-ad0abe3f3a70",
   "metadata": {},
   "outputs": [
    {
     "data": {
      "text/html": [
       "<div>\n",
       "<style scoped>\n",
       "    .dataframe tbody tr th:only-of-type {\n",
       "        vertical-align: middle;\n",
       "    }\n",
       "\n",
       "    .dataframe tbody tr th {\n",
       "        vertical-align: top;\n",
       "    }\n",
       "\n",
       "    .dataframe thead th {\n",
       "        text-align: right;\n",
       "    }\n",
       "</style>\n",
       "<table border=\"1\" class=\"dataframe\">\n",
       "  <thead>\n",
       "    <tr style=\"text-align: right;\">\n",
       "      <th></th>\n",
       "      <th>Petrol (USD)</th>\n",
       "      <th>Diesel (USD)</th>\n",
       "    </tr>\n",
       "  </thead>\n",
       "  <tbody>\n",
       "    <tr>\n",
       "      <th>0</th>\n",
       "      <td>74.590284</td>\n",
       "      <td>76.773394</td>\n",
       "    </tr>\n",
       "    <tr>\n",
       "      <th>1</th>\n",
       "      <td>74.469143</td>\n",
       "      <td>76.689054</td>\n",
       "    </tr>\n",
       "    <tr>\n",
       "      <th>2</th>\n",
       "      <td>74.423566</td>\n",
       "      <td>76.620546</td>\n",
       "    </tr>\n",
       "    <tr>\n",
       "      <th>3</th>\n",
       "      <td>74.352421</td>\n",
       "      <td>76.505260</td>\n",
       "    </tr>\n",
       "    <tr>\n",
       "      <th>4</th>\n",
       "      <td>74.283737</td>\n",
       "      <td>76.457376</td>\n",
       "    </tr>\n",
       "    <tr>\n",
       "      <th>...</th>\n",
       "      <td>...</td>\n",
       "      <td>...</td>\n",
       "    </tr>\n",
       "    <tr>\n",
       "      <th>876</th>\n",
       "      <td>119.644504</td>\n",
       "      <td>123.409485</td>\n",
       "    </tr>\n",
       "    <tr>\n",
       "      <th>877</th>\n",
       "      <td>112.452709</td>\n",
       "      <td>118.597998</td>\n",
       "    </tr>\n",
       "    <tr>\n",
       "      <th>878</th>\n",
       "      <td>110.234797</td>\n",
       "      <td>116.833354</td>\n",
       "    </tr>\n",
       "    <tr>\n",
       "      <th>879</th>\n",
       "      <td>109.265819</td>\n",
       "      <td>116.150812</td>\n",
       "    </tr>\n",
       "    <tr>\n",
       "      <th>880</th>\n",
       "      <td>108.632747</td>\n",
       "      <td>115.732573</td>\n",
       "    </tr>\n",
       "  </tbody>\n",
       "</table>\n",
       "<p>881 rows × 2 columns</p>\n",
       "</div>"
      ],
      "text/plain": [
       "     Petrol (USD)  Diesel (USD)\n",
       "0       74.590284     76.773394\n",
       "1       74.469143     76.689054\n",
       "2       74.423566     76.620546\n",
       "3       74.352421     76.505260\n",
       "4       74.283737     76.457376\n",
       "..            ...           ...\n",
       "876    119.644504    123.409485\n",
       "877    112.452709    118.597998\n",
       "878    110.234797    116.833354\n",
       "879    109.265819    116.150812\n",
       "880    108.632747    115.732573\n",
       "\n",
       "[881 rows x 2 columns]"
      ]
     },
     "execution_count": 18,
     "metadata": {},
     "output_type": "execute_result"
    }
   ],
   "source": [
    "#Reset and drop index\n",
    "df = data.reset_index()\n",
    "df = df.drop('Date',axis=1)\n",
    "df"
   ]
  },
  {
   "cell_type": "code",
   "execution_count": 19,
   "id": "9c425840-45a8-4cf5-aeb4-ce0335ee0cc8",
   "metadata": {},
   "outputs": [
    {
     "data": {
      "text/html": [
       "<div>\n",
       "<style scoped>\n",
       "    .dataframe tbody tr th:only-of-type {\n",
       "        vertical-align: middle;\n",
       "    }\n",
       "\n",
       "    .dataframe tbody tr th {\n",
       "        vertical-align: top;\n",
       "    }\n",
       "\n",
       "    .dataframe thead th {\n",
       "        text-align: right;\n",
       "    }\n",
       "</style>\n",
       "<table border=\"1\" class=\"dataframe\">\n",
       "  <thead>\n",
       "    <tr style=\"text-align: right;\">\n",
       "      <th></th>\n",
       "      <th>Petrol (USD)</th>\n",
       "      <th>Diesel (USD)</th>\n",
       "      <th>Date</th>\n",
       "    </tr>\n",
       "  </thead>\n",
       "  <tbody>\n",
       "    <tr>\n",
       "      <th>0</th>\n",
       "      <td>74.590284</td>\n",
       "      <td>76.773394</td>\n",
       "      <td>2003-06-09</td>\n",
       "    </tr>\n",
       "    <tr>\n",
       "      <th>1</th>\n",
       "      <td>74.469143</td>\n",
       "      <td>76.689054</td>\n",
       "      <td>2003-06-16</td>\n",
       "    </tr>\n",
       "    <tr>\n",
       "      <th>2</th>\n",
       "      <td>74.423566</td>\n",
       "      <td>76.620546</td>\n",
       "      <td>2003-06-23</td>\n",
       "    </tr>\n",
       "    <tr>\n",
       "      <th>3</th>\n",
       "      <td>74.352421</td>\n",
       "      <td>76.505260</td>\n",
       "      <td>2003-06-30</td>\n",
       "    </tr>\n",
       "    <tr>\n",
       "      <th>4</th>\n",
       "      <td>74.283737</td>\n",
       "      <td>76.457376</td>\n",
       "      <td>2003-07-07</td>\n",
       "    </tr>\n",
       "    <tr>\n",
       "      <th>...</th>\n",
       "      <td>...</td>\n",
       "      <td>...</td>\n",
       "      <td>...</td>\n",
       "    </tr>\n",
       "    <tr>\n",
       "      <th>876</th>\n",
       "      <td>119.644504</td>\n",
       "      <td>123.409485</td>\n",
       "      <td>2020-03-23</td>\n",
       "    </tr>\n",
       "    <tr>\n",
       "      <th>877</th>\n",
       "      <td>112.452709</td>\n",
       "      <td>118.597998</td>\n",
       "      <td>2020-03-30</td>\n",
       "    </tr>\n",
       "    <tr>\n",
       "      <th>878</th>\n",
       "      <td>110.234797</td>\n",
       "      <td>116.833354</td>\n",
       "      <td>2020-04-06</td>\n",
       "    </tr>\n",
       "    <tr>\n",
       "      <th>879</th>\n",
       "      <td>109.265819</td>\n",
       "      <td>116.150812</td>\n",
       "      <td>2020-04-13</td>\n",
       "    </tr>\n",
       "    <tr>\n",
       "      <th>880</th>\n",
       "      <td>108.632747</td>\n",
       "      <td>115.732573</td>\n",
       "      <td>2020-04-20</td>\n",
       "    </tr>\n",
       "  </tbody>\n",
       "</table>\n",
       "<p>881 rows × 3 columns</p>\n",
       "</div>"
      ],
      "text/plain": [
       "     Petrol (USD)  Diesel (USD)       Date\n",
       "0       74.590284     76.773394 2003-06-09\n",
       "1       74.469143     76.689054 2003-06-16\n",
       "2       74.423566     76.620546 2003-06-23\n",
       "3       74.352421     76.505260 2003-06-30\n",
       "4       74.283737     76.457376 2003-07-07\n",
       "..            ...           ...        ...\n",
       "876    119.644504    123.409485 2020-03-23\n",
       "877    112.452709    118.597998 2020-03-30\n",
       "878    110.234797    116.833354 2020-04-06\n",
       "879    109.265819    116.150812 2020-04-13\n",
       "880    108.632747    115.732573 2020-04-20\n",
       "\n",
       "[881 rows x 3 columns]"
      ]
     },
     "execution_count": 19,
     "metadata": {},
     "output_type": "execute_result"
    }
   ],
   "source": [
    "#insert weekly frequency as Date column\n",
    "df['Date'] = ind\n",
    "df"
   ]
  },
  {
   "cell_type": "code",
   "execution_count": 20,
   "id": "2f49f983-c23b-42fd-8e53-03586efd27a4",
   "metadata": {},
   "outputs": [],
   "source": [
    "#Year column\n",
    "df['Year'] = pd.DatetimeIndex(df['Date']).year"
   ]
  },
  {
   "cell_type": "code",
   "execution_count": 21,
   "id": "2d001e31-3f2d-4a6f-9366-81799b1cc87d",
   "metadata": {},
   "outputs": [],
   "source": [
    "df.set_index('Date', inplace=True)"
   ]
  },
  {
   "cell_type": "code",
   "execution_count": 22,
   "id": "2595b9ed-d7e5-4cbe-8348-2b47949cac6d",
   "metadata": {},
   "outputs": [
    {
     "data": {
      "text/html": [
       "<div>\n",
       "<style scoped>\n",
       "    .dataframe tbody tr th:only-of-type {\n",
       "        vertical-align: middle;\n",
       "    }\n",
       "\n",
       "    .dataframe tbody tr th {\n",
       "        vertical-align: top;\n",
       "    }\n",
       "\n",
       "    .dataframe thead th {\n",
       "        text-align: right;\n",
       "    }\n",
       "</style>\n",
       "<table border=\"1\" class=\"dataframe\">\n",
       "  <thead>\n",
       "    <tr style=\"text-align: right;\">\n",
       "      <th></th>\n",
       "      <th>Petrol (USD)</th>\n",
       "      <th>Diesel (USD)</th>\n",
       "      <th>Year</th>\n",
       "    </tr>\n",
       "    <tr>\n",
       "      <th>Date</th>\n",
       "      <th></th>\n",
       "      <th></th>\n",
       "      <th></th>\n",
       "    </tr>\n",
       "  </thead>\n",
       "  <tbody>\n",
       "    <tr>\n",
       "      <th>2003-06-09</th>\n",
       "      <td>74.590284</td>\n",
       "      <td>76.773394</td>\n",
       "      <td>2003</td>\n",
       "    </tr>\n",
       "    <tr>\n",
       "      <th>2003-06-16</th>\n",
       "      <td>74.469143</td>\n",
       "      <td>76.689054</td>\n",
       "      <td>2003</td>\n",
       "    </tr>\n",
       "    <tr>\n",
       "      <th>2003-06-23</th>\n",
       "      <td>74.423566</td>\n",
       "      <td>76.620546</td>\n",
       "      <td>2003</td>\n",
       "    </tr>\n",
       "    <tr>\n",
       "      <th>2003-06-30</th>\n",
       "      <td>74.352421</td>\n",
       "      <td>76.505260</td>\n",
       "      <td>2003</td>\n",
       "    </tr>\n",
       "    <tr>\n",
       "      <th>2003-07-07</th>\n",
       "      <td>74.283737</td>\n",
       "      <td>76.457376</td>\n",
       "      <td>2003</td>\n",
       "    </tr>\n",
       "    <tr>\n",
       "      <th>...</th>\n",
       "      <td>...</td>\n",
       "      <td>...</td>\n",
       "      <td>...</td>\n",
       "    </tr>\n",
       "    <tr>\n",
       "      <th>2020-03-23</th>\n",
       "      <td>119.644504</td>\n",
       "      <td>123.409485</td>\n",
       "      <td>2020</td>\n",
       "    </tr>\n",
       "    <tr>\n",
       "      <th>2020-03-30</th>\n",
       "      <td>112.452709</td>\n",
       "      <td>118.597998</td>\n",
       "      <td>2020</td>\n",
       "    </tr>\n",
       "    <tr>\n",
       "      <th>2020-04-06</th>\n",
       "      <td>110.234797</td>\n",
       "      <td>116.833354</td>\n",
       "      <td>2020</td>\n",
       "    </tr>\n",
       "    <tr>\n",
       "      <th>2020-04-13</th>\n",
       "      <td>109.265819</td>\n",
       "      <td>116.150812</td>\n",
       "      <td>2020</td>\n",
       "    </tr>\n",
       "    <tr>\n",
       "      <th>2020-04-20</th>\n",
       "      <td>108.632747</td>\n",
       "      <td>115.732573</td>\n",
       "      <td>2020</td>\n",
       "    </tr>\n",
       "  </tbody>\n",
       "</table>\n",
       "<p>881 rows × 3 columns</p>\n",
       "</div>"
      ],
      "text/plain": [
       "            Petrol (USD)  Diesel (USD)  Year\n",
       "Date                                        \n",
       "2003-06-09     74.590284     76.773394  2003\n",
       "2003-06-16     74.469143     76.689054  2003\n",
       "2003-06-23     74.423566     76.620546  2003\n",
       "2003-06-30     74.352421     76.505260  2003\n",
       "2003-07-07     74.283737     76.457376  2003\n",
       "...                  ...           ...   ...\n",
       "2020-03-23    119.644504    123.409485  2020\n",
       "2020-03-30    112.452709    118.597998  2020\n",
       "2020-04-06    110.234797    116.833354  2020\n",
       "2020-04-13    109.265819    116.150812  2020\n",
       "2020-04-20    108.632747    115.732573  2020\n",
       "\n",
       "[881 rows x 3 columns]"
      ]
     },
     "execution_count": 22,
     "metadata": {},
     "output_type": "execute_result"
    }
   ],
   "source": [
    "df.asfreq('W-MON')"
   ]
  },
  {
   "cell_type": "code",
   "execution_count": 23,
   "id": "873019d0-3eb5-44f4-a468-235f03b56e25",
   "metadata": {},
   "outputs": [
    {
     "data": {
      "text/html": [
       "<div>\n",
       "<style scoped>\n",
       "    .dataframe tbody tr th:only-of-type {\n",
       "        vertical-align: middle;\n",
       "    }\n",
       "\n",
       "    .dataframe tbody tr th {\n",
       "        vertical-align: top;\n",
       "    }\n",
       "\n",
       "    .dataframe thead th {\n",
       "        text-align: right;\n",
       "    }\n",
       "</style>\n",
       "<table border=\"1\" class=\"dataframe\">\n",
       "  <thead>\n",
       "    <tr style=\"text-align: right;\">\n",
       "      <th></th>\n",
       "      <th>Petrol (USD)</th>\n",
       "      <th>Diesel (USD)</th>\n",
       "      <th>Year</th>\n",
       "    </tr>\n",
       "    <tr>\n",
       "      <th>Date</th>\n",
       "      <th></th>\n",
       "      <th></th>\n",
       "      <th></th>\n",
       "    </tr>\n",
       "  </thead>\n",
       "  <tbody>\n",
       "  </tbody>\n",
       "</table>\n",
       "</div>"
      ],
      "text/plain": [
       "Empty DataFrame\n",
       "Columns: [Petrol (USD), Diesel (USD), Year]\n",
       "Index: []"
      ]
     },
     "execution_count": 23,
     "metadata": {},
     "output_type": "execute_result"
    }
   ],
   "source": [
    "df[df['Petrol (USD)'].isnull()]"
   ]
  },
  {
   "cell_type": "code",
   "execution_count": 24,
   "id": "cead0384-0909-4c0d-b664-5ce5decf0273",
   "metadata": {},
   "outputs": [
    {
     "data": {
      "text/plain": [
       "Petrol (USD)    0\n",
       "Diesel (USD)    0\n",
       "Year            0\n",
       "dtype: int64"
      ]
     },
     "execution_count": 24,
     "metadata": {},
     "output_type": "execute_result"
    }
   ],
   "source": [
    "df.isnull().sum()"
   ]
  },
  {
   "cell_type": "code",
   "execution_count": 25,
   "id": "58227e61-ad4e-4d7c-918e-7da589338d32",
   "metadata": {},
   "outputs": [
    {
     "data": {
      "text/html": [
       "<div>\n",
       "<style scoped>\n",
       "    .dataframe tbody tr th:only-of-type {\n",
       "        vertical-align: middle;\n",
       "    }\n",
       "\n",
       "    .dataframe tbody tr th {\n",
       "        vertical-align: top;\n",
       "    }\n",
       "\n",
       "    .dataframe thead th {\n",
       "        text-align: right;\n",
       "    }\n",
       "</style>\n",
       "<table border=\"1\" class=\"dataframe\">\n",
       "  <thead>\n",
       "    <tr style=\"text-align: right;\">\n",
       "      <th></th>\n",
       "      <th>Petrol (USD)</th>\n",
       "      <th>Diesel (USD)</th>\n",
       "      <th>Year</th>\n",
       "    </tr>\n",
       "    <tr>\n",
       "      <th>Date</th>\n",
       "      <th></th>\n",
       "      <th></th>\n",
       "      <th></th>\n",
       "    </tr>\n",
       "  </thead>\n",
       "  <tbody>\n",
       "    <tr>\n",
       "      <th>2003-06-09</th>\n",
       "      <td>74.590284</td>\n",
       "      <td>76.773394</td>\n",
       "      <td>2003</td>\n",
       "    </tr>\n",
       "    <tr>\n",
       "      <th>2003-06-16</th>\n",
       "      <td>74.469143</td>\n",
       "      <td>76.689054</td>\n",
       "      <td>2003</td>\n",
       "    </tr>\n",
       "    <tr>\n",
       "      <th>2003-06-23</th>\n",
       "      <td>74.423566</td>\n",
       "      <td>76.620546</td>\n",
       "      <td>2003</td>\n",
       "    </tr>\n",
       "    <tr>\n",
       "      <th>2003-06-30</th>\n",
       "      <td>74.352421</td>\n",
       "      <td>76.505260</td>\n",
       "      <td>2003</td>\n",
       "    </tr>\n",
       "    <tr>\n",
       "      <th>2003-07-07</th>\n",
       "      <td>74.283737</td>\n",
       "      <td>76.457376</td>\n",
       "      <td>2003</td>\n",
       "    </tr>\n",
       "  </tbody>\n",
       "</table>\n",
       "</div>"
      ],
      "text/plain": [
       "            Petrol (USD)  Diesel (USD)  Year\n",
       "Date                                        \n",
       "2003-06-09     74.590284     76.773394  2003\n",
       "2003-06-16     74.469143     76.689054  2003\n",
       "2003-06-23     74.423566     76.620546  2003\n",
       "2003-06-30     74.352421     76.505260  2003\n",
       "2003-07-07     74.283737     76.457376  2003"
      ]
     },
     "execution_count": 25,
     "metadata": {},
     "output_type": "execute_result"
    }
   ],
   "source": [
    "df.head()"
   ]
  },
  {
   "cell_type": "code",
   "execution_count": 26,
   "id": "010b156c-f04f-4e2d-a149-7765e0dfe70c",
   "metadata": {},
   "outputs": [
    {
     "data": {
      "image/png": "[encoded data removed]",
      "text/plain": [
       "<Figure size 1080x432 with 1 Axes>"
      ]
     },
     "metadata": {
      "needs_background": "light"
     },
     "output_type": "display_data"
    }
   ],
   "source": [
    "#PLot Petrol and Diesel\n",
    "title = 'Weekly Fuel Price'\n",
    "ylabel='USD'\n",
    "xlabel=''\n",
    "\n",
    "ax = df['Petrol (USD)'].plot(figsize=(15,6),title=title,legend=True)\n",
    "ax.autoscale(axis='x',tight=True)\n",
    "ax.set(xlabel=xlabel, ylabel=ylabel)\n",
    "df['Diesel (USD)'].plot(legend=True);"
   ]
  },
  {
   "cell_type": "code",
   "execution_count": 27,
   "id": "01bce918-5612-4815-830f-064ef6b92b36",
   "metadata": {},
   "outputs": [
    {
     "data": {
      "text/html": [
       "<div>\n",
       "<style scoped>\n",
       "    .dataframe tbody tr th:only-of-type {\n",
       "        vertical-align: middle;\n",
       "    }\n",
       "\n",
       "    .dataframe tbody tr th {\n",
       "        vertical-align: top;\n",
       "    }\n",
       "\n",
       "    .dataframe thead th {\n",
       "        text-align: right;\n",
       "    }\n",
       "</style>\n",
       "<table border=\"1\" class=\"dataframe\">\n",
       "  <thead>\n",
       "    <tr style=\"text-align: right;\">\n",
       "      <th></th>\n",
       "      <th>Petrol (USD)</th>\n",
       "      <th>Diesel (USD)</th>\n",
       "    </tr>\n",
       "  </thead>\n",
       "  <tbody>\n",
       "    <tr>\n",
       "      <th>count</th>\n",
       "      <td>881.000000</td>\n",
       "      <td>881.000000</td>\n",
       "    </tr>\n",
       "    <tr>\n",
       "      <th>mean</th>\n",
       "      <td>111.107355</td>\n",
       "      <td>115.614675</td>\n",
       "    </tr>\n",
       "    <tr>\n",
       "      <th>std</th>\n",
       "      <td>18.588151</td>\n",
       "      <td>19.715905</td>\n",
       "    </tr>\n",
       "    <tr>\n",
       "      <th>min</th>\n",
       "      <td>74.206577</td>\n",
       "      <td>76.408120</td>\n",
       "    </tr>\n",
       "    <tr>\n",
       "      <th>25%</th>\n",
       "      <td>95.306029</td>\n",
       "      <td>98.513787</td>\n",
       "    </tr>\n",
       "    <tr>\n",
       "      <th>50%</th>\n",
       "      <td>114.782386</td>\n",
       "      <td>118.597998</td>\n",
       "    </tr>\n",
       "    <tr>\n",
       "      <th>75%</th>\n",
       "      <td>127.924651</td>\n",
       "      <td>132.872053</td>\n",
       "    </tr>\n",
       "    <tr>\n",
       "      <th>max</th>\n",
       "      <td>142.172754</td>\n",
       "      <td>148.037710</td>\n",
       "    </tr>\n",
       "  </tbody>\n",
       "</table>\n",
       "</div>"
      ],
      "text/plain": [
       "       Petrol (USD)  Diesel (USD)\n",
       "count    881.000000    881.000000\n",
       "mean     111.107355    115.614675\n",
       "std       18.588151     19.715905\n",
       "min       74.206577     76.408120\n",
       "25%       95.306029     98.513787\n",
       "50%      114.782386    118.597998\n",
       "75%      127.924651    132.872053\n",
       "max      142.172754    148.037710"
      ]
     },
     "execution_count": 27,
     "metadata": {},
     "output_type": "execute_result"
    }
   ],
   "source": [
    "df[['Petrol (USD)', 'Diesel (USD)']].describe()"
   ]
  },
  {
   "cell_type": "markdown",
   "id": "b0442673-55df-43ec-bd2b-2bea13c25735",
   "metadata": {},
   "source": [
    "## Petrol Forecast"
   ]
  },
  {
   "cell_type": "code",
   "execution_count": 28,
   "id": "ebc8307f-ed07-4f5c-9dfc-fe9702f68c13",
   "metadata": {},
   "outputs": [
    {
     "data": {
      "text/html": [
       "<div>\n",
       "<style scoped>\n",
       "    .dataframe tbody tr th:only-of-type {\n",
       "        vertical-align: middle;\n",
       "    }\n",
       "\n",
       "    .dataframe tbody tr th {\n",
       "        vertical-align: top;\n",
       "    }\n",
       "\n",
       "    .dataframe thead th {\n",
       "        text-align: right;\n",
       "    }\n",
       "</style>\n",
       "<table border=\"1\" class=\"dataframe\">\n",
       "  <thead>\n",
       "    <tr style=\"text-align: right;\">\n",
       "      <th></th>\n",
       "      <th>Petrol (USD)</th>\n",
       "      <th>MA3</th>\n",
       "      <th>MA9</th>\n",
       "    </tr>\n",
       "    <tr>\n",
       "      <th>Date</th>\n",
       "      <th></th>\n",
       "      <th></th>\n",
       "      <th></th>\n",
       "    </tr>\n",
       "  </thead>\n",
       "  <tbody>\n",
       "    <tr>\n",
       "      <th>2003-06-09</th>\n",
       "      <td>74.590284</td>\n",
       "      <td>NaN</td>\n",
       "      <td>NaN</td>\n",
       "    </tr>\n",
       "    <tr>\n",
       "      <th>2003-06-16</th>\n",
       "      <td>74.469143</td>\n",
       "      <td>NaN</td>\n",
       "      <td>NaN</td>\n",
       "    </tr>\n",
       "    <tr>\n",
       "      <th>2003-06-23</th>\n",
       "      <td>74.423566</td>\n",
       "      <td>NaN</td>\n",
       "      <td>NaN</td>\n",
       "    </tr>\n",
       "    <tr>\n",
       "      <th>2003-06-30</th>\n",
       "      <td>74.352421</td>\n",
       "      <td>74.494331</td>\n",
       "      <td>NaN</td>\n",
       "    </tr>\n",
       "    <tr>\n",
       "      <th>2003-07-07</th>\n",
       "      <td>74.283737</td>\n",
       "      <td>74.415043</td>\n",
       "      <td>NaN</td>\n",
       "    </tr>\n",
       "  </tbody>\n",
       "</table>\n",
       "</div>"
      ],
      "text/plain": [
       "            Petrol (USD)        MA3  MA9\n",
       "Date                                    \n",
       "2003-06-09     74.590284        NaN  NaN\n",
       "2003-06-16     74.469143        NaN  NaN\n",
       "2003-06-23     74.423566        NaN  NaN\n",
       "2003-06-30     74.352421  74.494331  NaN\n",
       "2003-07-07     74.283737  74.415043  NaN"
      ]
     },
     "execution_count": 28,
     "metadata": {},
     "output_type": "execute_result"
    }
   ],
   "source": [
    "#copy data\n",
    "df_petrol = df['Petrol (USD)']\n",
    "\n",
    "#create new dataframe\n",
    "df_petrol = pd.DataFrame(df_petrol, columns=['Petrol (USD)'])\n",
    "\n",
    "#Create MA3 and MA9\n",
    "df_petrol['MA3'] = df_petrol['Petrol (USD)'].shift(1).rolling(window=3).mean()\n",
    "df_petrol['MA9']= df_petrol['Petrol (USD)'].shift(1).rolling(window=9).mean()\n",
    "\n",
    "df_petrol.head()"
   ]
  },
  {
   "cell_type": "code",
   "execution_count": 29,
   "id": "34a2c843-3428-45a6-b028-acc3bb1a62b8",
   "metadata": {},
   "outputs": [],
   "source": [
    "#drop null value\n",
    "df_petrol.dropna(inplace=True)"
   ]
  },
  {
   "cell_type": "code",
   "execution_count": 30,
   "id": "cf5f8336-f9b0-4309-8bf9-83b3b04002cd",
   "metadata": {},
   "outputs": [
    {
     "data": {
      "text/html": [
       "<div>\n",
       "<style scoped>\n",
       "    .dataframe tbody tr th:only-of-type {\n",
       "        vertical-align: middle;\n",
       "    }\n",
       "\n",
       "    .dataframe tbody tr th {\n",
       "        vertical-align: top;\n",
       "    }\n",
       "\n",
       "    .dataframe thead th {\n",
       "        text-align: right;\n",
       "    }\n",
       "</style>\n",
       "<table border=\"1\" class=\"dataframe\">\n",
       "  <thead>\n",
       "    <tr style=\"text-align: right;\">\n",
       "      <th></th>\n",
       "      <th>MA3</th>\n",
       "      <th>MA9</th>\n",
       "    </tr>\n",
       "    <tr>\n",
       "      <th>Date</th>\n",
       "      <th></th>\n",
       "      <th></th>\n",
       "    </tr>\n",
       "  </thead>\n",
       "  <tbody>\n",
       "    <tr>\n",
       "      <th>2003-08-11</th>\n",
       "      <td>75.096826</td>\n",
       "      <td>74.624023</td>\n",
       "    </tr>\n",
       "    <tr>\n",
       "      <th>2003-08-18</th>\n",
       "      <td>75.223252</td>\n",
       "      <td>74.718938</td>\n",
       "    </tr>\n",
       "    <tr>\n",
       "      <th>2003-08-25</th>\n",
       "      <td>75.459283</td>\n",
       "      <td>74.867805</td>\n",
       "    </tr>\n",
       "    <tr>\n",
       "      <th>2003-09-01</th>\n",
       "      <td>75.768825</td>\n",
       "      <td>75.048854</td>\n",
       "    </tr>\n",
       "    <tr>\n",
       "      <th>2003-09-08</th>\n",
       "      <td>75.995940</td>\n",
       "      <td>75.245903</td>\n",
       "    </tr>\n",
       "  </tbody>\n",
       "</table>\n",
       "</div>"
      ],
      "text/plain": [
       "                  MA3        MA9\n",
       "Date                            \n",
       "2003-08-11  75.096826  74.624023\n",
       "2003-08-18  75.223252  74.718938\n",
       "2003-08-25  75.459283  74.867805\n",
       "2003-09-01  75.768825  75.048854\n",
       "2003-09-08  75.995940  75.245903"
      ]
     },
     "execution_count": 30,
     "metadata": {},
     "output_type": "execute_result"
    }
   ],
   "source": [
    "#Dependent variable\n",
    "X = df_petrol[['MA3','MA9']]\n",
    "X.head()"
   ]
  },
  {
   "cell_type": "code",
   "execution_count": 31,
   "id": "fff59fb5-2573-4dc6-8956-646cc5e8285a",
   "metadata": {},
   "outputs": [
    {
     "data": {
      "text/plain": [
       "Date\n",
       "2003-08-11    75.444516\n",
       "2003-08-18    75.808948\n",
       "2003-08-25    76.053011\n",
       "2003-09-01    76.125860\n",
       "2003-09-08    76.226190\n",
       "Name: Petrol (USD), dtype: float64"
      ]
     },
     "execution_count": 31,
     "metadata": {},
     "output_type": "execute_result"
    }
   ],
   "source": [
    "#independent variable\n",
    "y = df_petrol['Petrol (USD)']\n",
    "y.head()"
   ]
  },
  {
   "cell_type": "code",
   "execution_count": 32,
   "id": "255a25dd-0c19-4825-950d-ba09f5033f0c",
   "metadata": {},
   "outputs": [],
   "source": [
    "# Setting the training set to 80% of the data\n",
    "training = 0.8\n",
    "t = int(training*len(data))\n",
    "\n",
    "# Training dataset\n",
    "X_train = X[:t]\n",
    "y_train = y[:t]\n",
    "\n",
    "# Testing dataset\n",
    "X_test = X[t:]\n",
    "y_test = y[t:]\n",
    "\n",
    "# Generate the coefficient and constant for the regression\n",
    "model = LinearRegression().fit(X_train,y_train)"
   ]
  },
  {
   "cell_type": "code",
   "execution_count": 33,
   "id": "e49119be-b301-4cca-a4fa-fd95b8d19294",
   "metadata": {},
   "outputs": [
    {
     "data": {
      "image/png": "[encoded data removed]",
      "text/plain": [
       "<Figure size 720x360 with 1 Axes>"
      ]
     },
     "metadata": {
      "needs_background": "light"
     },
     "output_type": "display_data"
    }
   ],
   "source": [
    "predicted_price = model.predict(X_test)\n",
    "predicted_price = pd.DataFrame(predicted_price,index=y_test.index,columns = ['price'])\n",
    "predicted_price.plot(figsize=(10,5))\n",
    "y_test.plot()\n",
    "plt.legend(['Predicted Price','Actual Price'])\n",
    "plt.ylabel('Petrol Prices')\n",
    "plt.title('Predicted Price vs Actual Petrol Price')\n",
    "plt.show()"
   ]
  },
  {
   "cell_type": "code",
   "execution_count": 34,
   "id": "9d2360ac-fcf8-494c-8765-9a8c52aef12f",
   "metadata": {},
   "outputs": [
    {
     "name": "stdout",
     "output_type": "stream",
     "text": [
      "The model has a 93.75% accuracy.\n"
     ]
    }
   ],
   "source": [
    "# Computing the accuracy of our model\n",
    "R_squared_score = model.score(X_test,y_test)*100\n",
    "accuracy = (\"{0:.2f}\".format(R_squared_score))\n",
    "print (\"The model has a \" + accuracy + \"% accuracy.\")"
   ]
  },
  {
   "cell_type": "code",
   "execution_count": 35,
   "id": "88017728-b775-427d-9721-3ac3c6d67222",
   "metadata": {},
   "outputs": [],
   "source": [
    "#metrics function\n",
    "def eval_test(var1,var2): \n",
    "    \n",
    "    mse = mean_squared_error(var1, var2) #mean square error\n",
    "    rmse = np.sqrt(mse) #root mean square error\n",
    "    mae = mean_absolute_error(var1, var2) #mean absolute error\n",
    "    mape = mean_absolute_percentage_error(var1, var2) #mean absolute percentage error\n",
    "    \n",
    "    print(f'Mean Square Error \\t: {mse:5.6}')\n",
    "    print(f'Root Mean Square Error \\t: {rmse:5.6}')\n",
    "    print(f'Mean Absolute Error \\t: {mae:5.6}')\n",
    "    print(f'MAPE \\t\\t\\t: {mape:5.6}')"
   ]
  },
  {
   "cell_type": "code",
   "execution_count": 36,
   "id": "4195123a-63aa-4e39-89a0-96a57496c82b",
   "metadata": {},
   "outputs": [
    {
     "name": "stdout",
     "output_type": "stream",
     "text": [
      "Mean Square Error \t: 1.58615\n",
      "Root Mean Square Error \t: 1.25942\n",
      "Mean Absolute Error \t: 0.932103\n",
      "MAPE \t\t\t: 0.00768264\n"
     ]
    }
   ],
   "source": [
    "#evaluation for model\n",
    "eval_test(y_test, predicted_price)"
   ]
  },
  {
   "cell_type": "code",
   "execution_count": 37,
   "id": "a92448dc-8275-411e-87de-899219be4e72",
   "metadata": {},
   "outputs": [],
   "source": [
    "value3 = df_petrol[-3:]['Petrol (USD)'] #the last 3 fuel price\n",
    "value3.reset_index(drop=True, inplace=True) #reset index\n",
    "\n",
    "\n",
    "for i in range(3,6):\n",
    "    mean3 = value3[-3:].mean()\n",
    "    value3.loc[i] = mean3\n",
    "\n",
    "\n",
    "value9 = df_petrol[-9:]['Petrol (USD)'] #the last 9 fuel price\n",
    "value9.reset_index(drop=True, inplace=True)#reset index\n",
    "\n",
    "#calculate MA9 for next 3 period\n",
    "for i in range(9,12):\n",
    "    mean9 = value9[-9:].mean()\n",
    "    value9.loc[i] = mean9"
   ]
  },
  {
   "cell_type": "code",
   "execution_count": 38,
   "id": "2568c837-32d1-46ea-8616-7784d88b708c",
   "metadata": {},
   "outputs": [
    {
     "data": {
      "text/plain": [
       "0    110.234797\n",
       "1    109.265819\n",
       "2    108.632747\n",
       "3    109.377788\n",
       "4    109.092118\n",
       "5    109.034218\n",
       "Name: Petrol (USD), dtype: float64"
      ]
     },
     "execution_count": 38,
     "metadata": {},
     "output_type": "execute_result"
    }
   ],
   "source": [
    "value3"
   ]
  },
  {
   "cell_type": "code",
   "execution_count": 39,
   "id": "7d796229-c119-429a-b70b-ca97d85abd32",
   "metadata": {},
   "outputs": [
    {
     "data": {
      "text/plain": [
       "0     123.446449\n",
       "1     122.431272\n",
       "2     122.243981\n",
       "3     120.328169\n",
       "4     119.644504\n",
       "5     112.452709\n",
       "6     110.234797\n",
       "7     109.265819\n",
       "8     108.632747\n",
       "9     116.520050\n",
       "10    115.750450\n",
       "11    115.008136\n",
       "Name: Petrol (USD), dtype: float64"
      ]
     },
     "execution_count": 39,
     "metadata": {},
     "output_type": "execute_result"
    }
   ],
   "source": [
    "value9"
   ]
  },
  {
   "cell_type": "code",
   "execution_count": 40,
   "id": "4c5872a3-e3de-4336-a5e1-fad61d39b276",
   "metadata": {},
   "outputs": [
    {
     "data": {
      "text/html": [
       "<div>\n",
       "<style scoped>\n",
       "    .dataframe tbody tr th:only-of-type {\n",
       "        vertical-align: middle;\n",
       "    }\n",
       "\n",
       "    .dataframe tbody tr th {\n",
       "        vertical-align: top;\n",
       "    }\n",
       "\n",
       "    .dataframe thead th {\n",
       "        text-align: right;\n",
       "    }\n",
       "</style>\n",
       "<table border=\"1\" class=\"dataframe\">\n",
       "  <thead>\n",
       "    <tr style=\"text-align: right;\">\n",
       "      <th></th>\n",
       "      <th>MA3 Predict</th>\n",
       "      <th>MA9 Predict</th>\n",
       "      <th>Petrol Forecast</th>\n",
       "    </tr>\n",
       "  </thead>\n",
       "  <tbody>\n",
       "    <tr>\n",
       "      <th>2020-04-27</th>\n",
       "      <td>109.377788</td>\n",
       "      <td>116.520050</td>\n",
       "      <td>106.100991</td>\n",
       "    </tr>\n",
       "    <tr>\n",
       "      <th>2020-05-04</th>\n",
       "      <td>109.092118</td>\n",
       "      <td>115.750450</td>\n",
       "      <td>106.041839</td>\n",
       "    </tr>\n",
       "    <tr>\n",
       "      <th>2020-05-11</th>\n",
       "      <td>109.034218</td>\n",
       "      <td>115.008136</td>\n",
       "      <td>106.301997</td>\n",
       "    </tr>\n",
       "  </tbody>\n",
       "</table>\n",
       "</div>"
      ],
      "text/plain": [
       "            MA3 Predict  MA9 Predict  Petrol Forecast\n",
       "2020-04-27   109.377788   116.520050       106.100991\n",
       "2020-05-04   109.092118   115.750450       106.041839\n",
       "2020-05-11   109.034218   115.008136       106.301997"
      ]
     },
     "execution_count": 40,
     "metadata": {},
     "output_type": "execute_result"
    }
   ],
   "source": [
    "#collect the last 3 value as MA3 and MA9 forecast result\n",
    "MA_predict = pd.DataFrame([value3[-3:].reset_index(drop=True), value9[-3:].reset_index(drop=True)]).T\n",
    "MA_predict.columns = ['MA3 Predict', 'MA9 Predict']\n",
    "\n",
    "ts = pd.date_range('2020-04-20', periods=4, freq='W-Mon')[-3:] #date for 3 period\n",
    "\n",
    "MA_predict.set_index(ts, inplace=True) #set period as index\n",
    "\n",
    "forecast_price = model.predict(MA_predict) #predict the future value\n",
    "MA_predict['Petrol Forecast'] = forecast_price\n",
    "\n",
    "MA_predict"
   ]
  },
  {
   "cell_type": "markdown",
   "id": "ffcf4507-eee8-4868-9f14-aa5e4dd9e2d7",
   "metadata": {},
   "source": [
    "## Diesel Forecast"
   ]
  },
  {
   "cell_type": "code",
   "execution_count": 42,
   "id": "45992985-1137-45e1-905c-08611e41de72",
   "metadata": {},
   "outputs": [],
   "source": [
    "df_diesel = df['Diesel (USD)'] #copy data\n",
    "df_diesel = pd.DataFrame(df_diesel, columns=['Diesel (USD)']) #create new dataframe\n",
    "\n",
    "#Create MA3 and MA9\n",
    "df_diesel['MA3'] = df_diesel['Diesel (USD)'].shift(1).rolling(window=3).mean()\n",
    "df_diesel['MA9']= df_diesel['Diesel (USD)'].shift(1).rolling(window=9).mean()\n",
    "\n",
    "df_diesel.dropna(inplace=True) #drop null value\n",
    "X = df_diesel[['MA3','MA9']] #Dependent variable\n",
    "y = df_diesel['Diesel (USD)'] #independent variable\n",
    "\n",
    "# Setting the training set to 80% of the data\n",
    "training = 0.8\n",
    "t = int(training*len(data))\n",
    "\n",
    "# Training dataset\n",
    "X_train = X[:t]\n",
    "y_train = y[:t]\n",
    "\n",
    "# Testing dataset\n",
    "X_test = X[t:]\n",
    "y_test = y[t:]\n",
    "\n",
    "# Generate the coefficient and constant for the regression\n",
    "model = LinearRegression().fit(X_train,y_train) "
   ]
  },
  {
   "cell_type": "code",
   "execution_count": 43,
   "id": "f34c421b-d1b8-4e04-adb8-742aa07ce7b3",
   "metadata": {},
   "outputs": [
    {
     "data": {
      "image/png": "[encoded data removed]",
      "text/plain": [
       "<Figure size 720x360 with 1 Axes>"
      ]
     },
     "metadata": {
      "needs_background": "light"
     },
     "output_type": "display_data"
    }
   ],
   "source": [
    "predicted_price = model.predict(X_test)\n",
    "predicted_price = pd.DataFrame(predicted_price,index=y_test.index,columns = ['price'])\n",
    "predicted_price.plot(figsize=(10,5))\n",
    "y_test.plot()\n",
    "plt.legend(['Predicted Price','Actual Price'])\n",
    "plt.ylabel('Petrol Prices')\n",
    "plt.title('Predicted Price vs Actual Diesel Price')\n",
    "plt.show()"
   ]
  },
  {
   "cell_type": "code",
   "execution_count": 44,
   "id": "9430f4bd-ed0e-44f2-a04e-f0600fdc3637",
   "metadata": {},
   "outputs": [
    {
     "name": "stdout",
     "output_type": "stream",
     "text": [
      "The model has a 96.50% accuracy.\n"
     ]
    }
   ],
   "source": [
    "# Computing the accuracy of our model\n",
    "R_squared_score = model.score(X_test,y_test)*100\n",
    "accuracy = (\"{0:.2f}\".format(R_squared_score))\n",
    "print (\"The model has a \" + accuracy + \"% accuracy.\")"
   ]
  },
  {
   "cell_type": "code",
   "execution_count": 45,
   "id": "465459b5-f0c4-4b3a-a1ee-d61eac09d6fb",
   "metadata": {},
   "outputs": [
    {
     "name": "stdout",
     "output_type": "stream",
     "text": [
      "Mean Square Error \t: 1.29094\n",
      "Root Mean Square Error \t: 1.1362\n",
      "Mean Absolute Error \t: 0.872539\n",
      "MAPE \t\t\t: 0.00689611\n"
     ]
    }
   ],
   "source": [
    "#evaluation for model\n",
    "eval_test(y_test, predicted_price)"
   ]
  },
  {
   "cell_type": "code",
   "execution_count": 46,
   "id": "07da7c9a-f98d-4abb-b071-7666e83289cd",
   "metadata": {},
   "outputs": [],
   "source": [
    "value3 = df_diesel[-3:]['Diesel (USD)'] #the last 3 fuel price\n",
    "value3.reset_index(drop=True, inplace=True) #reset index\n",
    "\n",
    "#calculate MA3 for next 3 period\n",
    "for i in range(3,6):\n",
    "    mean3 = value3[-3:].mean()\n",
    "    value3.loc[i] = mean3\n",
    "\n",
    "\n",
    "value9 = df_diesel[-9:]['Diesel (USD)'] #the last 9 fuel price\n",
    "value9.reset_index(drop=True, inplace=True)#reset index\n",
    "\n",
    "#calculate MA9 for next 3 period\n",
    "for i in range(9,12):\n",
    "    mean9 = value9[-9:].mean()\n",
    "    value9.loc[i] = mean9"
   ]
  },
  {
   "cell_type": "code",
   "execution_count": 47,
   "id": "13d9cfac-391b-4123-ac12-22435b7d3255",
   "metadata": {},
   "outputs": [
    {
     "data": {
      "text/html": [
       "<div>\n",
       "<style scoped>\n",
       "    .dataframe tbody tr th:only-of-type {\n",
       "        vertical-align: middle;\n",
       "    }\n",
       "\n",
       "    .dataframe tbody tr th {\n",
       "        vertical-align: top;\n",
       "    }\n",
       "\n",
       "    .dataframe thead th {\n",
       "        text-align: right;\n",
       "    }\n",
       "</style>\n",
       "<table border=\"1\" class=\"dataframe\">\n",
       "  <thead>\n",
       "    <tr style=\"text-align: right;\">\n",
       "      <th></th>\n",
       "      <th>MA3 Predict</th>\n",
       "      <th>MA9 Predict</th>\n",
       "      <th>Diesel Forecast</th>\n",
       "    </tr>\n",
       "  </thead>\n",
       "  <tbody>\n",
       "    <tr>\n",
       "      <th>2020-04-27</th>\n",
       "      <td>116.238913</td>\n",
       "      <td>121.737470</td>\n",
       "      <td>113.714398</td>\n",
       "    </tr>\n",
       "    <tr>\n",
       "      <th>2020-05-04</th>\n",
       "      <td>116.040766</td>\n",
       "      <td>121.077809</td>\n",
       "      <td>113.731527</td>\n",
       "    </tr>\n",
       "    <tr>\n",
       "      <th>2020-05-11</th>\n",
       "      <td>116.004084</td>\n",
       "      <td>120.461736</td>\n",
       "      <td>113.963831</td>\n",
       "    </tr>\n",
       "  </tbody>\n",
       "</table>\n",
       "</div>"
      ],
      "text/plain": [
       "            MA3 Predict  MA9 Predict  Diesel Forecast\n",
       "2020-04-27   116.238913   121.737470       113.714398\n",
       "2020-05-04   116.040766   121.077809       113.731527\n",
       "2020-05-11   116.004084   120.461736       113.963831"
      ]
     },
     "execution_count": 47,
     "metadata": {},
     "output_type": "execute_result"
    }
   ],
   "source": [
    "#collect the last 3 value as MA3 and MA9 forecast result\n",
    "MA_predict = pd.DataFrame([value3[-3:].reset_index(drop=True), value9[-3:].reset_index(drop=True)]).T\n",
    "MA_predict.columns = ['MA3 Predict', 'MA9 Predict']\n",
    "\n",
    "ts = pd.date_range('2020-04-20', periods=4, freq='W-Mon')[-3:] #date for 3 period\n",
    "\n",
    "MA_predict.set_index(ts, inplace=True) #set period as index\n",
    "\n",
    "forecast_price = model.predict(MA_predict) #predict the future value\n",
    "MA_predict['Diesel Forecast'] = forecast_price\n",
    "\n",
    "MA_predict"
   ]
  },
  {
   "cell_type": "code",
   "execution_count": null,
   "id": "ace78596-2f4a-4faf-9e12-bc6ee9866811",
   "metadata": {},
   "outputs": [],
   "source": []
  }
 ],
 "metadata": {
  "kernelspec": {
   "display_name": "Python 3 (ipykernel)",
   "language": "python",
   "name": "python3"
  },
  "language_info": {
   "codemirror_mode": {
    "name": "ipython",
    "version": 3
   },
   "file_extension": ".py",
   "mimetype": "text/x-python",
   "name": "python",
   "nbconvert_exporter": "python",
   "pygments_lexer": "ipython3",
   "version": "3.8.8"
  }
 },
 "nbformat": 4,
 "nbformat_minor": 5
}
